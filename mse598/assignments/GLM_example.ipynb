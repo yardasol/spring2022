{
 "cells": [
  {
   "cell_type": "markdown",
   "id": "5c42ebfa",
   "metadata": {},
   "source": [
    "### NRT Lectures - Statistical Modeling"
   ]
  },
  {
   "cell_type": "markdown",
   "id": "299a7e01",
   "metadata": {},
   "source": [
    "# Generalized Linear Models"
   ]
  },
  {
   "cell_type": "code",
   "execution_count": null,
   "id": "96b4792f",
   "metadata": {},
   "outputs": [],
   "source": [
    "import pandas as pd\n",
    "import numpy as np\n",
    "import statsmodels.api as sm\n",
    "from statsmodels.formula.api import logit\n",
    "import matplotlib.pyplot as plt \n",
    "import math"
   ]
  },
  {
   "cell_type": "markdown",
   "id": "0ab4e6bf",
   "metadata": {},
   "source": [
    "## Example 1: Psych Data"
   ]
  },
  {
   "cell_type": "code",
   "execution_count": null,
   "id": "659b524d",
   "metadata": {},
   "outputs": [],
   "source": [
    "psych = pd.read_table(\"psych.txt\", sep=\" \")"
   ]
  },
  {
   "cell_type": "code",
   "execution_count": null,
   "id": "4063a0b0",
   "metadata": {},
   "outputs": [],
   "source": [
    "print (psych)"
   ]
  },
  {
   "cell_type": "code",
   "execution_count": null,
   "id": "875d5182",
   "metadata": {},
   "outputs": [],
   "source": [
    "endog = psych.iloc[:,0] #y: ill\n",
    "exog = sm.add_constant(psych.iloc[:,1:6]) # x1-x5 with the interception\n",
    "\n",
    "psychfit1 = sm.GLM(endog, exog, family=sm.families.Binomial())\n",
    "result1 = psychfit1.fit()\n",
    "print(result1.summary())"
   ]
  },
  {
   "cell_type": "code",
   "execution_count": null,
   "id": "827b6222",
   "metadata": {},
   "outputs": [],
   "source": [
    "# In another way\n",
    "logistic_model = logit('ill ~ x1+x2+x3+x4+x5',psych)\n",
    "result = logistic_model.fit()\n",
    "print(result.summary())"
   ]
  },
  {
   "cell_type": "code",
   "execution_count": null,
   "id": "ab50333c",
   "metadata": {},
   "outputs": [],
   "source": [
    "# Try using the total score only.\n",
    "endog = psych.iloc[:,0] #y: ill\n",
    "np.sum(psych.iloc[:,1:6], axis=1) # calcuate the row sum\n",
    "exog = sm.add_constant(np.sum(psych.iloc[:,1:6], axis=1))\n",
    "\n",
    "psychfit2 = sm.GLM(endog, exog, family=sm.families.Binomial())\n",
    "result2 = psychfit2.fit()\n",
    "print(result2.summary())"
   ]
  },
  {
   "cell_type": "code",
   "execution_count": null,
   "id": "99fdfba2",
   "metadata": {},
   "outputs": [],
   "source": [
    "# Plot fitted probabilities of illness versus the total score:\n",
    "def p(x):   # Calcuate the fitted probabilities\n",
    "    e = result2.params[\"const\"]+result2.params[0]*x\n",
    "    return(math.exp(e)/(1+math.exp(e)))\n",
    "\n",
    "fitprob = list(map(p, np.sum(psych.iloc[:,1:6], axis=1))) \n",
    "\n",
    "# plotting the points  \n",
    "plt.scatter(np.sum(psych.iloc[:,1:6], axis=1), fitprob)\n",
    "  \n",
    "# naming the x axis \n",
    "plt.xlabel('Total Score') \n",
    "# naming the y axis \n",
    "plt.ylabel('Fitted Probability of Illness') \n",
    "\n",
    "# function to show the plot \n",
    "plt.show()"
   ]
  },
  {
   "cell_type": "code",
   "execution_count": null,
   "id": "b9b8d802",
   "metadata": {},
   "outputs": [],
   "source": [
    "# Plot fitted probabilities of illness versus the total score:\n",
    "fitprob = result2.predict(sm.add_constant(np.sum(psych.iloc[:,1:6], axis=1)))\n",
    "\n",
    "# plotting the points  \n",
    "plt.scatter(np.sum(psych.iloc[:,1:6], axis=1), fitprob)\n",
    "  \n",
    "# naming the x axis \n",
    "plt.xlabel('Total Score') \n",
    "# naming the y axis \n",
    "plt.ylabel('Fitted Probability of Illness') \n",
    "\n",
    "# function to show the plot \n",
    "plt.show()"
   ]
  },
  {
   "cell_type": "markdown",
   "id": "0bfcb727",
   "metadata": {},
   "source": [
    "## Example 2: Snoring & Heart Disease Data"
   ]
  },
  {
   "cell_type": "code",
   "execution_count": null,
   "id": "d0263f9c",
   "metadata": {},
   "outputs": [],
   "source": [
    "data = np.array([(24, 1355, 0),(35, 603, 2),(21,192, 4), (30, 224, 5)])\n",
    "snoreheart = pd.DataFrame(data, columns=['Disease',  'NoDisease',  'Snoring'])\n",
    "snoreheart"
   ]
  },
  {
   "cell_type": "code",
   "execution_count": null,
   "id": "cd5b307b",
   "metadata": {},
   "outputs": [],
   "source": [
    "endog = snoreheart.iloc[:,:2] #y: Disease and NoDisease\n",
    "exog = sm.add_constant(snoreheart.Snoring) # Snoring with the interception\n",
    "\n",
    "snorefit = sm.GLM(endog, exog, family=sm.families.Binomial())\n",
    "result3 = snorefit.fit()\n",
    "print(result3.summary())"
   ]
  },
  {
   "cell_type": "code",
   "execution_count": null,
   "id": "d8eb913c",
   "metadata": {},
   "outputs": [],
   "source": [
    "plt.scatter(snoreheart.Snoring, snoreheart.Disease/(snoreheart.Disease+snoreheart.NoDisease))\n",
    "plt.xlabel('Snoring Level')\n",
    "plt.ylabel('Prob. Heart Disease')\n",
    "x = np.linspace(0, 5, 200)\n",
    "plt.plot(x, result3.predict(sm.add_constant(x)))\n",
    "plt.show()"
   ]
  },
  {
   "cell_type": "markdown",
   "id": "8d8ad01d",
   "metadata": {},
   "source": [
    "## Example 3: Horseshoe Crab Data"
   ]
  },
  {
   "cell_type": "code",
   "execution_count": null,
   "id": "344fed3e",
   "metadata": {},
   "outputs": [],
   "source": [
    "horseshoe = pd.read_table(\"horseshoe.txt\", sep = \" \")\n",
    "horseshoe = horseshoe.iloc[:,:6]"
   ]
  },
  {
   "cell_type": "code",
   "execution_count": null,
   "id": "16933fa3",
   "metadata": {},
   "outputs": [],
   "source": [
    "horseshoe"
   ]
  },
  {
   "cell_type": "code",
   "execution_count": null,
   "id": "00ab1db1",
   "metadata": {},
   "outputs": [],
   "source": [
    "# plotting the points  \n",
    "plt.scatter(horseshoe.width, horseshoe.satell) \n",
    "  \n",
    "# naming the x axis \n",
    "plt.xlabel('Width') \n",
    "# naming the y axis \n",
    "plt.ylabel('Number of Satellites') \n",
    "\n",
    "# function to show the plot \n",
    "plt.show()"
   ]
  },
  {
   "cell_type": "code",
   "execution_count": null,
   "id": "fbedad93",
   "metadata": {},
   "outputs": [],
   "source": [
    "endog = horseshoe.satell\n",
    "exog = sm.add_constant(horseshoe.width)\n",
    "\n",
    "snorefit = sm.GLM(endog, exog, family=sm.families.Poisson())\n",
    "result4 = snorefit.fit()\n",
    "print(result4.summary())"
   ]
  },
  {
   "cell_type": "markdown",
   "id": "6cd388e7",
   "metadata": {},
   "source": [
    "## Example 4: British Train Collisions"
   ]
  },
  {
   "cell_type": "code",
   "execution_count": null,
   "id": "49e3d029",
   "metadata": {},
   "outputs": [],
   "source": [
    "tc = pd.read_table(\"traincollisions.txt\", sep = \" \")\n",
    "tc"
   ]
  },
  {
   "cell_type": "code",
   "execution_count": null,
   "id": "e4e554d2",
   "metadata": {},
   "outputs": [],
   "source": [
    "endog = tc.TrRd\n",
    "exog = sm.add_constant(tc.Year-1975)\n",
    "\n",
    "tcfit = sm.GLM(endog, exog, offset = np.log(tc.KM), family=sm.families.Poisson()) #offset = log(KM)\n",
    "result5 = tcfit.fit()\n",
    "print(result5.summary())"
   ]
  },
  {
   "cell_type": "code",
   "execution_count": null,
   "id": "2a100fac",
   "metadata": {},
   "outputs": [],
   "source": [
    "plt.scatter(tc.Year, 1000*tc.TrRd/tc.KM)\n",
    "plt.ylabel('Collisions per Billion Train-Kilometers')\n",
    "plt.xlabel('Year')\n",
    "newyear = np.linspace(1975, 2005, 200)\n",
    "KM = [1]*200\n",
    "result5.predict(sm.add_constant(newyear-1975), offset = np.log(KM)) # predict when KM=1, log(1)=0\n",
    "# result5.predict(sm.add_constant(newyear-1975), offset = [0]*200)\n",
    "plt.plot(newyear, 1000 * result5.predict(sm.add_constant(newyear-1975), offset =  np.log(KM)))\n",
    "plt.show()"
   ]
  }
 ],
 "metadata": {
  "kernelspec": {
   "display_name": "Python [conda env:viz] *",
   "language": "python",
   "name": "conda-env-viz-py"
  },
  "language_info": {
   "codemirror_mode": {
    "name": "ipython",
    "version": 3
   },
   "file_extension": ".py",
   "mimetype": "text/x-python",
   "name": "python",
   "nbconvert_exporter": "python",
   "pygments_lexer": "ipython3",
   "version": "3.10.2"
  }
 },
 "nbformat": 4,
 "nbformat_minor": 5
}
