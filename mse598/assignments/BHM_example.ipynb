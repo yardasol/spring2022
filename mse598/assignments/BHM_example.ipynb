{
 "cells": [
  {
   "cell_type": "markdown",
   "id": "a0a6d96b",
   "metadata": {},
   "source": [
    "#### NRT Lectures - Statistical Modeling"
   ]
  },
  {
   "cell_type": "markdown",
   "id": "548dbcc9",
   "metadata": {},
   "source": [
    "# Bayesian Hierarchical Model"
   ]
  },
  {
   "cell_type": "markdown",
   "id": "dcdbd655",
   "metadata": {},
   "source": [
    "### Rat Tumor Example"
   ]
  },
  {
   "cell_type": "code",
   "execution_count": 1,
   "id": "6076ea36",
   "metadata": {},
   "outputs": [],
   "source": [
    "import math\n",
    "import random\n",
    "import numpy as np\n",
    "import pandas as pd\n",
    "# import graphviz\n",
    "# from pymc3 import model_to_graphviz\n",
    "import pymc3 as pm\n",
    "from pymc3 import Model, sample, Beta, Binomial, Exponential, Uniform, summary, plot_posterior, model_to_graphviz, Deterministic\n",
    "import matplotlib.pyplot as plt\n",
    "# import os\n",
    "# os.environ[\"PATH\"] += os.pathsep + 'C:\\Program Files\\Python37\\Lib\\site-packages\\graphviz\\dot.py'"
   ]
  },
  {
   "cell_type": "code",
   "execution_count": 2,
   "id": "1af48e4f",
   "metadata": {},
   "outputs": [
    {
     "data": {
      "text/html": [
       "<div>\n",
       "<style scoped>\n",
       "    .dataframe tbody tr th:only-of-type {\n",
       "        vertical-align: middle;\n",
       "    }\n",
       "\n",
       "    .dataframe tbody tr th {\n",
       "        vertical-align: top;\n",
       "    }\n",
       "\n",
       "    .dataframe thead th {\n",
       "        text-align: right;\n",
       "    }\n",
       "</style>\n",
       "<table border=\"1\" class=\"dataframe\">\n",
       "  <thead>\n",
       "    <tr style=\"text-align: right;\">\n",
       "      <th></th>\n",
       "      <th>y</th>\n",
       "      <th>N</th>\n",
       "    </tr>\n",
       "  </thead>\n",
       "  <tbody>\n",
       "    <tr>\n",
       "      <th>0</th>\n",
       "      <td>0</td>\n",
       "      <td>20</td>\n",
       "    </tr>\n",
       "    <tr>\n",
       "      <th>1</th>\n",
       "      <td>0</td>\n",
       "      <td>20</td>\n",
       "    </tr>\n",
       "    <tr>\n",
       "      <th>2</th>\n",
       "      <td>0</td>\n",
       "      <td>20</td>\n",
       "    </tr>\n",
       "    <tr>\n",
       "      <th>3</th>\n",
       "      <td>0</td>\n",
       "      <td>20</td>\n",
       "    </tr>\n",
       "    <tr>\n",
       "      <th>4</th>\n",
       "      <td>0</td>\n",
       "      <td>20</td>\n",
       "    </tr>\n",
       "    <tr>\n",
       "      <th>...</th>\n",
       "      <td>...</td>\n",
       "      <td>...</td>\n",
       "    </tr>\n",
       "    <tr>\n",
       "      <th>66</th>\n",
       "      <td>16</td>\n",
       "      <td>52</td>\n",
       "    </tr>\n",
       "    <tr>\n",
       "      <th>67</th>\n",
       "      <td>15</td>\n",
       "      <td>46</td>\n",
       "    </tr>\n",
       "    <tr>\n",
       "      <th>68</th>\n",
       "      <td>15</td>\n",
       "      <td>47</td>\n",
       "    </tr>\n",
       "    <tr>\n",
       "      <th>69</th>\n",
       "      <td>9</td>\n",
       "      <td>24</td>\n",
       "    </tr>\n",
       "    <tr>\n",
       "      <th>70</th>\n",
       "      <td>4</td>\n",
       "      <td>14</td>\n",
       "    </tr>\n",
       "  </tbody>\n",
       "</table>\n",
       "<p>71 rows × 2 columns</p>\n",
       "</div>"
      ],
      "text/plain": [
       "     y   N\n",
       "0    0  20\n",
       "1    0  20\n",
       "2    0  20\n",
       "3    0  20\n",
       "4    0  20\n",
       "..  ..  ..\n",
       "66  16  52\n",
       "67  15  46\n",
       "68  15  47\n",
       "69   9  24\n",
       "70   4  14\n",
       "\n",
       "[71 rows x 2 columns]"
      ]
     },
     "execution_count": 2,
     "metadata": {},
     "output_type": "execute_result"
    }
   ],
   "source": [
    "d =  pd.read_table(\"rattumor.txt\", sep = \" \")\n",
    "d = d.iloc[:,:2]\n",
    "d"
   ]
  },
  {
   "cell_type": "code",
   "execution_count": 3,
   "id": "8d6d81c2",
   "metadata": {},
   "outputs": [
    {
     "data": {
      "text/html": [
       "<div>\n",
       "<style scoped>\n",
       "    .dataframe tbody tr th:only-of-type {\n",
       "        vertical-align: middle;\n",
       "    }\n",
       "\n",
       "    .dataframe tbody tr th {\n",
       "        vertical-align: top;\n",
       "    }\n",
       "\n",
       "    .dataframe thead th {\n",
       "        text-align: right;\n",
       "    }\n",
       "</style>\n",
       "<table border=\"1\" class=\"dataframe\">\n",
       "  <thead>\n",
       "    <tr style=\"text-align: right;\">\n",
       "      <th></th>\n",
       "      <th>y</th>\n",
       "      <th>N</th>\n",
       "    </tr>\n",
       "  </thead>\n",
       "  <tbody>\n",
       "    <tr>\n",
       "      <th>count</th>\n",
       "      <td>71.000000</td>\n",
       "      <td>71.000000</td>\n",
       "    </tr>\n",
       "    <tr>\n",
       "      <th>mean</th>\n",
       "      <td>3.760563</td>\n",
       "      <td>24.492958</td>\n",
       "    </tr>\n",
       "    <tr>\n",
       "      <th>std</th>\n",
       "      <td>3.811504</td>\n",
       "      <td>10.973830</td>\n",
       "    </tr>\n",
       "    <tr>\n",
       "      <th>min</th>\n",
       "      <td>0.000000</td>\n",
       "      <td>10.000000</td>\n",
       "    </tr>\n",
       "    <tr>\n",
       "      <th>25%</th>\n",
       "      <td>1.000000</td>\n",
       "      <td>19.000000</td>\n",
       "    </tr>\n",
       "    <tr>\n",
       "      <th>50%</th>\n",
       "      <td>3.000000</td>\n",
       "      <td>20.000000</td>\n",
       "    </tr>\n",
       "    <tr>\n",
       "      <th>75%</th>\n",
       "      <td>5.000000</td>\n",
       "      <td>22.500000</td>\n",
       "    </tr>\n",
       "    <tr>\n",
       "      <th>max</th>\n",
       "      <td>16.000000</td>\n",
       "      <td>52.000000</td>\n",
       "    </tr>\n",
       "  </tbody>\n",
       "</table>\n",
       "</div>"
      ],
      "text/plain": [
       "               y          N\n",
       "count  71.000000  71.000000\n",
       "mean    3.760563  24.492958\n",
       "std     3.811504  10.973830\n",
       "min     0.000000  10.000000\n",
       "25%     1.000000  19.000000\n",
       "50%     3.000000  20.000000\n",
       "75%     5.000000  22.500000\n",
       "max    16.000000  52.000000"
      ]
     },
     "execution_count": 3,
     "metadata": {},
     "output_type": "execute_result"
    }
   ],
   "source": [
    "d.describe()"
   ]
  },
  {
   "cell_type": "markdown",
   "id": "9fb7f621",
   "metadata": {},
   "source": [
    "A naive estimate of $\\theta_j$ is $\\hat{\\theta}_j = 𝑦_{𝑗}/𝑛_{j}$"
   ]
  },
  {
   "cell_type": "markdown",
   "id": "cdbc4622",
   "metadata": {},
   "source": [
    "Histogram of $\\hat{\\theta}_j$"
   ]
  },
  {
   "cell_type": "code",
   "execution_count": 4,
   "id": "c98c6093",
   "metadata": {},
   "outputs": [
    {
     "data": {
      "text/plain": [
       "<function matplotlib.pyplot.show(close=None, block=None)>"
      ]
     },
     "execution_count": 4,
     "metadata": {},
     "output_type": "execute_result"
    },
    {
     "data": {
      "image/png": "[encoded data removed]",
      "text/plain": [
       "<Figure size 432x288 with 1 Axes>"
      ]
     },
     "metadata": {
      "needs_background": "light"
     },
     "output_type": "display_data"
    }
   ],
   "source": [
    "plt.hist(d.y/d.N, range = (0,1), bins = 18, density=True)\n",
    "plt.title(\"Histogram of naive estimate\")\n",
    "plt.show"
   ]
  },
  {
   "cell_type": "code",
   "execution_count": 5,
   "id": "cf9210fd",
   "metadata": {},
   "outputs": [],
   "source": [
    "with Model() as model1:\n",
    "\n",
    "    # Priors\n",
    "    alpha = Exponential('alpha', 0.001)\n",
    "    beta = Exponential('beta', 0.001)\n",
    "\n",
    "    theta = Beta('theta', alpha=alpha, beta=beta, shape=71)\n",
    "\n",
    "    # Data likelihood\n",
    "    y_like = Binomial('y_like', n=d.N, p=theta, observed=d.y)"
   ]
  },
  {
   "cell_type": "code",
   "execution_count": 6,
   "id": "d555caab",
   "metadata": {},
   "outputs": [
    {
     "name": "stderr",
     "output_type": "stream",
     "text": [
      "/tmp/ipykernel_9952/1044724547.py:3: FutureWarning: In v4.0, pm.sample will return an `arviz.InferenceData` object instead of a `MultiTrace` by default. You can pass return_inferencedata=True or return_inferencedata=False to be safe and silence this warning.\n",
      "  trace1 = sample(100, tune=100)\n",
      "Only 100 samples in chain.\n",
      "Auto-assigning NUTS sampler...\n",
      "Initializing NUTS using jitter+adapt_diag...\n",
      "Multiprocess sampling (2 chains in 2 jobs)\n",
      "NUTS: [theta, beta, alpha]\n"
     ]
    },
    {
     "data": {
      "text/html": [
       "\n",
       "<style>\n",
       "    /* Turns off some styling */\n",
       "    progress {\n",
       "        /* gets rid of default border in Firefox and Opera. */\n",
       "        border: none;\n",
       "        /* Needs to be in here for Safari polyfill so background images work as expected. */\n",
       "        background-size: auto;\n",
       "    }\n",
       "    .progress-bar-interrupted, .progress-bar-interrupted::-webkit-progress-bar {\n",
       "        background: #F44336;\n",
       "    }\n",
       "</style>\n"
      ],
      "text/plain": [
       "<IPython.core.display.HTML object>"
      ]
     },
     "metadata": {},
     "output_type": "display_data"
    },
    {
     "data": {
      "text/html": [
       "\n",
       "    <div>\n",
       "      <progress value='400' class='' max='400' style='width:300px; height:20px; vertical-align: middle;'></progress>\n",
       "      100.00% [400/400 00:02<00:00 Sampling 2 chains, 0 divergences]\n",
       "    </div>\n",
       "    "
      ],
      "text/plain": [
       "<IPython.core.display.HTML object>"
      ]
     },
     "metadata": {},
     "output_type": "display_data"
    },
    {
     "name": "stderr",
     "output_type": "stream",
     "text": [
      "Sampling 2 chains for 100 tune and 100 draw iterations (200 + 200 draws total) took 3 seconds.\n",
      "The acceptance probability does not match the target. It is 0.9763936443680605, but should be close to 0.8. Try to increase the number of tuning steps.\n",
      "The acceptance probability does not match the target. It is 0.920349624272922, but should be close to 0.8. Try to increase the number of tuning steps.\n",
      "The rhat statistic is larger than 1.05 for some parameters. This indicates slight problems during sampling.\n",
      "The number of effective samples is smaller than 10% for some parameters.\n"
     ]
    }
   ],
   "source": [
    "random.seed(100)\n",
    "with model1:\n",
    "    trace1 = sample(100, tune=100)"
   ]
  },
  {
   "cell_type": "code",
   "execution_count": 7,
   "id": "7309946b",
   "metadata": {},
   "outputs": [
    {
     "name": "stderr",
     "output_type": "stream",
     "text": [
      "/home/ooblack/miniconda3/envs/viz/lib/python3.10/site-packages/arviz/data/io_pymc3.py:96: FutureWarning: Using `from_pymc3` without the model will be deprecated in a future release. Not using the model will return less accurate and less useful results. Make sure you use the model argument or call from_pymc3 within a model context.\n",
      "  warnings.warn(\n"
     ]
    },
    {
     "data": {
      "text/html": [
       "<div>\n",
       "<style scoped>\n",
       "    .dataframe tbody tr th:only-of-type {\n",
       "        vertical-align: middle;\n",
       "    }\n",
       "\n",
       "    .dataframe tbody tr th {\n",
       "        vertical-align: top;\n",
       "    }\n",
       "\n",
       "    .dataframe thead th {\n",
       "        text-align: right;\n",
       "    }\n",
       "</style>\n",
       "<table border=\"1\" class=\"dataframe\">\n",
       "  <thead>\n",
       "    <tr style=\"text-align: right;\">\n",
       "      <th></th>\n",
       "      <th>mean</th>\n",
       "      <th>sd</th>\n",
       "      <th>hdi_3%</th>\n",
       "      <th>hdi_97%</th>\n",
       "      <th>mcse_mean</th>\n",
       "      <th>mcse_sd</th>\n",
       "      <th>ess_bulk</th>\n",
       "      <th>ess_tail</th>\n",
       "      <th>r_hat</th>\n",
       "    </tr>\n",
       "  </thead>\n",
       "  <tbody>\n",
       "    <tr>\n",
       "      <th>alpha</th>\n",
       "      <td>3.119</td>\n",
       "      <td>1.399</td>\n",
       "      <td>1.164</td>\n",
       "      <td>5.611</td>\n",
       "      <td>0.368</td>\n",
       "      <td>0.272</td>\n",
       "      <td>17.0</td>\n",
       "      <td>21.0</td>\n",
       "      <td>1.09</td>\n",
       "    </tr>\n",
       "    <tr>\n",
       "      <th>beta</th>\n",
       "      <td>18.891</td>\n",
       "      <td>7.971</td>\n",
       "      <td>6.632</td>\n",
       "      <td>34.316</td>\n",
       "      <td>1.771</td>\n",
       "      <td>1.271</td>\n",
       "      <td>22.0</td>\n",
       "      <td>33.0</td>\n",
       "      <td>1.07</td>\n",
       "    </tr>\n",
       "    <tr>\n",
       "      <th>theta[0]</th>\n",
       "      <td>0.075</td>\n",
       "      <td>0.045</td>\n",
       "      <td>0.001</td>\n",
       "      <td>0.163</td>\n",
       "      <td>0.005</td>\n",
       "      <td>0.004</td>\n",
       "      <td>58.0</td>\n",
       "      <td>63.0</td>\n",
       "      <td>1.03</td>\n",
       "    </tr>\n",
       "    <tr>\n",
       "      <th>theta[1]</th>\n",
       "      <td>0.071</td>\n",
       "      <td>0.038</td>\n",
       "      <td>0.003</td>\n",
       "      <td>0.135</td>\n",
       "      <td>0.005</td>\n",
       "      <td>0.003</td>\n",
       "      <td>56.0</td>\n",
       "      <td>73.0</td>\n",
       "      <td>1.03</td>\n",
       "    </tr>\n",
       "    <tr>\n",
       "      <th>theta[2]</th>\n",
       "      <td>0.069</td>\n",
       "      <td>0.045</td>\n",
       "      <td>0.004</td>\n",
       "      <td>0.150</td>\n",
       "      <td>0.004</td>\n",
       "      <td>0.003</td>\n",
       "      <td>119.0</td>\n",
       "      <td>87.0</td>\n",
       "      <td>1.01</td>\n",
       "    </tr>\n",
       "    <tr>\n",
       "      <th>...</th>\n",
       "      <td>...</td>\n",
       "      <td>...</td>\n",
       "      <td>...</td>\n",
       "      <td>...</td>\n",
       "      <td>...</td>\n",
       "      <td>...</td>\n",
       "      <td>...</td>\n",
       "      <td>...</td>\n",
       "      <td>...</td>\n",
       "    </tr>\n",
       "    <tr>\n",
       "      <th>theta[66]</th>\n",
       "      <td>0.259</td>\n",
       "      <td>0.056</td>\n",
       "      <td>0.160</td>\n",
       "      <td>0.357</td>\n",
       "      <td>0.003</td>\n",
       "      <td>0.002</td>\n",
       "      <td>349.0</td>\n",
       "      <td>121.0</td>\n",
       "      <td>1.01</td>\n",
       "    </tr>\n",
       "    <tr>\n",
       "      <th>theta[67]</th>\n",
       "      <td>0.274</td>\n",
       "      <td>0.058</td>\n",
       "      <td>0.170</td>\n",
       "      <td>0.384</td>\n",
       "      <td>0.003</td>\n",
       "      <td>0.003</td>\n",
       "      <td>419.0</td>\n",
       "      <td>157.0</td>\n",
       "      <td>1.05</td>\n",
       "    </tr>\n",
       "    <tr>\n",
       "      <th>theta[68]</th>\n",
       "      <td>0.265</td>\n",
       "      <td>0.057</td>\n",
       "      <td>0.151</td>\n",
       "      <td>0.371</td>\n",
       "      <td>0.003</td>\n",
       "      <td>0.003</td>\n",
       "      <td>304.0</td>\n",
       "      <td>141.0</td>\n",
       "      <td>1.02</td>\n",
       "    </tr>\n",
       "    <tr>\n",
       "      <th>theta[69]</th>\n",
       "      <td>0.267</td>\n",
       "      <td>0.079</td>\n",
       "      <td>0.151</td>\n",
       "      <td>0.444</td>\n",
       "      <td>0.005</td>\n",
       "      <td>0.004</td>\n",
       "      <td>288.0</td>\n",
       "      <td>118.0</td>\n",
       "      <td>1.08</td>\n",
       "    </tr>\n",
       "    <tr>\n",
       "      <th>theta[70]</th>\n",
       "      <td>0.201</td>\n",
       "      <td>0.066</td>\n",
       "      <td>0.094</td>\n",
       "      <td>0.324</td>\n",
       "      <td>0.003</td>\n",
       "      <td>0.002</td>\n",
       "      <td>285.0</td>\n",
       "      <td>198.0</td>\n",
       "      <td>1.00</td>\n",
       "    </tr>\n",
       "  </tbody>\n",
       "</table>\n",
       "<p>73 rows × 9 columns</p>\n",
       "</div>"
      ],
      "text/plain": [
       "             mean     sd  hdi_3%  hdi_97%  mcse_mean  mcse_sd  ess_bulk  \\\n",
       "alpha       3.119  1.399   1.164    5.611      0.368    0.272      17.0   \n",
       "beta       18.891  7.971   6.632   34.316      1.771    1.271      22.0   \n",
       "theta[0]    0.075  0.045   0.001    0.163      0.005    0.004      58.0   \n",
       "theta[1]    0.071  0.038   0.003    0.135      0.005    0.003      56.0   \n",
       "theta[2]    0.069  0.045   0.004    0.150      0.004    0.003     119.0   \n",
       "...           ...    ...     ...      ...        ...      ...       ...   \n",
       "theta[66]   0.259  0.056   0.160    0.357      0.003    0.002     349.0   \n",
       "theta[67]   0.274  0.058   0.170    0.384      0.003    0.003     419.0   \n",
       "theta[68]   0.265  0.057   0.151    0.371      0.003    0.003     304.0   \n",
       "theta[69]   0.267  0.079   0.151    0.444      0.005    0.004     288.0   \n",
       "theta[70]   0.201  0.066   0.094    0.324      0.003    0.002     285.0   \n",
       "\n",
       "           ess_tail  r_hat  \n",
       "alpha          21.0   1.09  \n",
       "beta           33.0   1.07  \n",
       "theta[0]       63.0   1.03  \n",
       "theta[1]       73.0   1.03  \n",
       "theta[2]       87.0   1.01  \n",
       "...             ...    ...  \n",
       "theta[66]     121.0   1.01  \n",
       "theta[67]     157.0   1.05  \n",
       "theta[68]     141.0   1.02  \n",
       "theta[69]     118.0   1.08  \n",
       "theta[70]     198.0   1.00  \n",
       "\n",
       "[73 rows x 9 columns]"
      ]
     },
     "execution_count": 7,
     "metadata": {},
     "output_type": "execute_result"
    }
   ],
   "source": [
    "summary(trace1)"
   ]
  },
  {
   "cell_type": "code",
   "execution_count": 8,
   "id": "b9ac0d10",
   "metadata": {},
   "outputs": [
    {
     "data": {
      "text/plain": [
       "<AxesSubplot:title={'center':'x'}>"
      ]
     },
     "execution_count": 8,
     "metadata": {},
     "output_type": "execute_result"
    },
    {
     "data": {
      "image/png": "[encoded data removed]",
      "text/plain": [
       "<Figure size 432x288 with 1 Axes>"
      ]
     },
     "metadata": {
      "needs_background": "light"
     },
     "output_type": "display_data"
    }
   ],
   "source": [
    "plot_posterior(trace1['alpha'])"
   ]
  },
  {
   "cell_type": "code",
   "execution_count": 9,
   "id": "499b9ab3",
   "metadata": {},
   "outputs": [
    {
     "data": {
      "text/plain": [
       "<AxesSubplot:title={'center':'x'}>"
      ]
     },
     "execution_count": 9,
     "metadata": {},
     "output_type": "execute_result"
    },
    {
     "data": {
      "image/png": "[encoded data removed]",
      "text/plain": [
       "<Figure size 432x288 with 1 Axes>"
      ]
     },
     "metadata": {
      "needs_background": "light"
     },
     "output_type": "display_data"
    }
   ],
   "source": [
    "plot_posterior(trace1['beta'])"
   ]
  },
  {
   "cell_type": "code",
   "execution_count": 10,
   "id": "2b634438",
   "metadata": {},
   "outputs": [
    {
     "data": {
      "image/png": "[encoded data removed]",
      "text/plain": [
       "<Figure size 432x288 with 1 Axes>"
      ]
     },
     "metadata": {
      "needs_background": "light"
     },
     "output_type": "display_data"
    }
   ],
   "source": [
    "alpha = trace1.get_values(varname='alpha')\n",
    "beta = trace1.get_values(varname='beta')\n",
    "plt.scatter(alpha, beta)\n",
    "plt.xlabel('alpha')\n",
    "plt.ylabel('beta')\n",
    "plt.show()"
   ]
  },
  {
   "cell_type": "code",
   "execution_count": 11,
   "id": "277e43ef",
   "metadata": {},
   "outputs": [
    {
     "data": {
      "image/png": "[encoded data removed]",
      "text/plain": [
       "<Figure size 432x288 with 1 Axes>"
      ]
     },
     "metadata": {
      "needs_background": "light"
     },
     "output_type": "display_data"
    }
   ],
   "source": [
    "plt.scatter(np.log(alpha/beta), np.log(alpha+beta))\n",
    "plt.xlabel('log(alpha/beta)')\n",
    "plt.ylabel('log(alpha+beta)')\n",
    "plt.show()"
   ]
  },
  {
   "cell_type": "markdown",
   "id": "137bfc2f",
   "metadata": {},
   "source": [
    "### Try another prior"
   ]
  },
  {
   "cell_type": "code",
   "execution_count": 12,
   "id": "b4ad2d3e",
   "metadata": {},
   "outputs": [],
   "source": [
    "with Model() as model2:\n",
    "\n",
    "    phi1 = Uniform('phi1', lower=0, upper=1)\n",
    "    phi2 = Uniform('phi2', lower=0, upper=1000)\n",
    "\n",
    "    alpha = Deterministic('alpha', phi1 / (phi2**2))\n",
    "    beta = Deterministic('beta', (1-phi1) / phi2**2)\n",
    "\n",
    "    theta = Beta('theta', alpha=alpha, beta=beta, shape=71)\n",
    "\n",
    "    # Data likelihood\n",
    "    y_like = Binomial('y_like', n=d.N, p=theta, observed=d.y)"
   ]
  },
  {
   "cell_type": "code",
   "execution_count": 13,
   "id": "267938b1",
   "metadata": {},
   "outputs": [
    {
     "name": "stderr",
     "output_type": "stream",
     "text": [
      "/tmp/ipykernel_9952/2992495953.py:3: FutureWarning: In v4.0, pm.sample will return an `arviz.InferenceData` object instead of a `MultiTrace` by default. You can pass return_inferencedata=True or return_inferencedata=False to be safe and silence this warning.\n",
      "  trace2 = sample(100, tune=100)\n",
      "Only 100 samples in chain.\n",
      "Auto-assigning NUTS sampler...\n",
      "Initializing NUTS using jitter+adapt_diag...\n",
      "Multiprocess sampling (2 chains in 2 jobs)\n",
      "NUTS: [theta, phi2, phi1]\n"
     ]
    },
    {
     "data": {
      "text/html": [
       "\n",
       "<style>\n",
       "    /* Turns off some styling */\n",
       "    progress {\n",
       "        /* gets rid of default border in Firefox and Opera. */\n",
       "        border: none;\n",
       "        /* Needs to be in here for Safari polyfill so background images work as expected. */\n",
       "        background-size: auto;\n",
       "    }\n",
       "    .progress-bar-interrupted, .progress-bar-interrupted::-webkit-progress-bar {\n",
       "        background: #F44336;\n",
       "    }\n",
       "</style>\n"
      ],
      "text/plain": [
       "<IPython.core.display.HTML object>"
      ]
     },
     "metadata": {},
     "output_type": "display_data"
    },
    {
     "data": {
      "text/html": [
       "\n",
       "    <div>\n",
       "      <progress value='400' class='' max='400' style='width:300px; height:20px; vertical-align: middle;'></progress>\n",
       "      100.00% [400/400 00:02<00:00 Sampling 2 chains, 0 divergences]\n",
       "    </div>\n",
       "    "
      ],
      "text/plain": [
       "<IPython.core.display.HTML object>"
      ]
     },
     "metadata": {},
     "output_type": "display_data"
    },
    {
     "name": "stderr",
     "output_type": "stream",
     "text": [
      "Sampling 2 chains for 100 tune and 100 draw iterations (200 + 200 draws total) took 5 seconds.\n",
      "The acceptance probability does not match the target. It is 0.9346941703130048, but should be close to 0.8. Try to increase the number of tuning steps.\n",
      "The acceptance probability does not match the target. It is 0.9318999435860623, but should be close to 0.8. Try to increase the number of tuning steps.\n",
      "The rhat statistic is larger than 1.05 for some parameters. This indicates slight problems during sampling.\n",
      "The number of effective samples is smaller than 25% for some parameters.\n"
     ]
    }
   ],
   "source": [
    "random.seed(100)\n",
    "with model2:\n",
    "    trace2 = sample(100, tune=100)"
   ]
  },
  {
   "cell_type": "code",
   "execution_count": 14,
   "id": "b33f0fa1",
   "metadata": {},
   "outputs": [
    {
     "name": "stderr",
     "output_type": "stream",
     "text": [
      "/home/ooblack/miniconda3/envs/viz/lib/python3.10/site-packages/arviz/data/io_pymc3.py:96: FutureWarning: Using `from_pymc3` without the model will be deprecated in a future release. Not using the model will return less accurate and less useful results. Make sure you use the model argument or call from_pymc3 within a model context.\n",
      "  warnings.warn(\n"
     ]
    },
    {
     "data": {
      "text/html": [
       "<div>\n",
       "<style scoped>\n",
       "    .dataframe tbody tr th:only-of-type {\n",
       "        vertical-align: middle;\n",
       "    }\n",
       "\n",
       "    .dataframe tbody tr th {\n",
       "        vertical-align: top;\n",
       "    }\n",
       "\n",
       "    .dataframe thead th {\n",
       "        text-align: right;\n",
       "    }\n",
       "</style>\n",
       "<table border=\"1\" class=\"dataframe\">\n",
       "  <thead>\n",
       "    <tr style=\"text-align: right;\">\n",
       "      <th></th>\n",
       "      <th>mean</th>\n",
       "      <th>sd</th>\n",
       "      <th>hdi_3%</th>\n",
       "      <th>hdi_97%</th>\n",
       "      <th>mcse_mean</th>\n",
       "      <th>mcse_sd</th>\n",
       "      <th>ess_bulk</th>\n",
       "      <th>ess_tail</th>\n",
       "      <th>r_hat</th>\n",
       "    </tr>\n",
       "  </thead>\n",
       "  <tbody>\n",
       "    <tr>\n",
       "      <th>phi1</th>\n",
       "      <td>0.144</td>\n",
       "      <td>0.013</td>\n",
       "      <td>0.119</td>\n",
       "      <td>0.167</td>\n",
       "      <td>0.001</td>\n",
       "      <td>0.001</td>\n",
       "      <td>182.0</td>\n",
       "      <td>119.0</td>\n",
       "      <td>1.00</td>\n",
       "    </tr>\n",
       "    <tr>\n",
       "      <th>phi2</th>\n",
       "      <td>0.252</td>\n",
       "      <td>0.038</td>\n",
       "      <td>0.184</td>\n",
       "      <td>0.320</td>\n",
       "      <td>0.006</td>\n",
       "      <td>0.004</td>\n",
       "      <td>43.0</td>\n",
       "      <td>217.0</td>\n",
       "      <td>1.04</td>\n",
       "    </tr>\n",
       "    <tr>\n",
       "      <th>alpha</th>\n",
       "      <td>2.414</td>\n",
       "      <td>0.730</td>\n",
       "      <td>1.190</td>\n",
       "      <td>3.703</td>\n",
       "      <td>0.120</td>\n",
       "      <td>0.086</td>\n",
       "      <td>35.0</td>\n",
       "      <td>149.0</td>\n",
       "      <td>1.05</td>\n",
       "    </tr>\n",
       "    <tr>\n",
       "      <th>beta</th>\n",
       "      <td>14.438</td>\n",
       "      <td>4.277</td>\n",
       "      <td>6.428</td>\n",
       "      <td>21.429</td>\n",
       "      <td>0.605</td>\n",
       "      <td>0.430</td>\n",
       "      <td>50.0</td>\n",
       "      <td>217.0</td>\n",
       "      <td>1.04</td>\n",
       "    </tr>\n",
       "    <tr>\n",
       "      <th>theta[0]</th>\n",
       "      <td>0.061</td>\n",
       "      <td>0.041</td>\n",
       "      <td>0.006</td>\n",
       "      <td>0.148</td>\n",
       "      <td>0.003</td>\n",
       "      <td>0.002</td>\n",
       "      <td>159.0</td>\n",
       "      <td>132.0</td>\n",
       "      <td>1.00</td>\n",
       "    </tr>\n",
       "    <tr>\n",
       "      <th>...</th>\n",
       "      <td>...</td>\n",
       "      <td>...</td>\n",
       "      <td>...</td>\n",
       "      <td>...</td>\n",
       "      <td>...</td>\n",
       "      <td>...</td>\n",
       "      <td>...</td>\n",
       "      <td>...</td>\n",
       "      <td>...</td>\n",
       "    </tr>\n",
       "    <tr>\n",
       "      <th>theta[66]</th>\n",
       "      <td>0.266</td>\n",
       "      <td>0.059</td>\n",
       "      <td>0.166</td>\n",
       "      <td>0.363</td>\n",
       "      <td>0.003</td>\n",
       "      <td>0.002</td>\n",
       "      <td>442.0</td>\n",
       "      <td>138.0</td>\n",
       "      <td>1.00</td>\n",
       "    </tr>\n",
       "    <tr>\n",
       "      <th>theta[67]</th>\n",
       "      <td>0.278</td>\n",
       "      <td>0.055</td>\n",
       "      <td>0.171</td>\n",
       "      <td>0.381</td>\n",
       "      <td>0.003</td>\n",
       "      <td>0.002</td>\n",
       "      <td>460.0</td>\n",
       "      <td>162.0</td>\n",
       "      <td>1.02</td>\n",
       "    </tr>\n",
       "    <tr>\n",
       "      <th>theta[68]</th>\n",
       "      <td>0.275</td>\n",
       "      <td>0.061</td>\n",
       "      <td>0.175</td>\n",
       "      <td>0.381</td>\n",
       "      <td>0.003</td>\n",
       "      <td>0.002</td>\n",
       "      <td>384.0</td>\n",
       "      <td>230.0</td>\n",
       "      <td>0.99</td>\n",
       "    </tr>\n",
       "    <tr>\n",
       "      <th>theta[69]</th>\n",
       "      <td>0.282</td>\n",
       "      <td>0.065</td>\n",
       "      <td>0.179</td>\n",
       "      <td>0.411</td>\n",
       "      <td>0.003</td>\n",
       "      <td>0.002</td>\n",
       "      <td>371.0</td>\n",
       "      <td>124.0</td>\n",
       "      <td>1.00</td>\n",
       "    </tr>\n",
       "    <tr>\n",
       "      <th>theta[70]</th>\n",
       "      <td>0.215</td>\n",
       "      <td>0.074</td>\n",
       "      <td>0.081</td>\n",
       "      <td>0.345</td>\n",
       "      <td>0.004</td>\n",
       "      <td>0.003</td>\n",
       "      <td>296.0</td>\n",
       "      <td>181.0</td>\n",
       "      <td>1.00</td>\n",
       "    </tr>\n",
       "  </tbody>\n",
       "</table>\n",
       "<p>75 rows × 9 columns</p>\n",
       "</div>"
      ],
      "text/plain": [
       "             mean     sd  hdi_3%  hdi_97%  mcse_mean  mcse_sd  ess_bulk  \\\n",
       "phi1        0.144  0.013   0.119    0.167      0.001    0.001     182.0   \n",
       "phi2        0.252  0.038   0.184    0.320      0.006    0.004      43.0   \n",
       "alpha       2.414  0.730   1.190    3.703      0.120    0.086      35.0   \n",
       "beta       14.438  4.277   6.428   21.429      0.605    0.430      50.0   \n",
       "theta[0]    0.061  0.041   0.006    0.148      0.003    0.002     159.0   \n",
       "...           ...    ...     ...      ...        ...      ...       ...   \n",
       "theta[66]   0.266  0.059   0.166    0.363      0.003    0.002     442.0   \n",
       "theta[67]   0.278  0.055   0.171    0.381      0.003    0.002     460.0   \n",
       "theta[68]   0.275  0.061   0.175    0.381      0.003    0.002     384.0   \n",
       "theta[69]   0.282  0.065   0.179    0.411      0.003    0.002     371.0   \n",
       "theta[70]   0.215  0.074   0.081    0.345      0.004    0.003     296.0   \n",
       "\n",
       "           ess_tail  r_hat  \n",
       "phi1          119.0   1.00  \n",
       "phi2          217.0   1.04  \n",
       "alpha         149.0   1.05  \n",
       "beta          217.0   1.04  \n",
       "theta[0]      132.0   1.00  \n",
       "...             ...    ...  \n",
       "theta[66]     138.0   1.00  \n",
       "theta[67]     162.0   1.02  \n",
       "theta[68]     230.0   0.99  \n",
       "theta[69]     124.0   1.00  \n",
       "theta[70]     181.0   1.00  \n",
       "\n",
       "[75 rows x 9 columns]"
      ]
     },
     "execution_count": 14,
     "metadata": {},
     "output_type": "execute_result"
    }
   ],
   "source": [
    "summary(trace2)"
   ]
  },
  {
   "cell_type": "code",
   "execution_count": 15,
   "id": "652e131b",
   "metadata": {},
   "outputs": [
    {
     "data": {
      "text/plain": [
       "<AxesSubplot:title={'center':'x'}>"
      ]
     },
     "execution_count": 15,
     "metadata": {},
     "output_type": "execute_result"
    },
    {
     "data": {
      "image/png": "[encoded data removed]",
      "text/plain": [
       "<Figure size 432x288 with 1 Axes>"
      ]
     },
     "metadata": {
      "needs_background": "light"
     },
     "output_type": "display_data"
    }
   ],
   "source": [
    "plot_posterior(trace2['alpha'])"
   ]
  },
  {
   "cell_type": "code",
   "execution_count": 16,
   "id": "977d8218",
   "metadata": {},
   "outputs": [
    {
     "data": {
      "text/plain": [
       "<AxesSubplot:title={'center':'x'}>"
      ]
     },
     "execution_count": 16,
     "metadata": {},
     "output_type": "execute_result"
    },
    {
     "data": {
      "image/png": "[encoded data removed]",
      "text/plain": [
       "<Figure size 432x288 with 1 Axes>"
      ]
     },
     "metadata": {
      "needs_background": "light"
     },
     "output_type": "display_data"
    }
   ],
   "source": [
    "plot_posterior(trace2['beta'])"
   ]
  },
  {
   "cell_type": "code",
   "execution_count": 17,
   "id": "ad4ed4b3",
   "metadata": {},
   "outputs": [
    {
     "data": {
      "image/png": "[encoded data removed]",
      "text/plain": [
       "<Figure size 432x288 with 1 Axes>"
      ]
     },
     "metadata": {
      "needs_background": "light"
     },
     "output_type": "display_data"
    }
   ],
   "source": [
    "alpha2 = trace2.get_values(varname='alpha')\n",
    "beta2 = trace2.get_values(varname='beta')\n",
    "plt.scatter(np.log(alpha2/beta2), np.log(alpha2+beta2))\n",
    "plt.xlabel('log(alpha/beta)')\n",
    "plt.ylabel('log(alpha+beta)')\n",
    "plt.show()"
   ]
  }
 ],
 "metadata": {
  "kernelspec": {
   "display_name": "Python [conda env:viz] *",
   "language": "python",
   "name": "conda-env-viz-py"
  },
  "language_info": {
   "codemirror_mode": {
    "name": "ipython",
    "version": 3
   },
   "file_extension": ".py",
   "mimetype": "text/x-python",
   "name": "python",
   "nbconvert_exporter": "python",
   "pygments_lexer": "ipython3",
   "version": "3.10.2"
  }
 },
 "nbformat": 4,
 "nbformat_minor": 5
}
