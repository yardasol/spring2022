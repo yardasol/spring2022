{
 "cells": [
  {
   "cell_type": "markdown",
   "metadata": {},
   "source": [
    "<a href=\"https://colab.research.google.com/github/lukeolson/mse598dm-python-data/blob/main/collecting-organizing-analyzing-basics/collecting-organizing-analyzing-data.ipynb\" target=\"_parent\"><img src=\"https://colab.research.google.com/assets/colab-badge.svg\" alt=\"Open In Colab\"/></a>"
   ]
  },
  {
   "cell_type": "markdown",
   "metadata": {},
   "source": [
    "<img src=\"https://www.fueleconomy.gov/feg/label/images/gaslabel.jpg\" width=\"600px;\" alt=\"gas prices\"/>"
   ]
  },
  {
   "cell_type": "markdown",
   "metadata": {},
   "source": [
    "#   **TOPIC**:  Collecting, organizing, and analyzing data\n",
    "\n",
    "## Objectives\n",
    "\n",
    "### Objectives\n",
    "\n",
    "1. Identify the pieces of a Pandas dataframe for a set of data.\n",
    "2. Interpret data through plotting. \n",
    "3. Apply data filtering techniques to prepare the data for analysis.\n",
    "4. Organize multiple data sets for analysis.\n",
    "5. Construct a comparison between two sets of data.\n",
    "\n",
    "### Questions To Ask\n",
    "\n",
    "1. What are the column types in your dataframe?\n",
    "2. How do you plot a column of data?\n",
    "3. Which data needs to be modified in your dataframe?\n",
    "4. How do you plot two time series?\n",
    "5. How would you correlate two series of data?\n",
    "\n",
    "### What to hand in\n",
    "1. An attempt at last portion \"Your turn...\"\n",
    "2. Answer \"Three things I learned from this example...\"\n",
    "    1. ...\n",
    "    2. ...\n",
    "    3. ...\n",
    "\n",
    "## Highlevel topics\n",
    "\n",
    "- Data importing and storage\n",
    "- Data cleaning\n",
    "- Data plotting\n",
    "- Plot manipulation\n",
    "- Data analysis using built-in tools\n",
    "\n",
    "## Synopsis\n",
    "\n",
    "You are a data scientist working for a DC think tank, and your team is studying technology and energy policy.  To prepare for an upcoming energy sumit you are studying the relationship between **US fuel prices** and **fuel efficiency**, measured in miles-per-gallon.\n",
    "\n",
    "#### Your Task\n",
    "\n",
    "Your goal is to identify trends in two different datasets on **US fuel prices** and **fuel efficiency**.\n",
    "\n",
    "## Datasets\n",
    "\n",
    "In this session two datasets will be used:\n",
    "- Automotive Trends Report\n",
    "    - This dataset provides **miles per gallon** on light-duty vehicles\n",
    "    - https://www.epa.gov/automotive-trends/explore-automotive-trends-data\n",
    "    - https://www.epa.gov/automotive-trends/about-automotive-trends-data\n",
    "    - downloaded as `table_export.csv`\n",
    "- Retail motor gasoline and on-highway diesel fuel prices\n",
    "    - This dataset provides **fuel prices**\n",
    "    - https://www.eia.gov/totalenergy/data/browser/index.php?tbl=T09.04#/\n",
    "    - (section 9.4) https://www.eia.gov/totalenergy/data/monthly/index.php\n",
    "    - downlloaded as `MER_T09_04.csv`\n",
    "\n",
    "Example\n",
    "```\n",
    "wget https://www.eia.gov/totalenergy/data/browser/csv.php\\?tbl\\=T09.04 -O T09_04.csv\n",
    "```"
   ]
  },
  {
   "cell_type": "code",
   "execution_count": 1,
   "metadata": {},
   "outputs": [
    {
     "name": "stdout",
     "output_type": "stream",
     "text": [
      "--2022-01-27 10:08:11--  https://raw.githubusercontent.com/lukeolson/mse598dm-python-data/main/collecting-organizing-analyzing-basics/data/MER_T09_04.csv\n",
      "Resolving raw.githubusercontent.com (raw.githubusercontent.com)... 185.199.110.133, 185.199.109.133, 185.199.108.133, ...\n",
      "Connecting to raw.githubusercontent.com (raw.githubusercontent.com)|185.199.110.133|:443... connected.\n",
      "HTTP request sent, awaiting response... 200 OK\n",
      "Length: 677467 (662K) [text/plain]\n",
      "Saving to: ‘MER_T09_04.csv.2’\n",
      "\n",
      "MER_T09_04.csv.2    100%[===================>] 661.59K  --.-KB/s    in 0.02s   \n",
      "\n",
      "2022-01-27 10:08:11 (42.8 MB/s) - ‘MER_T09_04.csv.2’ saved [677467/677467]\n",
      "\n",
      "--2022-01-27 10:08:12--  https://raw.githubusercontent.com/lukeolson/mse598dm-python-data/main/collecting-organizing-analyzing-basics/data/table_export.csv\n",
      "Resolving raw.githubusercontent.com (raw.githubusercontent.com)... 185.199.109.133, 185.199.111.133, 185.199.110.133, ...\n",
      "Connecting to raw.githubusercontent.com (raw.githubusercontent.com)|185.199.109.133|:443... connected.\n",
      "HTTP request sent, awaiting response... 200 OK\n",
      "Length: 50233 (49K) [text/plain]\n",
      "Saving to: ‘table_export.csv.2’\n",
      "\n",
      "table_export.csv.2  100%[===================>]  49.06K  --.-KB/s    in 0.003s  \n",
      "\n",
      "2022-01-27 10:08:12 (15.5 MB/s) - ‘table_export.csv.2’ saved [50233/50233]\n",
      "\n",
      "total 8.1M\n",
      "-rw-rw-r-- 1 ooblack ooblack 411K Jan 27 10:08 collecting-organizing-analyzing-data.ipynb\n",
      "-rw-rw-r-- 1 ooblack ooblack 5.5M Jan 24 08:07 daily.csv\n",
      "-rw-rw-r-- 1 ooblack ooblack 662K Jan 27 08:53 MER_T09_04.csv\n",
      "-rw-rw-r-- 1 ooblack ooblack 662K Jan 27 09:03 MER_T09_04.csv.1\n",
      "-rw-rw-r-- 1 ooblack ooblack 662K Jan 27 10:08 MER_T09_04.csv.2\n",
      "-rw-rw-r-- 1 ooblack ooblack  21K Jan 24 08:07 MSE598-Class1.docx\n",
      "-rw-rw-r-- 1 ooblack ooblack  28K Jan 24 08:07 MSE598-Class1.pdf\n",
      "-rw-rw-r-- 1 ooblack ooblack  38K Jan 24 08:07 MSE598DM_S2022.ipynb\n",
      "-rw-rw-r-- 1 ooblack ooblack  47K Jan 24 08:07 MSE598DM_S2022.pdf\n",
      "-rw-rw-r-- 1 ooblack ooblack  50K Jan 27 08:53 table_export.csv\n",
      "-rw-rw-r-- 1 ooblack ooblack  50K Jan 27 09:03 table_export.csv.1\n",
      "-rw-rw-r-- 1 ooblack ooblack  50K Jan 27 10:08 table_export.csv.2\n"
     ]
    }
   ],
   "source": [
    "!wget https://raw.githubusercontent.com/lukeolson/mse598dm-python-data/main/collecting-organizing-analyzing-basics/data/MER_T09_04.csv\n",
    "!wget https://raw.githubusercontent.com/lukeolson/mse598dm-python-data/main/collecting-organizing-analyzing-basics/data/table_export.csv\n",
    "!ls -lh"
   ]
  },
  {
   "cell_type": "markdown",
   "metadata": {},
   "source": [
    "## 0. Getting Started"
   ]
  },
  {
   "cell_type": "markdown",
   "metadata": {},
   "source": [
    "### Setting up Python\n",
    "\n",
    "First, import a few Python packages that we'll use throught the course.  By convention these are abbreviated on import.\n",
    "\n",
    "- `matplotlib` and the interface `matplotlib.pyplot` for plotting\n",
    "- `numpy` for numerical functions and arrays\n",
    "- `pandas` for data structures and analysis\n",
    "- `seaborn` for additional plotting and improved figures"
   ]
  },
  {
   "cell_type": "code",
   "execution_count": 2,
   "metadata": {},
   "outputs": [],
   "source": [
    "import matplotlib.pyplot as plt\n",
    "import pandas as pd\n",
    "import numpy as np\n",
    "import datetime\n",
    "\n",
    "%matplotlib inline"
   ]
  },
  {
   "cell_type": "markdown",
   "metadata": {},
   "source": [
    "### Import data\n",
    "\n",
    "Here we will import the data with Pandas `read_csv` function and store as a *dataframe*.  \n",
    "\n",
    "What is a *dataframe*?  It's a storage container (provided by Pandas) that functions like a table.  It can also be viewed as a dictionary.  Pandas dataframes have lots of useful functions, many of which we won't use in this lesson (see [Pandas dataframe documenation](http://pandas.pydata.org/pandas-docs/stable/reference/frame.html) for more details)."
   ]
  },
  {
   "cell_type": "code",
   "execution_count": 3,
   "metadata": {},
   "outputs": [],
   "source": [
    "ecodf = pd.read_csv('table_export.csv')"
   ]
  },
  {
   "cell_type": "code",
   "execution_count": 4,
   "metadata": {},
   "outputs": [
    {
     "data": {
      "text/html": [
       "<div>\n",
       "<style scoped>\n",
       "    .dataframe tbody tr th:only-of-type {\n",
       "        vertical-align: middle;\n",
       "    }\n",
       "\n",
       "    .dataframe tbody tr th {\n",
       "        vertical-align: top;\n",
       "    }\n",
       "\n",
       "    .dataframe thead th {\n",
       "        text-align: right;\n",
       "    }\n",
       "</style>\n",
       "<table border=\"1\" class=\"dataframe\">\n",
       "  <thead>\n",
       "    <tr style=\"text-align: right;\">\n",
       "      <th></th>\n",
       "      <th>Model Year</th>\n",
       "      <th>Regulatory Class</th>\n",
       "      <th>Vehicle Type</th>\n",
       "      <th>Production Share</th>\n",
       "      <th>Real-World MPG</th>\n",
       "      <th>Real-World MPG_City</th>\n",
       "      <th>Real-World MPG_Hwy</th>\n",
       "      <th>Real-World CO2 (g/mi)</th>\n",
       "      <th>Real-World CO2_City (g/mi)</th>\n",
       "      <th>Real-World CO2_Hwy (g/mi)</th>\n",
       "      <th>Weight (lbs)</th>\n",
       "      <th>Horsepower (HP)</th>\n",
       "      <th>Footprint (sq. ft.)</th>\n",
       "    </tr>\n",
       "  </thead>\n",
       "  <tbody>\n",
       "    <tr>\n",
       "      <th>0</th>\n",
       "      <td>1975</td>\n",
       "      <td>All</td>\n",
       "      <td>All</td>\n",
       "      <td>1.000000</td>\n",
       "      <td>13.05970</td>\n",
       "      <td>12.01552</td>\n",
       "      <td>14.61167</td>\n",
       "      <td>680.59612</td>\n",
       "      <td>739.73800</td>\n",
       "      <td>608.31160</td>\n",
       "      <td>4060.399</td>\n",
       "      <td>137.3346</td>\n",
       "      <td>-</td>\n",
       "    </tr>\n",
       "    <tr>\n",
       "      <th>1</th>\n",
       "      <td>1975</td>\n",
       "      <td>Car</td>\n",
       "      <td>All Car</td>\n",
       "      <td>0.806646</td>\n",
       "      <td>13.45483</td>\n",
       "      <td>12.31413</td>\n",
       "      <td>15.17266</td>\n",
       "      <td>660.63740</td>\n",
       "      <td>721.82935</td>\n",
       "      <td>585.84724</td>\n",
       "      <td>4057.494</td>\n",
       "      <td>136.1964</td>\n",
       "      <td>-</td>\n",
       "    </tr>\n",
       "    <tr>\n",
       "      <th>2</th>\n",
       "      <td>1975</td>\n",
       "      <td>Car</td>\n",
       "      <td>Sedan/Wagon</td>\n",
       "      <td>0.805645</td>\n",
       "      <td>13.45833</td>\n",
       "      <td>12.31742</td>\n",
       "      <td>15.17643</td>\n",
       "      <td>660.46603</td>\n",
       "      <td>721.63673</td>\n",
       "      <td>585.70185</td>\n",
       "      <td>4057.565</td>\n",
       "      <td>136.2256</td>\n",
       "      <td>-</td>\n",
       "    </tr>\n",
       "    <tr>\n",
       "      <th>3</th>\n",
       "      <td>1975</td>\n",
       "      <td>Truck</td>\n",
       "      <td>All Truck</td>\n",
       "      <td>0.193354</td>\n",
       "      <td>11.63431</td>\n",
       "      <td>10.91165</td>\n",
       "      <td>12.65900</td>\n",
       "      <td>763.86134</td>\n",
       "      <td>814.45060</td>\n",
       "      <td>702.03002</td>\n",
       "      <td>4072.518</td>\n",
       "      <td>142.0826</td>\n",
       "      <td>-</td>\n",
       "    </tr>\n",
       "    <tr>\n",
       "      <th>4</th>\n",
       "      <td>1975</td>\n",
       "      <td>Truck</td>\n",
       "      <td>Pickup</td>\n",
       "      <td>0.131322</td>\n",
       "      <td>11.91476</td>\n",
       "      <td>11.07827</td>\n",
       "      <td>13.12613</td>\n",
       "      <td>745.88139</td>\n",
       "      <td>802.20090</td>\n",
       "      <td>677.04643</td>\n",
       "      <td>4011.977</td>\n",
       "      <td>140.9365</td>\n",
       "      <td>-</td>\n",
       "    </tr>\n",
       "    <tr>\n",
       "      <th>...</th>\n",
       "      <td>...</td>\n",
       "      <td>...</td>\n",
       "      <td>...</td>\n",
       "      <td>...</td>\n",
       "      <td>...</td>\n",
       "      <td>...</td>\n",
       "      <td>...</td>\n",
       "      <td>...</td>\n",
       "      <td>...</td>\n",
       "      <td>...</td>\n",
       "      <td>...</td>\n",
       "      <td>...</td>\n",
       "      <td>...</td>\n",
       "    </tr>\n",
       "    <tr>\n",
       "      <th>371</th>\n",
       "      <td>Prelim. 2021</td>\n",
       "      <td>Truck</td>\n",
       "      <td>Minivan/Van</td>\n",
       "      <td>-</td>\n",
       "      <td>26.20616</td>\n",
       "      <td>23.06617</td>\n",
       "      <td>29.20538</td>\n",
       "      <td>336.16426</td>\n",
       "      <td>381.30898</td>\n",
       "      <td>302.10772</td>\n",
       "      <td>4609.271</td>\n",
       "      <td>231.4091</td>\n",
       "      <td>52.60352</td>\n",
       "    </tr>\n",
       "    <tr>\n",
       "      <th>372</th>\n",
       "      <td>Prelim. 2021</td>\n",
       "      <td>All</td>\n",
       "      <td>All</td>\n",
       "      <td>-</td>\n",
       "      <td>25.34024</td>\n",
       "      <td>22.15460</td>\n",
       "      <td>28.42346</td>\n",
       "      <td>348.24205</td>\n",
       "      <td>398.71693</td>\n",
       "      <td>310.16749</td>\n",
       "      <td>4287.392</td>\n",
       "      <td>252.2007</td>\n",
       "      <td>51.38513</td>\n",
       "    </tr>\n",
       "    <tr>\n",
       "      <th>373</th>\n",
       "      <td>Prelim. 2021</td>\n",
       "      <td>Truck</td>\n",
       "      <td>Truck SUV</td>\n",
       "      <td>-</td>\n",
       "      <td>23.99702</td>\n",
       "      <td>21.16697</td>\n",
       "      <td>26.68893</td>\n",
       "      <td>369.57803</td>\n",
       "      <td>418.85828</td>\n",
       "      <td>332.40710</td>\n",
       "      <td>4471.763</td>\n",
       "      <td>252.7963</td>\n",
       "      <td>49.20598</td>\n",
       "    </tr>\n",
       "    <tr>\n",
       "      <th>374</th>\n",
       "      <td>Prelim. 2021</td>\n",
       "      <td>Truck</td>\n",
       "      <td>All Truck</td>\n",
       "      <td>-</td>\n",
       "      <td>22.58129</td>\n",
       "      <td>19.79987</td>\n",
       "      <td>25.25796</td>\n",
       "      <td>393.74267</td>\n",
       "      <td>448.92779</td>\n",
       "      <td>352.11546</td>\n",
       "      <td>4682.578</td>\n",
       "      <td>276.5167</td>\n",
       "      <td>54.12613</td>\n",
       "    </tr>\n",
       "    <tr>\n",
       "      <th>375</th>\n",
       "      <td>Prelim. 2021</td>\n",
       "      <td>Truck</td>\n",
       "      <td>Pickup</td>\n",
       "      <td>-</td>\n",
       "      <td>19.39958</td>\n",
       "      <td>16.80735</td>\n",
       "      <td>21.95393</td>\n",
       "      <td>461.06113</td>\n",
       "      <td>532.08045</td>\n",
       "      <td>407.48515</td>\n",
       "      <td>5204.315</td>\n",
       "      <td>340.8539</td>\n",
       "      <td>66.27408</td>\n",
       "    </tr>\n",
       "  </tbody>\n",
       "</table>\n",
       "<p>376 rows × 13 columns</p>\n",
       "</div>"
      ],
      "text/plain": [
       "       Model Year Regulatory Class Vehicle Type Production Share  \\\n",
       "0            1975              All          All         1.000000   \n",
       "1            1975              Car      All Car         0.806646   \n",
       "2            1975              Car  Sedan/Wagon         0.805645   \n",
       "3            1975            Truck    All Truck         0.193354   \n",
       "4            1975            Truck       Pickup         0.131322   \n",
       "..            ...              ...          ...              ...   \n",
       "371  Prelim. 2021            Truck  Minivan/Van                -   \n",
       "372  Prelim. 2021              All          All                -   \n",
       "373  Prelim. 2021            Truck    Truck SUV                -   \n",
       "374  Prelim. 2021            Truck    All Truck                -   \n",
       "375  Prelim. 2021            Truck       Pickup                -   \n",
       "\n",
       "     Real-World MPG  Real-World MPG_City  Real-World MPG_Hwy  \\\n",
       "0          13.05970             12.01552            14.61167   \n",
       "1          13.45483             12.31413            15.17266   \n",
       "2          13.45833             12.31742            15.17643   \n",
       "3          11.63431             10.91165            12.65900   \n",
       "4          11.91476             11.07827            13.12613   \n",
       "..              ...                  ...                 ...   \n",
       "371        26.20616             23.06617            29.20538   \n",
       "372        25.34024             22.15460            28.42346   \n",
       "373        23.99702             21.16697            26.68893   \n",
       "374        22.58129             19.79987            25.25796   \n",
       "375        19.39958             16.80735            21.95393   \n",
       "\n",
       "     Real-World CO2 (g/mi)  Real-World CO2_City (g/mi)  \\\n",
       "0                680.59612                   739.73800   \n",
       "1                660.63740                   721.82935   \n",
       "2                660.46603                   721.63673   \n",
       "3                763.86134                   814.45060   \n",
       "4                745.88139                   802.20090   \n",
       "..                     ...                         ...   \n",
       "371              336.16426                   381.30898   \n",
       "372              348.24205                   398.71693   \n",
       "373              369.57803                   418.85828   \n",
       "374              393.74267                   448.92779   \n",
       "375              461.06113                   532.08045   \n",
       "\n",
       "     Real-World CO2_Hwy (g/mi)  Weight (lbs)  Horsepower (HP)  \\\n",
       "0                    608.31160      4060.399         137.3346   \n",
       "1                    585.84724      4057.494         136.1964   \n",
       "2                    585.70185      4057.565         136.2256   \n",
       "3                    702.03002      4072.518         142.0826   \n",
       "4                    677.04643      4011.977         140.9365   \n",
       "..                         ...           ...              ...   \n",
       "371                  302.10772      4609.271         231.4091   \n",
       "372                  310.16749      4287.392         252.2007   \n",
       "373                  332.40710      4471.763         252.7963   \n",
       "374                  352.11546      4682.578         276.5167   \n",
       "375                  407.48515      5204.315         340.8539   \n",
       "\n",
       "    Footprint (sq. ft.)  \n",
       "0                     -  \n",
       "1                     -  \n",
       "2                     -  \n",
       "3                     -  \n",
       "4                     -  \n",
       "..                  ...  \n",
       "371            52.60352  \n",
       "372            51.38513  \n",
       "373            49.20598  \n",
       "374            54.12613  \n",
       "375            66.27408  \n",
       "\n",
       "[376 rows x 13 columns]"
      ]
     },
     "execution_count": 4,
     "metadata": {},
     "output_type": "execute_result"
    }
   ],
   "source": [
    "ecodf"
   ]
  },
  {
   "cell_type": "markdown",
   "metadata": {},
   "source": [
    "### Example dataframe\n",
    "\n",
    "Let's construct a mock dataframe to highlight some basic functionality."
   ]
  },
  {
   "cell_type": "code",
   "execution_count": 5,
   "metadata": {},
   "outputs": [],
   "source": [
    "mydf = pd.DataFrame(\n",
    "    {'month': ['January', 'February', 'March'],\n",
    "     'temperature': [20, 30, 40],\n",
    "     'snowfall': [12.5, 15, 'trace']\n",
    "    }\n",
    ")"
   ]
  },
  {
   "cell_type": "markdown",
   "metadata": {},
   "source": [
    "We can inspect the dataframe in a few different ways:\n",
    "\n",
    "- `mydf.info()` shows a highlevel view of the dataframe as a data structure\n",
    "- `mydf` or `print(mydf)` will give a tabular view"
   ]
  },
  {
   "cell_type": "code",
   "execution_count": 6,
   "metadata": {},
   "outputs": [
    {
     "data": {
      "text/html": [
       "<div>\n",
       "<style scoped>\n",
       "    .dataframe tbody tr th:only-of-type {\n",
       "        vertical-align: middle;\n",
       "    }\n",
       "\n",
       "    .dataframe tbody tr th {\n",
       "        vertical-align: top;\n",
       "    }\n",
       "\n",
       "    .dataframe thead th {\n",
       "        text-align: right;\n",
       "    }\n",
       "</style>\n",
       "<table border=\"1\" class=\"dataframe\">\n",
       "  <thead>\n",
       "    <tr style=\"text-align: right;\">\n",
       "      <th></th>\n",
       "      <th>month</th>\n",
       "      <th>temperature</th>\n",
       "      <th>snowfall</th>\n",
       "    </tr>\n",
       "  </thead>\n",
       "  <tbody>\n",
       "    <tr>\n",
       "      <th>0</th>\n",
       "      <td>January</td>\n",
       "      <td>20</td>\n",
       "      <td>12.5</td>\n",
       "    </tr>\n",
       "    <tr>\n",
       "      <th>1</th>\n",
       "      <td>February</td>\n",
       "      <td>30</td>\n",
       "      <td>15</td>\n",
       "    </tr>\n",
       "    <tr>\n",
       "      <th>2</th>\n",
       "      <td>March</td>\n",
       "      <td>40</td>\n",
       "      <td>trace</td>\n",
       "    </tr>\n",
       "  </tbody>\n",
       "</table>\n",
       "</div>"
      ],
      "text/plain": [
       "      month  temperature snowfall\n",
       "0   January           20     12.5\n",
       "1  February           30       15\n",
       "2     March           40    trace"
      ]
     },
     "execution_count": 6,
     "metadata": {},
     "output_type": "execute_result"
    }
   ],
   "source": [
    "mydf"
   ]
  },
  {
   "cell_type": "code",
   "execution_count": 7,
   "metadata": {},
   "outputs": [
    {
     "name": "stdout",
     "output_type": "stream",
     "text": [
      "<class 'pandas.core.frame.DataFrame'>\n",
      "RangeIndex: 3 entries, 0 to 2\n",
      "Data columns (total 3 columns):\n",
      " #   Column       Non-Null Count  Dtype \n",
      "---  ------       --------------  ----- \n",
      " 0   month        3 non-null      object\n",
      " 1   temperature  3 non-null      int64 \n",
      " 2   snowfall     3 non-null      object\n",
      "dtypes: int64(1), object(2)\n",
      "memory usage: 200.0+ bytes\n"
     ]
    }
   ],
   "source": [
    "mydf.info()"
   ]
  },
  {
   "cell_type": "code",
   "execution_count": 8,
   "metadata": {},
   "outputs": [
    {
     "data": {
      "text/html": [
       "<div>\n",
       "<style scoped>\n",
       "    .dataframe tbody tr th:only-of-type {\n",
       "        vertical-align: middle;\n",
       "    }\n",
       "\n",
       "    .dataframe tbody tr th {\n",
       "        vertical-align: top;\n",
       "    }\n",
       "\n",
       "    .dataframe thead th {\n",
       "        text-align: right;\n",
       "    }\n",
       "</style>\n",
       "<table border=\"1\" class=\"dataframe\">\n",
       "  <thead>\n",
       "    <tr style=\"text-align: right;\">\n",
       "      <th></th>\n",
       "      <th>month</th>\n",
       "      <th>temperature</th>\n",
       "      <th>snowfall</th>\n",
       "    </tr>\n",
       "  </thead>\n",
       "  <tbody>\n",
       "    <tr>\n",
       "      <th>0</th>\n",
       "      <td>January</td>\n",
       "      <td>20</td>\n",
       "      <td>12.5</td>\n",
       "    </tr>\n",
       "    <tr>\n",
       "      <th>1</th>\n",
       "      <td>February</td>\n",
       "      <td>30</td>\n",
       "      <td>15</td>\n",
       "    </tr>\n",
       "    <tr>\n",
       "      <th>2</th>\n",
       "      <td>March</td>\n",
       "      <td>40</td>\n",
       "      <td>trace</td>\n",
       "    </tr>\n",
       "  </tbody>\n",
       "</table>\n",
       "</div>"
      ],
      "text/plain": [
       "      month  temperature snowfall\n",
       "0   January           20     12.5\n",
       "1  February           30       15\n",
       "2     March           40    trace"
      ]
     },
     "execution_count": 8,
     "metadata": {},
     "output_type": "execute_result"
    }
   ],
   "source": [
    "mydf"
   ]
  },
  {
   "cell_type": "markdown",
   "metadata": {},
   "source": [
    "We can access a given column of a dataframe using the bracket notation with the column label."
   ]
  },
  {
   "cell_type": "code",
   "execution_count": 9,
   "metadata": {},
   "outputs": [
    {
     "data": {
      "text/plain": [
       "0    20\n",
       "1    30\n",
       "2    40\n",
       "Name: temperature, dtype: int64"
      ]
     },
     "execution_count": 9,
     "metadata": {},
     "output_type": "execute_result"
    }
   ],
   "source": [
    "mydf['temperature']"
   ]
  },
  {
   "cell_type": "markdown",
   "metadata": {},
   "source": [
    "Also notice that each column is a Pandas *series*.  A series is simply array of values with an index to those values."
   ]
  },
  {
   "cell_type": "code",
   "execution_count": 10,
   "metadata": {},
   "outputs": [
    {
     "data": {
      "text/plain": [
       "pandas.core.series.Series"
      ]
     },
     "execution_count": 10,
     "metadata": {},
     "output_type": "execute_result"
    }
   ],
   "source": [
    "type(mydf['temperature'])"
   ]
  },
  {
   "cell_type": "markdown",
   "metadata": {},
   "source": [
    "#### Pandas methods\n",
    "\n",
    "In the following we'll be doing mainly three things to data stored like `mydf`:\n",
    "\n",
    "1. formatting the data\n",
    "2. setting an index\n",
    "3. cleaning the data\n",
    "\n",
    "We'll work with the example dataframe for now.  Later, we'll work with the datasets described above and we'll also merge data and introduce some analytics."
   ]
  },
  {
   "cell_type": "code",
   "execution_count": 11,
   "metadata": {},
   "outputs": [
    {
     "name": "stdout",
     "output_type": "stream",
     "text": [
      "<class 'pandas.core.frame.DataFrame'>\n",
      "RangeIndex: 3 entries, 0 to 2\n",
      "Data columns (total 3 columns):\n",
      " #   Column       Non-Null Count  Dtype \n",
      "---  ------       --------------  ----- \n",
      " 0   month        3 non-null      object\n",
      " 1   temperature  3 non-null      int64 \n",
      " 2   snowfall     3 non-null      object\n",
      "dtypes: int64(1), object(2)\n",
      "memory usage: 200.0+ bytes\n"
     ]
    }
   ],
   "source": [
    "mydf.info()"
   ]
  },
  {
   "cell_type": "markdown",
   "metadata": {},
   "source": [
    "#### (1)\n",
    "Let's *format* the data so that the `month` is an actual datetime format.  We can do this using [`pd.to_datetime()`](https://pandas.pydata.org/pandas-docs/stable/reference/api/pandas.to_datetime.html).\n",
    "For this we need to refer to the string format of dates in Python's `time` format:\n",
    "https://docs.python.org/3/library/time.html#time.strftime\n",
    "\n",
    "Notice that `%B` means the month name."
   ]
  },
  {
   "cell_type": "code",
   "execution_count": 12,
   "metadata": {},
   "outputs": [
    {
     "data": {
      "text/plain": [
       "Timestamp('2019-01-01 00:00:00')"
      ]
     },
     "execution_count": 12,
     "metadata": {},
     "output_type": "execute_result"
    }
   ],
   "source": [
    "pd.to_datetime('2019 January', format='%Y %B')"
   ]
  },
  {
   "cell_type": "code",
   "execution_count": 13,
   "metadata": {},
   "outputs": [],
   "source": [
    "pd.to_datetime?"
   ]
  },
  {
   "cell_type": "code",
   "execution_count": 14,
   "metadata": {},
   "outputs": [
    {
     "data": {
      "text/plain": [
       "0   1900-01-01\n",
       "1   1900-02-01\n",
       "2   1900-03-01\n",
       "Name: month, dtype: datetime64[ns]"
      ]
     },
     "execution_count": 14,
     "metadata": {},
     "output_type": "execute_result"
    }
   ],
   "source": [
    "pd.to_datetime(mydf['month'], format='%B')"
   ]
  },
  {
   "cell_type": "markdown",
   "metadata": {},
   "source": [
    "Notice, the above command doesn't  actually change the column of our dataframe `mydf`."
   ]
  },
  {
   "cell_type": "code",
   "execution_count": 15,
   "metadata": {},
   "outputs": [
    {
     "data": {
      "text/plain": [
       "0     January\n",
       "1    February\n",
       "2       March\n",
       "Name: month, dtype: object"
      ]
     },
     "execution_count": 15,
     "metadata": {},
     "output_type": "execute_result"
    }
   ],
   "source": [
    "mydf['month']"
   ]
  },
  {
   "cell_type": "markdown",
   "metadata": {},
   "source": [
    "To add a year, we would use `%Y`.  To change our dataframe, we set the column equal to the new series."
   ]
  },
  {
   "cell_type": "code",
   "execution_count": 16,
   "metadata": {},
   "outputs": [],
   "source": [
    "mydf['month'] = pd.to_datetime(mydf['month']+'2019', format='%B%Y')"
   ]
  },
  {
   "cell_type": "code",
   "execution_count": 17,
   "metadata": {},
   "outputs": [
    {
     "data": {
      "text/html": [
       "<div>\n",
       "<style scoped>\n",
       "    .dataframe tbody tr th:only-of-type {\n",
       "        vertical-align: middle;\n",
       "    }\n",
       "\n",
       "    .dataframe tbody tr th {\n",
       "        vertical-align: top;\n",
       "    }\n",
       "\n",
       "    .dataframe thead th {\n",
       "        text-align: right;\n",
       "    }\n",
       "</style>\n",
       "<table border=\"1\" class=\"dataframe\">\n",
       "  <thead>\n",
       "    <tr style=\"text-align: right;\">\n",
       "      <th></th>\n",
       "      <th>month</th>\n",
       "      <th>temperature</th>\n",
       "      <th>snowfall</th>\n",
       "    </tr>\n",
       "  </thead>\n",
       "  <tbody>\n",
       "    <tr>\n",
       "      <th>0</th>\n",
       "      <td>2019-01-01</td>\n",
       "      <td>20</td>\n",
       "      <td>12.5</td>\n",
       "    </tr>\n",
       "    <tr>\n",
       "      <th>1</th>\n",
       "      <td>2019-02-01</td>\n",
       "      <td>30</td>\n",
       "      <td>15</td>\n",
       "    </tr>\n",
       "    <tr>\n",
       "      <th>2</th>\n",
       "      <td>2019-03-01</td>\n",
       "      <td>40</td>\n",
       "      <td>trace</td>\n",
       "    </tr>\n",
       "  </tbody>\n",
       "</table>\n",
       "</div>"
      ],
      "text/plain": [
       "       month  temperature snowfall\n",
       "0 2019-01-01           20     12.5\n",
       "1 2019-02-01           30       15\n",
       "2 2019-03-01           40    trace"
      ]
     },
     "execution_count": 17,
     "metadata": {},
     "output_type": "execute_result"
    }
   ],
   "source": [
    "mydf"
   ]
  },
  {
   "cell_type": "code",
   "execution_count": 18,
   "metadata": {},
   "outputs": [
    {
     "name": "stdout",
     "output_type": "stream",
     "text": [
      "<class 'pandas.core.frame.DataFrame'>\n",
      "RangeIndex: 3 entries, 0 to 2\n",
      "Data columns (total 3 columns):\n",
      " #   Column       Non-Null Count  Dtype         \n",
      "---  ------       --------------  -----         \n",
      " 0   month        3 non-null      datetime64[ns]\n",
      " 1   temperature  3 non-null      int64         \n",
      " 2   snowfall     3 non-null      object        \n",
      "dtypes: datetime64[ns](1), int64(1), object(1)\n",
      "memory usage: 200.0+ bytes\n"
     ]
    }
   ],
   "source": [
    "mydf.info()"
   ]
  },
  {
   "cell_type": "markdown",
   "metadata": {},
   "source": [
    "#### (2)\n",
    "\n",
    "Each column of a Pandas dataframe is a series and the default is to index this series with integer indices starting at 0.  We can see what the current index values are by accessing the dataframe's `index` attribute (not a function).  We can also set the index to another set of labels, say the months using the dataframe's `set_index()` function."
   ]
  },
  {
   "cell_type": "code",
   "execution_count": 19,
   "metadata": {},
   "outputs": [
    {
     "data": {
      "text/plain": [
       "RangeIndex(start=0, stop=3, step=1)"
      ]
     },
     "execution_count": 19,
     "metadata": {},
     "output_type": "execute_result"
    }
   ],
   "source": [
    "mydf.index"
   ]
  },
  {
   "cell_type": "code",
   "execution_count": 20,
   "metadata": {},
   "outputs": [],
   "source": [
    "mydf.set_index('month', inplace=True)"
   ]
  },
  {
   "cell_type": "markdown",
   "metadata": {},
   "source": [
    "Notice we used `inplace=True` above so it modified `mydf` instead of making a new object.  We can look at the modified index and dataframe:"
   ]
  },
  {
   "cell_type": "code",
   "execution_count": 21,
   "metadata": {},
   "outputs": [
    {
     "data": {
      "text/plain": [
       "DatetimeIndex(['2019-01-01', '2019-02-01', '2019-03-01'], dtype='datetime64[ns]', name='month', freq=None)"
      ]
     },
     "execution_count": 21,
     "metadata": {},
     "output_type": "execute_result"
    }
   ],
   "source": [
    "mydf.index"
   ]
  },
  {
   "cell_type": "code",
   "execution_count": 22,
   "metadata": {},
   "outputs": [
    {
     "data": {
      "text/html": [
       "<div>\n",
       "<style scoped>\n",
       "    .dataframe tbody tr th:only-of-type {\n",
       "        vertical-align: middle;\n",
       "    }\n",
       "\n",
       "    .dataframe tbody tr th {\n",
       "        vertical-align: top;\n",
       "    }\n",
       "\n",
       "    .dataframe thead th {\n",
       "        text-align: right;\n",
       "    }\n",
       "</style>\n",
       "<table border=\"1\" class=\"dataframe\">\n",
       "  <thead>\n",
       "    <tr style=\"text-align: right;\">\n",
       "      <th></th>\n",
       "      <th>temperature</th>\n",
       "      <th>snowfall</th>\n",
       "    </tr>\n",
       "    <tr>\n",
       "      <th>month</th>\n",
       "      <th></th>\n",
       "      <th></th>\n",
       "    </tr>\n",
       "  </thead>\n",
       "  <tbody>\n",
       "    <tr>\n",
       "      <th>2019-01-01</th>\n",
       "      <td>20</td>\n",
       "      <td>12.5</td>\n",
       "    </tr>\n",
       "    <tr>\n",
       "      <th>2019-02-01</th>\n",
       "      <td>30</td>\n",
       "      <td>15</td>\n",
       "    </tr>\n",
       "    <tr>\n",
       "      <th>2019-03-01</th>\n",
       "      <td>40</td>\n",
       "      <td>trace</td>\n",
       "    </tr>\n",
       "  </tbody>\n",
       "</table>\n",
       "</div>"
      ],
      "text/plain": [
       "            temperature snowfall\n",
       "month                           \n",
       "2019-01-01           20     12.5\n",
       "2019-02-01           30       15\n",
       "2019-03-01           40    trace"
      ]
     },
     "execution_count": 22,
     "metadata": {},
     "output_type": "execute_result"
    }
   ],
   "source": [
    "mydf"
   ]
  },
  {
   "cell_type": "markdown",
   "metadata": {},
   "source": [
    "#### (3)\n",
    "\n",
    "Notice that the last value of snowfall is \"trace\" (a small amount of snow, but no measurable accumulation).  Unfortunately, this isn't very helpful -- we cannot take the average (or many of the other summary statistics) of a string."
   ]
  },
  {
   "cell_type": "code",
   "execution_count": 23,
   "metadata": {},
   "outputs": [
    {
     "ename": "TypeError",
     "evalue": "unsupported operand type(s) for +: 'float' and 'str'",
     "output_type": "error",
     "traceback": [
      "\u001b[0;31m---------------------------------------------------------------------------\u001b[0m",
      "\u001b[0;31mTypeError\u001b[0m                                 Traceback (most recent call last)",
      "Input \u001b[0;32mIn [23]\u001b[0m, in \u001b[0;36m<module>\u001b[0;34m\u001b[0m\n\u001b[0;32m----> 1\u001b[0m \u001b[43mmydf\u001b[49m\u001b[43m[\u001b[49m\u001b[38;5;124;43m'\u001b[39;49m\u001b[38;5;124;43msnowfall\u001b[39;49m\u001b[38;5;124;43m'\u001b[39;49m\u001b[43m]\u001b[49m\u001b[38;5;241;43m.\u001b[39;49m\u001b[43mmean\u001b[49m\u001b[43m(\u001b[49m\u001b[43m)\u001b[49m\n",
      "File \u001b[0;32m~/miniconda3/envs/viz/lib/python3.10/site-packages/pandas/core/generic.py:11127\u001b[0m, in \u001b[0;36mNDFrame._add_numeric_operations.<locals>.mean\u001b[0;34m(self, axis, skipna, level, numeric_only, **kwargs)\u001b[0m\n\u001b[1;32m  11109\u001b[0m \u001b[38;5;129m@doc\u001b[39m(\n\u001b[1;32m  11110\u001b[0m     _num_doc,\n\u001b[1;32m  11111\u001b[0m     desc\u001b[38;5;241m=\u001b[39m\u001b[38;5;124m\"\u001b[39m\u001b[38;5;124mReturn the mean of the values over the requested axis.\u001b[39m\u001b[38;5;124m\"\u001b[39m,\n\u001b[0;32m   (...)\u001b[0m\n\u001b[1;32m  11125\u001b[0m     \u001b[38;5;241m*\u001b[39m\u001b[38;5;241m*\u001b[39mkwargs,\n\u001b[1;32m  11126\u001b[0m ):\n\u001b[0;32m> 11127\u001b[0m     \u001b[38;5;28;01mreturn\u001b[39;00m \u001b[43mNDFrame\u001b[49m\u001b[38;5;241;43m.\u001b[39;49m\u001b[43mmean\u001b[49m\u001b[43m(\u001b[49m\u001b[38;5;28;43mself\u001b[39;49m\u001b[43m,\u001b[49m\u001b[43m \u001b[49m\u001b[43maxis\u001b[49m\u001b[43m,\u001b[49m\u001b[43m \u001b[49m\u001b[43mskipna\u001b[49m\u001b[43m,\u001b[49m\u001b[43m \u001b[49m\u001b[43mlevel\u001b[49m\u001b[43m,\u001b[49m\u001b[43m \u001b[49m\u001b[43mnumeric_only\u001b[49m\u001b[43m,\u001b[49m\u001b[43m \u001b[49m\u001b[38;5;241;43m*\u001b[39;49m\u001b[38;5;241;43m*\u001b[39;49m\u001b[43mkwargs\u001b[49m\u001b[43m)\u001b[49m\n",
      "File \u001b[0;32m~/miniconda3/envs/viz/lib/python3.10/site-packages/pandas/core/generic.py:10697\u001b[0m, in \u001b[0;36mNDFrame.mean\u001b[0;34m(self, axis, skipna, level, numeric_only, **kwargs)\u001b[0m\n\u001b[1;32m  10689\u001b[0m \u001b[38;5;28;01mdef\u001b[39;00m \u001b[38;5;21mmean\u001b[39m(\n\u001b[1;32m  10690\u001b[0m     \u001b[38;5;28mself\u001b[39m,\n\u001b[1;32m  10691\u001b[0m     axis: Axis \u001b[38;5;241m|\u001b[39m \u001b[38;5;28;01mNone\u001b[39;00m \u001b[38;5;241m|\u001b[39m lib\u001b[38;5;241m.\u001b[39mNoDefault \u001b[38;5;241m=\u001b[39m lib\u001b[38;5;241m.\u001b[39mno_default,\n\u001b[0;32m   (...)\u001b[0m\n\u001b[1;32m  10695\u001b[0m     \u001b[38;5;241m*\u001b[39m\u001b[38;5;241m*\u001b[39mkwargs,\n\u001b[1;32m  10696\u001b[0m ) \u001b[38;5;241m-\u001b[39m\u001b[38;5;241m>\u001b[39m Series \u001b[38;5;241m|\u001b[39m \u001b[38;5;28mfloat\u001b[39m:\n\u001b[0;32m> 10697\u001b[0m     \u001b[38;5;28;01mreturn\u001b[39;00m \u001b[38;5;28;43mself\u001b[39;49m\u001b[38;5;241;43m.\u001b[39;49m\u001b[43m_stat_function\u001b[49m\u001b[43m(\u001b[49m\n\u001b[1;32m  10698\u001b[0m \u001b[43m        \u001b[49m\u001b[38;5;124;43m\"\u001b[39;49m\u001b[38;5;124;43mmean\u001b[39;49m\u001b[38;5;124;43m\"\u001b[39;49m\u001b[43m,\u001b[49m\u001b[43m \u001b[49m\u001b[43mnanops\u001b[49m\u001b[38;5;241;43m.\u001b[39;49m\u001b[43mnanmean\u001b[49m\u001b[43m,\u001b[49m\u001b[43m \u001b[49m\u001b[43maxis\u001b[49m\u001b[43m,\u001b[49m\u001b[43m \u001b[49m\u001b[43mskipna\u001b[49m\u001b[43m,\u001b[49m\u001b[43m \u001b[49m\u001b[43mlevel\u001b[49m\u001b[43m,\u001b[49m\u001b[43m \u001b[49m\u001b[43mnumeric_only\u001b[49m\u001b[43m,\u001b[49m\u001b[43m \u001b[49m\u001b[38;5;241;43m*\u001b[39;49m\u001b[38;5;241;43m*\u001b[39;49m\u001b[43mkwargs\u001b[49m\n\u001b[1;32m  10699\u001b[0m \u001b[43m    \u001b[49m\u001b[43m)\u001b[49m\n",
      "File \u001b[0;32m~/miniconda3/envs/viz/lib/python3.10/site-packages/pandas/core/generic.py:10649\u001b[0m, in \u001b[0;36mNDFrame._stat_function\u001b[0;34m(self, name, func, axis, skipna, level, numeric_only, **kwargs)\u001b[0m\n\u001b[1;32m  10639\u001b[0m     warnings\u001b[38;5;241m.\u001b[39mwarn(\n\u001b[1;32m  10640\u001b[0m         \u001b[38;5;124m\"\u001b[39m\u001b[38;5;124mUsing the level keyword in DataFrame and Series aggregations is \u001b[39m\u001b[38;5;124m\"\u001b[39m\n\u001b[1;32m  10641\u001b[0m         \u001b[38;5;124m\"\u001b[39m\u001b[38;5;124mdeprecated and will be removed in a future version. Use groupby \u001b[39m\u001b[38;5;124m\"\u001b[39m\n\u001b[0;32m   (...)\u001b[0m\n\u001b[1;32m  10644\u001b[0m         stacklevel\u001b[38;5;241m=\u001b[39mfind_stack_level(),\n\u001b[1;32m  10645\u001b[0m     )\n\u001b[1;32m  10646\u001b[0m     \u001b[38;5;28;01mreturn\u001b[39;00m \u001b[38;5;28mself\u001b[39m\u001b[38;5;241m.\u001b[39m_agg_by_level(\n\u001b[1;32m  10647\u001b[0m         name, axis\u001b[38;5;241m=\u001b[39maxis, level\u001b[38;5;241m=\u001b[39mlevel, skipna\u001b[38;5;241m=\u001b[39mskipna, numeric_only\u001b[38;5;241m=\u001b[39mnumeric_only\n\u001b[1;32m  10648\u001b[0m     )\n\u001b[0;32m> 10649\u001b[0m \u001b[38;5;28;01mreturn\u001b[39;00m \u001b[38;5;28;43mself\u001b[39;49m\u001b[38;5;241;43m.\u001b[39;49m\u001b[43m_reduce\u001b[49m\u001b[43m(\u001b[49m\n\u001b[1;32m  10650\u001b[0m \u001b[43m    \u001b[49m\u001b[43mfunc\u001b[49m\u001b[43m,\u001b[49m\u001b[43m \u001b[49m\u001b[43mname\u001b[49m\u001b[38;5;241;43m=\u001b[39;49m\u001b[43mname\u001b[49m\u001b[43m,\u001b[49m\u001b[43m \u001b[49m\u001b[43maxis\u001b[49m\u001b[38;5;241;43m=\u001b[39;49m\u001b[43maxis\u001b[49m\u001b[43m,\u001b[49m\u001b[43m \u001b[49m\u001b[43mskipna\u001b[49m\u001b[38;5;241;43m=\u001b[39;49m\u001b[43mskipna\u001b[49m\u001b[43m,\u001b[49m\u001b[43m \u001b[49m\u001b[43mnumeric_only\u001b[49m\u001b[38;5;241;43m=\u001b[39;49m\u001b[43mnumeric_only\u001b[49m\n\u001b[1;32m  10651\u001b[0m \u001b[43m\u001b[49m\u001b[43m)\u001b[49m\n",
      "File \u001b[0;32m~/miniconda3/envs/viz/lib/python3.10/site-packages/pandas/core/series.py:4468\u001b[0m, in \u001b[0;36mSeries._reduce\u001b[0;34m(self, op, name, axis, skipna, numeric_only, filter_type, **kwds)\u001b[0m\n\u001b[1;32m   4464\u001b[0m     \u001b[38;5;28;01mraise\u001b[39;00m \u001b[38;5;167;01mNotImplementedError\u001b[39;00m(\n\u001b[1;32m   4465\u001b[0m         \u001b[38;5;124mf\u001b[39m\u001b[38;5;124m\"\u001b[39m\u001b[38;5;124mSeries.\u001b[39m\u001b[38;5;132;01m{\u001b[39;00mname\u001b[38;5;132;01m}\u001b[39;00m\u001b[38;5;124m does not implement \u001b[39m\u001b[38;5;132;01m{\u001b[39;00mkwd_name\u001b[38;5;132;01m}\u001b[39;00m\u001b[38;5;124m.\u001b[39m\u001b[38;5;124m\"\u001b[39m\n\u001b[1;32m   4466\u001b[0m     )\n\u001b[1;32m   4467\u001b[0m \u001b[38;5;28;01mwith\u001b[39;00m np\u001b[38;5;241m.\u001b[39merrstate(\u001b[38;5;28mall\u001b[39m\u001b[38;5;241m=\u001b[39m\u001b[38;5;124m\"\u001b[39m\u001b[38;5;124mignore\u001b[39m\u001b[38;5;124m\"\u001b[39m):\n\u001b[0;32m-> 4468\u001b[0m     \u001b[38;5;28;01mreturn\u001b[39;00m \u001b[43mop\u001b[49m\u001b[43m(\u001b[49m\u001b[43mdelegate\u001b[49m\u001b[43m,\u001b[49m\u001b[43m \u001b[49m\u001b[43mskipna\u001b[49m\u001b[38;5;241;43m=\u001b[39;49m\u001b[43mskipna\u001b[49m\u001b[43m,\u001b[49m\u001b[43m \u001b[49m\u001b[38;5;241;43m*\u001b[39;49m\u001b[38;5;241;43m*\u001b[39;49m\u001b[43mkwds\u001b[49m\u001b[43m)\u001b[49m\n",
      "File \u001b[0;32m~/miniconda3/envs/viz/lib/python3.10/site-packages/pandas/core/nanops.py:93\u001b[0m, in \u001b[0;36mdisallow.__call__.<locals>._f\u001b[0;34m(*args, **kwargs)\u001b[0m\n\u001b[1;32m     91\u001b[0m \u001b[38;5;28;01mtry\u001b[39;00m:\n\u001b[1;32m     92\u001b[0m     \u001b[38;5;28;01mwith\u001b[39;00m np\u001b[38;5;241m.\u001b[39merrstate(invalid\u001b[38;5;241m=\u001b[39m\u001b[38;5;124m\"\u001b[39m\u001b[38;5;124mignore\u001b[39m\u001b[38;5;124m\"\u001b[39m):\n\u001b[0;32m---> 93\u001b[0m         \u001b[38;5;28;01mreturn\u001b[39;00m \u001b[43mf\u001b[49m\u001b[43m(\u001b[49m\u001b[38;5;241;43m*\u001b[39;49m\u001b[43margs\u001b[49m\u001b[43m,\u001b[49m\u001b[43m \u001b[49m\u001b[38;5;241;43m*\u001b[39;49m\u001b[38;5;241;43m*\u001b[39;49m\u001b[43mkwargs\u001b[49m\u001b[43m)\u001b[49m\n\u001b[1;32m     94\u001b[0m \u001b[38;5;28;01mexcept\u001b[39;00m \u001b[38;5;167;01mValueError\u001b[39;00m \u001b[38;5;28;01mas\u001b[39;00m e:\n\u001b[1;32m     95\u001b[0m     \u001b[38;5;66;03m# we want to transform an object array\u001b[39;00m\n\u001b[1;32m     96\u001b[0m     \u001b[38;5;66;03m# ValueError message to the more typical TypeError\u001b[39;00m\n\u001b[1;32m     97\u001b[0m     \u001b[38;5;66;03m# e.g. this is normally a disallowed function on\u001b[39;00m\n\u001b[1;32m     98\u001b[0m     \u001b[38;5;66;03m# object arrays that contain strings\u001b[39;00m\n\u001b[1;32m     99\u001b[0m     \u001b[38;5;28;01mif\u001b[39;00m is_object_dtype(args[\u001b[38;5;241m0\u001b[39m]):\n",
      "File \u001b[0;32m~/miniconda3/envs/viz/lib/python3.10/site-packages/pandas/core/nanops.py:155\u001b[0m, in \u001b[0;36mbottleneck_switch.__call__.<locals>.f\u001b[0;34m(values, axis, skipna, **kwds)\u001b[0m\n\u001b[1;32m    153\u001b[0m         result \u001b[38;5;241m=\u001b[39m alt(values, axis\u001b[38;5;241m=\u001b[39maxis, skipna\u001b[38;5;241m=\u001b[39mskipna, \u001b[38;5;241m*\u001b[39m\u001b[38;5;241m*\u001b[39mkwds)\n\u001b[1;32m    154\u001b[0m \u001b[38;5;28;01melse\u001b[39;00m:\n\u001b[0;32m--> 155\u001b[0m     result \u001b[38;5;241m=\u001b[39m \u001b[43malt\u001b[49m\u001b[43m(\u001b[49m\u001b[43mvalues\u001b[49m\u001b[43m,\u001b[49m\u001b[43m \u001b[49m\u001b[43maxis\u001b[49m\u001b[38;5;241;43m=\u001b[39;49m\u001b[43maxis\u001b[49m\u001b[43m,\u001b[49m\u001b[43m \u001b[49m\u001b[43mskipna\u001b[49m\u001b[38;5;241;43m=\u001b[39;49m\u001b[43mskipna\u001b[49m\u001b[43m,\u001b[49m\u001b[43m \u001b[49m\u001b[38;5;241;43m*\u001b[39;49m\u001b[38;5;241;43m*\u001b[39;49m\u001b[43mkwds\u001b[49m\u001b[43m)\u001b[49m\n\u001b[1;32m    157\u001b[0m \u001b[38;5;28;01mreturn\u001b[39;00m result\n",
      "File \u001b[0;32m~/miniconda3/envs/viz/lib/python3.10/site-packages/pandas/core/nanops.py:410\u001b[0m, in \u001b[0;36m_datetimelike_compat.<locals>.new_func\u001b[0;34m(values, axis, skipna, mask, **kwargs)\u001b[0m\n\u001b[1;32m    407\u001b[0m \u001b[38;5;28;01mif\u001b[39;00m datetimelike \u001b[38;5;129;01mand\u001b[39;00m mask \u001b[38;5;129;01mis\u001b[39;00m \u001b[38;5;28;01mNone\u001b[39;00m:\n\u001b[1;32m    408\u001b[0m     mask \u001b[38;5;241m=\u001b[39m isna(values)\n\u001b[0;32m--> 410\u001b[0m result \u001b[38;5;241m=\u001b[39m \u001b[43mfunc\u001b[49m\u001b[43m(\u001b[49m\u001b[43mvalues\u001b[49m\u001b[43m,\u001b[49m\u001b[43m \u001b[49m\u001b[43maxis\u001b[49m\u001b[38;5;241;43m=\u001b[39;49m\u001b[43maxis\u001b[49m\u001b[43m,\u001b[49m\u001b[43m \u001b[49m\u001b[43mskipna\u001b[49m\u001b[38;5;241;43m=\u001b[39;49m\u001b[43mskipna\u001b[49m\u001b[43m,\u001b[49m\u001b[43m \u001b[49m\u001b[43mmask\u001b[49m\u001b[38;5;241;43m=\u001b[39;49m\u001b[43mmask\u001b[49m\u001b[43m,\u001b[49m\u001b[43m \u001b[49m\u001b[38;5;241;43m*\u001b[39;49m\u001b[38;5;241;43m*\u001b[39;49m\u001b[43mkwargs\u001b[49m\u001b[43m)\u001b[49m\n\u001b[1;32m    412\u001b[0m \u001b[38;5;28;01mif\u001b[39;00m datetimelike:\n\u001b[1;32m    413\u001b[0m     result \u001b[38;5;241m=\u001b[39m _wrap_results(result, orig_values\u001b[38;5;241m.\u001b[39mdtype, fill_value\u001b[38;5;241m=\u001b[39miNaT)\n",
      "File \u001b[0;32m~/miniconda3/envs/viz/lib/python3.10/site-packages/pandas/core/nanops.py:698\u001b[0m, in \u001b[0;36mnanmean\u001b[0;34m(values, axis, skipna, mask)\u001b[0m\n\u001b[1;32m    695\u001b[0m     dtype_count \u001b[38;5;241m=\u001b[39m dtype\n\u001b[1;32m    697\u001b[0m count \u001b[38;5;241m=\u001b[39m _get_counts(values\u001b[38;5;241m.\u001b[39mshape, mask, axis, dtype\u001b[38;5;241m=\u001b[39mdtype_count)\n\u001b[0;32m--> 698\u001b[0m the_sum \u001b[38;5;241m=\u001b[39m _ensure_numeric(\u001b[43mvalues\u001b[49m\u001b[38;5;241;43m.\u001b[39;49m\u001b[43msum\u001b[49m\u001b[43m(\u001b[49m\u001b[43maxis\u001b[49m\u001b[43m,\u001b[49m\u001b[43m \u001b[49m\u001b[43mdtype\u001b[49m\u001b[38;5;241;43m=\u001b[39;49m\u001b[43mdtype_sum\u001b[49m\u001b[43m)\u001b[49m)\n\u001b[1;32m    700\u001b[0m \u001b[38;5;28;01mif\u001b[39;00m axis \u001b[38;5;129;01mis\u001b[39;00m \u001b[38;5;129;01mnot\u001b[39;00m \u001b[38;5;28;01mNone\u001b[39;00m \u001b[38;5;129;01mand\u001b[39;00m \u001b[38;5;28mgetattr\u001b[39m(the_sum, \u001b[38;5;124m\"\u001b[39m\u001b[38;5;124mndim\u001b[39m\u001b[38;5;124m\"\u001b[39m, \u001b[38;5;28;01mFalse\u001b[39;00m):\n\u001b[1;32m    701\u001b[0m     count \u001b[38;5;241m=\u001b[39m cast(np\u001b[38;5;241m.\u001b[39mndarray, count)\n",
      "File \u001b[0;32m~/miniconda3/envs/viz/lib/python3.10/site-packages/numpy/core/_methods.py:48\u001b[0m, in \u001b[0;36m_sum\u001b[0;34m(a, axis, dtype, out, keepdims, initial, where)\u001b[0m\n\u001b[1;32m     46\u001b[0m \u001b[38;5;28;01mdef\u001b[39;00m \u001b[38;5;21m_sum\u001b[39m(a, axis\u001b[38;5;241m=\u001b[39m\u001b[38;5;28;01mNone\u001b[39;00m, dtype\u001b[38;5;241m=\u001b[39m\u001b[38;5;28;01mNone\u001b[39;00m, out\u001b[38;5;241m=\u001b[39m\u001b[38;5;28;01mNone\u001b[39;00m, keepdims\u001b[38;5;241m=\u001b[39m\u001b[38;5;28;01mFalse\u001b[39;00m,\n\u001b[1;32m     47\u001b[0m          initial\u001b[38;5;241m=\u001b[39m_NoValue, where\u001b[38;5;241m=\u001b[39m\u001b[38;5;28;01mTrue\u001b[39;00m):\n\u001b[0;32m---> 48\u001b[0m     \u001b[38;5;28;01mreturn\u001b[39;00m \u001b[43mumr_sum\u001b[49m\u001b[43m(\u001b[49m\u001b[43ma\u001b[49m\u001b[43m,\u001b[49m\u001b[43m \u001b[49m\u001b[43maxis\u001b[49m\u001b[43m,\u001b[49m\u001b[43m \u001b[49m\u001b[43mdtype\u001b[49m\u001b[43m,\u001b[49m\u001b[43m \u001b[49m\u001b[43mout\u001b[49m\u001b[43m,\u001b[49m\u001b[43m \u001b[49m\u001b[43mkeepdims\u001b[49m\u001b[43m,\u001b[49m\u001b[43m \u001b[49m\u001b[43minitial\u001b[49m\u001b[43m,\u001b[49m\u001b[43m \u001b[49m\u001b[43mwhere\u001b[49m\u001b[43m)\u001b[49m\n",
      "\u001b[0;31mTypeError\u001b[0m: unsupported operand type(s) for +: 'float' and 'str'"
     ]
    }
   ],
   "source": [
    "mydf['snowfall'].mean()"
   ]
  },
  {
   "cell_type": "markdown",
   "metadata": {},
   "source": [
    "Since \"trace\" means a small amount, it's fairly reasonable to represent it as 0.  So we're going to construct a function that we can `apply()` to each entry.  Let's check to see if the entry is \"trace\" and if so, set it to 0.0."
   ]
  },
  {
   "cell_type": "code",
   "execution_count": 24,
   "metadata": {},
   "outputs": [
    {
     "data": {
      "text/html": [
       "<div>\n",
       "<style scoped>\n",
       "    .dataframe tbody tr th:only-of-type {\n",
       "        vertical-align: middle;\n",
       "    }\n",
       "\n",
       "    .dataframe tbody tr th {\n",
       "        vertical-align: top;\n",
       "    }\n",
       "\n",
       "    .dataframe thead th {\n",
       "        text-align: right;\n",
       "    }\n",
       "</style>\n",
       "<table border=\"1\" class=\"dataframe\">\n",
       "  <thead>\n",
       "    <tr style=\"text-align: right;\">\n",
       "      <th></th>\n",
       "      <th>temperature</th>\n",
       "      <th>snowfall</th>\n",
       "    </tr>\n",
       "    <tr>\n",
       "      <th>month</th>\n",
       "      <th></th>\n",
       "      <th></th>\n",
       "    </tr>\n",
       "  </thead>\n",
       "  <tbody>\n",
       "    <tr>\n",
       "      <th>2019-01-01</th>\n",
       "      <td>20</td>\n",
       "      <td>12.5</td>\n",
       "    </tr>\n",
       "    <tr>\n",
       "      <th>2019-02-01</th>\n",
       "      <td>30</td>\n",
       "      <td>15.0</td>\n",
       "    </tr>\n",
       "    <tr>\n",
       "      <th>2019-03-01</th>\n",
       "      <td>40</td>\n",
       "      <td>0.0</td>\n",
       "    </tr>\n",
       "  </tbody>\n",
       "</table>\n",
       "</div>"
      ],
      "text/plain": [
       "            temperature  snowfall\n",
       "month                            \n",
       "2019-01-01           20      12.5\n",
       "2019-02-01           30      15.0\n",
       "2019-03-01           40       0.0"
      ]
     },
     "execution_count": 24,
     "metadata": {},
     "output_type": "execute_result"
    }
   ],
   "source": [
    "def f(x):\n",
    "    if x == 'trace':\n",
    "        return 0.0\n",
    "    else:\n",
    "        return x\n",
    "\n",
    "mydf['snowfall'] = mydf['snowfall'].apply(f)\n",
    "mydf"
   ]
  },
  {
   "cell_type": "markdown",
   "metadata": {},
   "source": [
    "Now that \"trace\" is removed, we can take the average."
   ]
  },
  {
   "cell_type": "code",
   "execution_count": 25,
   "metadata": {},
   "outputs": [
    {
     "data": {
      "text/plain": [
       "9.166666666666666"
      ]
     },
     "execution_count": 25,
     "metadata": {},
     "output_type": "execute_result"
    }
   ],
   "source": [
    "mydf['snowfall'].mean()"
   ]
  },
  {
   "cell_type": "markdown",
   "metadata": {},
   "source": [
    "## 1. The fuel economy dataset\n",
    "\n",
    "Using the practice from the `mydf` example, let's take a look at the `ecodf` dataframe we obtained above from importing the fuel economy dataset."
   ]
  },
  {
   "cell_type": "code",
   "execution_count": 26,
   "metadata": {},
   "outputs": [
    {
     "name": "stdout",
     "output_type": "stream",
     "text": [
      "<class 'pandas.core.frame.DataFrame'>\n",
      "RangeIndex: 376 entries, 0 to 375\n",
      "Data columns (total 13 columns):\n",
      " #   Column                      Non-Null Count  Dtype  \n",
      "---  ------                      --------------  -----  \n",
      " 0   Model Year                  376 non-null    object \n",
      " 1   Regulatory Class            376 non-null    object \n",
      " 2   Vehicle Type                376 non-null    object \n",
      " 3   Production Share            376 non-null    object \n",
      " 4   Real-World MPG              376 non-null    float64\n",
      " 5   Real-World MPG_City         376 non-null    float64\n",
      " 6   Real-World MPG_Hwy          376 non-null    float64\n",
      " 7   Real-World CO2 (g/mi)       376 non-null    float64\n",
      " 8   Real-World CO2_City (g/mi)  376 non-null    float64\n",
      " 9   Real-World CO2_Hwy (g/mi)   376 non-null    float64\n",
      " 10  Weight (lbs)                376 non-null    float64\n",
      " 11  Horsepower (HP)             376 non-null    float64\n",
      " 12  Footprint (sq. ft.)         376 non-null    object \n",
      "dtypes: float64(8), object(5)\n",
      "memory usage: 38.3+ KB\n"
     ]
    }
   ],
   "source": [
    "ecodf.info()"
   ]
  },
  {
   "cell_type": "code",
   "execution_count": 27,
   "metadata": {},
   "outputs": [
    {
     "data": {
      "text/html": [
       "<div>\n",
       "<style scoped>\n",
       "    .dataframe tbody tr th:only-of-type {\n",
       "        vertical-align: middle;\n",
       "    }\n",
       "\n",
       "    .dataframe tbody tr th {\n",
       "        vertical-align: top;\n",
       "    }\n",
       "\n",
       "    .dataframe thead th {\n",
       "        text-align: right;\n",
       "    }\n",
       "</style>\n",
       "<table border=\"1\" class=\"dataframe\">\n",
       "  <thead>\n",
       "    <tr style=\"text-align: right;\">\n",
       "      <th></th>\n",
       "      <th>Model Year</th>\n",
       "      <th>Regulatory Class</th>\n",
       "      <th>Vehicle Type</th>\n",
       "      <th>Production Share</th>\n",
       "      <th>Real-World MPG</th>\n",
       "      <th>Real-World MPG_City</th>\n",
       "      <th>Real-World MPG_Hwy</th>\n",
       "      <th>Real-World CO2 (g/mi)</th>\n",
       "      <th>Real-World CO2_City (g/mi)</th>\n",
       "      <th>Real-World CO2_Hwy (g/mi)</th>\n",
       "      <th>Weight (lbs)</th>\n",
       "      <th>Horsepower (HP)</th>\n",
       "      <th>Footprint (sq. ft.)</th>\n",
       "    </tr>\n",
       "  </thead>\n",
       "  <tbody>\n",
       "    <tr>\n",
       "      <th>0</th>\n",
       "      <td>1975</td>\n",
       "      <td>All</td>\n",
       "      <td>All</td>\n",
       "      <td>1.000000</td>\n",
       "      <td>13.05970</td>\n",
       "      <td>12.01552</td>\n",
       "      <td>14.61167</td>\n",
       "      <td>680.59612</td>\n",
       "      <td>739.73800</td>\n",
       "      <td>608.31160</td>\n",
       "      <td>4060.399</td>\n",
       "      <td>137.3346</td>\n",
       "      <td>-</td>\n",
       "    </tr>\n",
       "    <tr>\n",
       "      <th>1</th>\n",
       "      <td>1975</td>\n",
       "      <td>Car</td>\n",
       "      <td>All Car</td>\n",
       "      <td>0.806646</td>\n",
       "      <td>13.45483</td>\n",
       "      <td>12.31413</td>\n",
       "      <td>15.17266</td>\n",
       "      <td>660.63740</td>\n",
       "      <td>721.82935</td>\n",
       "      <td>585.84724</td>\n",
       "      <td>4057.494</td>\n",
       "      <td>136.1964</td>\n",
       "      <td>-</td>\n",
       "    </tr>\n",
       "    <tr>\n",
       "      <th>2</th>\n",
       "      <td>1975</td>\n",
       "      <td>Car</td>\n",
       "      <td>Sedan/Wagon</td>\n",
       "      <td>0.805645</td>\n",
       "      <td>13.45833</td>\n",
       "      <td>12.31742</td>\n",
       "      <td>15.17643</td>\n",
       "      <td>660.46603</td>\n",
       "      <td>721.63673</td>\n",
       "      <td>585.70185</td>\n",
       "      <td>4057.565</td>\n",
       "      <td>136.2256</td>\n",
       "      <td>-</td>\n",
       "    </tr>\n",
       "    <tr>\n",
       "      <th>3</th>\n",
       "      <td>1975</td>\n",
       "      <td>Truck</td>\n",
       "      <td>All Truck</td>\n",
       "      <td>0.193354</td>\n",
       "      <td>11.63431</td>\n",
       "      <td>10.91165</td>\n",
       "      <td>12.65900</td>\n",
       "      <td>763.86134</td>\n",
       "      <td>814.45060</td>\n",
       "      <td>702.03002</td>\n",
       "      <td>4072.518</td>\n",
       "      <td>142.0826</td>\n",
       "      <td>-</td>\n",
       "    </tr>\n",
       "    <tr>\n",
       "      <th>4</th>\n",
       "      <td>1975</td>\n",
       "      <td>Truck</td>\n",
       "      <td>Pickup</td>\n",
       "      <td>0.131322</td>\n",
       "      <td>11.91476</td>\n",
       "      <td>11.07827</td>\n",
       "      <td>13.12613</td>\n",
       "      <td>745.88139</td>\n",
       "      <td>802.20090</td>\n",
       "      <td>677.04643</td>\n",
       "      <td>4011.977</td>\n",
       "      <td>140.9365</td>\n",
       "      <td>-</td>\n",
       "    </tr>\n",
       "    <tr>\n",
       "      <th>...</th>\n",
       "      <td>...</td>\n",
       "      <td>...</td>\n",
       "      <td>...</td>\n",
       "      <td>...</td>\n",
       "      <td>...</td>\n",
       "      <td>...</td>\n",
       "      <td>...</td>\n",
       "      <td>...</td>\n",
       "      <td>...</td>\n",
       "      <td>...</td>\n",
       "      <td>...</td>\n",
       "      <td>...</td>\n",
       "      <td>...</td>\n",
       "    </tr>\n",
       "    <tr>\n",
       "      <th>371</th>\n",
       "      <td>Prelim. 2021</td>\n",
       "      <td>Truck</td>\n",
       "      <td>Minivan/Van</td>\n",
       "      <td>-</td>\n",
       "      <td>26.20616</td>\n",
       "      <td>23.06617</td>\n",
       "      <td>29.20538</td>\n",
       "      <td>336.16426</td>\n",
       "      <td>381.30898</td>\n",
       "      <td>302.10772</td>\n",
       "      <td>4609.271</td>\n",
       "      <td>231.4091</td>\n",
       "      <td>52.60352</td>\n",
       "    </tr>\n",
       "    <tr>\n",
       "      <th>372</th>\n",
       "      <td>Prelim. 2021</td>\n",
       "      <td>All</td>\n",
       "      <td>All</td>\n",
       "      <td>-</td>\n",
       "      <td>25.34024</td>\n",
       "      <td>22.15460</td>\n",
       "      <td>28.42346</td>\n",
       "      <td>348.24205</td>\n",
       "      <td>398.71693</td>\n",
       "      <td>310.16749</td>\n",
       "      <td>4287.392</td>\n",
       "      <td>252.2007</td>\n",
       "      <td>51.38513</td>\n",
       "    </tr>\n",
       "    <tr>\n",
       "      <th>373</th>\n",
       "      <td>Prelim. 2021</td>\n",
       "      <td>Truck</td>\n",
       "      <td>Truck SUV</td>\n",
       "      <td>-</td>\n",
       "      <td>23.99702</td>\n",
       "      <td>21.16697</td>\n",
       "      <td>26.68893</td>\n",
       "      <td>369.57803</td>\n",
       "      <td>418.85828</td>\n",
       "      <td>332.40710</td>\n",
       "      <td>4471.763</td>\n",
       "      <td>252.7963</td>\n",
       "      <td>49.20598</td>\n",
       "    </tr>\n",
       "    <tr>\n",
       "      <th>374</th>\n",
       "      <td>Prelim. 2021</td>\n",
       "      <td>Truck</td>\n",
       "      <td>All Truck</td>\n",
       "      <td>-</td>\n",
       "      <td>22.58129</td>\n",
       "      <td>19.79987</td>\n",
       "      <td>25.25796</td>\n",
       "      <td>393.74267</td>\n",
       "      <td>448.92779</td>\n",
       "      <td>352.11546</td>\n",
       "      <td>4682.578</td>\n",
       "      <td>276.5167</td>\n",
       "      <td>54.12613</td>\n",
       "    </tr>\n",
       "    <tr>\n",
       "      <th>375</th>\n",
       "      <td>Prelim. 2021</td>\n",
       "      <td>Truck</td>\n",
       "      <td>Pickup</td>\n",
       "      <td>-</td>\n",
       "      <td>19.39958</td>\n",
       "      <td>16.80735</td>\n",
       "      <td>21.95393</td>\n",
       "      <td>461.06113</td>\n",
       "      <td>532.08045</td>\n",
       "      <td>407.48515</td>\n",
       "      <td>5204.315</td>\n",
       "      <td>340.8539</td>\n",
       "      <td>66.27408</td>\n",
       "    </tr>\n",
       "  </tbody>\n",
       "</table>\n",
       "<p>376 rows × 13 columns</p>\n",
       "</div>"
      ],
      "text/plain": [
       "       Model Year Regulatory Class Vehicle Type Production Share  \\\n",
       "0            1975              All          All         1.000000   \n",
       "1            1975              Car      All Car         0.806646   \n",
       "2            1975              Car  Sedan/Wagon         0.805645   \n",
       "3            1975            Truck    All Truck         0.193354   \n",
       "4            1975            Truck       Pickup         0.131322   \n",
       "..            ...              ...          ...              ...   \n",
       "371  Prelim. 2021            Truck  Minivan/Van                -   \n",
       "372  Prelim. 2021              All          All                -   \n",
       "373  Prelim. 2021            Truck    Truck SUV                -   \n",
       "374  Prelim. 2021            Truck    All Truck                -   \n",
       "375  Prelim. 2021            Truck       Pickup                -   \n",
       "\n",
       "     Real-World MPG  Real-World MPG_City  Real-World MPG_Hwy  \\\n",
       "0          13.05970             12.01552            14.61167   \n",
       "1          13.45483             12.31413            15.17266   \n",
       "2          13.45833             12.31742            15.17643   \n",
       "3          11.63431             10.91165            12.65900   \n",
       "4          11.91476             11.07827            13.12613   \n",
       "..              ...                  ...                 ...   \n",
       "371        26.20616             23.06617            29.20538   \n",
       "372        25.34024             22.15460            28.42346   \n",
       "373        23.99702             21.16697            26.68893   \n",
       "374        22.58129             19.79987            25.25796   \n",
       "375        19.39958             16.80735            21.95393   \n",
       "\n",
       "     Real-World CO2 (g/mi)  Real-World CO2_City (g/mi)  \\\n",
       "0                680.59612                   739.73800   \n",
       "1                660.63740                   721.82935   \n",
       "2                660.46603                   721.63673   \n",
       "3                763.86134                   814.45060   \n",
       "4                745.88139                   802.20090   \n",
       "..                     ...                         ...   \n",
       "371              336.16426                   381.30898   \n",
       "372              348.24205                   398.71693   \n",
       "373              369.57803                   418.85828   \n",
       "374              393.74267                   448.92779   \n",
       "375              461.06113                   532.08045   \n",
       "\n",
       "     Real-World CO2_Hwy (g/mi)  Weight (lbs)  Horsepower (HP)  \\\n",
       "0                    608.31160      4060.399         137.3346   \n",
       "1                    585.84724      4057.494         136.1964   \n",
       "2                    585.70185      4057.565         136.2256   \n",
       "3                    702.03002      4072.518         142.0826   \n",
       "4                    677.04643      4011.977         140.9365   \n",
       "..                         ...           ...              ...   \n",
       "371                  302.10772      4609.271         231.4091   \n",
       "372                  310.16749      4287.392         252.2007   \n",
       "373                  332.40710      4471.763         252.7963   \n",
       "374                  352.11546      4682.578         276.5167   \n",
       "375                  407.48515      5204.315         340.8539   \n",
       "\n",
       "    Footprint (sq. ft.)  \n",
       "0                     -  \n",
       "1                     -  \n",
       "2                     -  \n",
       "3                     -  \n",
       "4                     -  \n",
       "..                  ...  \n",
       "371            52.60352  \n",
       "372            51.38513  \n",
       "373            49.20598  \n",
       "374            54.12613  \n",
       "375            66.27408  \n",
       "\n",
       "[376 rows x 13 columns]"
      ]
     },
     "execution_count": 27,
     "metadata": {},
     "output_type": "execute_result"
    }
   ],
   "source": [
    "ecodf"
   ]
  },
  {
   "cell_type": "markdown",
   "metadata": {},
   "source": [
    "Take a look at the columns --- we'll be considering the 'Real-World MPG' for our analysis."
   ]
  },
  {
   "cell_type": "code",
   "execution_count": 28,
   "metadata": {},
   "outputs": [
    {
     "data": {
      "text/plain": [
       "Index(['Model Year', 'Regulatory Class', 'Vehicle Type', 'Production Share',\n",
       "       'Real-World MPG', 'Real-World MPG_City', 'Real-World MPG_Hwy',\n",
       "       'Real-World CO2 (g/mi)', 'Real-World CO2_City (g/mi)',\n",
       "       'Real-World CO2_Hwy (g/mi)', 'Weight (lbs)', 'Horsepower (HP)',\n",
       "       'Footprint (sq. ft.)'],\n",
       "      dtype='object')"
      ]
     },
     "execution_count": 28,
     "metadata": {},
     "output_type": "execute_result"
    }
   ],
   "source": [
    "ecodf.columns"
   ]
  },
  {
   "cell_type": "markdown",
   "metadata": {},
   "source": [
    "### Plot the MPG\n",
    "\n",
    "Let's try to plot the values of `Real-World MPG` using the `plot()` method for series."
   ]
  },
  {
   "cell_type": "code",
   "execution_count": 29,
   "metadata": {},
   "outputs": [
    {
     "data": {
      "text/plain": [
       "<AxesSubplot:>"
      ]
     },
     "execution_count": 29,
     "metadata": {},
     "output_type": "execute_result"
    },
    {
     "data": {
      "image/png": "[encoded data removed]",
      "text/plain": [
       "<Figure size 432x288 with 1 Axes>"
      ]
     },
     "metadata": {
      "needs_background": "light"
     },
     "output_type": "display_data"
    }
   ],
   "source": [
    "ecodf['Real-World MPG'].plot()"
   ]
  },
  {
   "cell_type": "markdown",
   "metadata": {},
   "source": [
    "#### How can we improve this?\n",
    "\n",
    "1. It looks like we're indexing this by integers (the x-axis).  A more helpful view would be years (or dates).\n",
    "2. From the dataset above, all vehicle types are being plotted (so there are multiple values corresponding to each year).  Try plotting only for the vehicle type `Car SUV`, for example.\n",
    "3. The plot needs **labels** (axes, legend) and improved formatting (look, size, font)."
   ]
  },
  {
   "cell_type": "markdown",
   "metadata": {},
   "source": [
    "#### (1) formatting the dates\n",
    "\n",
    "Let's format the `Model Year` column and set it as our index."
   ]
  },
  {
   "cell_type": "code",
   "execution_count": 30,
   "metadata": {},
   "outputs": [
    {
     "data": {
      "text/html": [
       "<div>\n",
       "<style scoped>\n",
       "    .dataframe tbody tr th:only-of-type {\n",
       "        vertical-align: middle;\n",
       "    }\n",
       "\n",
       "    .dataframe tbody tr th {\n",
       "        vertical-align: top;\n",
       "    }\n",
       "\n",
       "    .dataframe thead th {\n",
       "        text-align: right;\n",
       "    }\n",
       "</style>\n",
       "<table border=\"1\" class=\"dataframe\">\n",
       "  <thead>\n",
       "    <tr style=\"text-align: right;\">\n",
       "      <th></th>\n",
       "      <th>Model Year</th>\n",
       "      <th>Regulatory Class</th>\n",
       "      <th>Vehicle Type</th>\n",
       "      <th>Production Share</th>\n",
       "      <th>Real-World MPG</th>\n",
       "      <th>Real-World MPG_City</th>\n",
       "      <th>Real-World MPG_Hwy</th>\n",
       "      <th>Real-World CO2 (g/mi)</th>\n",
       "      <th>Real-World CO2_City (g/mi)</th>\n",
       "      <th>Real-World CO2_Hwy (g/mi)</th>\n",
       "      <th>Weight (lbs)</th>\n",
       "      <th>Horsepower (HP)</th>\n",
       "      <th>Footprint (sq. ft.)</th>\n",
       "    </tr>\n",
       "  </thead>\n",
       "  <tbody>\n",
       "    <tr>\n",
       "      <th>0</th>\n",
       "      <td>1975</td>\n",
       "      <td>All</td>\n",
       "      <td>All</td>\n",
       "      <td>1.000000</td>\n",
       "      <td>13.05970</td>\n",
       "      <td>12.01552</td>\n",
       "      <td>14.61167</td>\n",
       "      <td>680.59612</td>\n",
       "      <td>739.73800</td>\n",
       "      <td>608.31160</td>\n",
       "      <td>4060.399</td>\n",
       "      <td>137.3346</td>\n",
       "      <td>-</td>\n",
       "    </tr>\n",
       "    <tr>\n",
       "      <th>1</th>\n",
       "      <td>1975</td>\n",
       "      <td>Car</td>\n",
       "      <td>All Car</td>\n",
       "      <td>0.806646</td>\n",
       "      <td>13.45483</td>\n",
       "      <td>12.31413</td>\n",
       "      <td>15.17266</td>\n",
       "      <td>660.63740</td>\n",
       "      <td>721.82935</td>\n",
       "      <td>585.84724</td>\n",
       "      <td>4057.494</td>\n",
       "      <td>136.1964</td>\n",
       "      <td>-</td>\n",
       "    </tr>\n",
       "    <tr>\n",
       "      <th>2</th>\n",
       "      <td>1975</td>\n",
       "      <td>Car</td>\n",
       "      <td>Sedan/Wagon</td>\n",
       "      <td>0.805645</td>\n",
       "      <td>13.45833</td>\n",
       "      <td>12.31742</td>\n",
       "      <td>15.17643</td>\n",
       "      <td>660.46603</td>\n",
       "      <td>721.63673</td>\n",
       "      <td>585.70185</td>\n",
       "      <td>4057.565</td>\n",
       "      <td>136.2256</td>\n",
       "      <td>-</td>\n",
       "    </tr>\n",
       "    <tr>\n",
       "      <th>3</th>\n",
       "      <td>1975</td>\n",
       "      <td>Truck</td>\n",
       "      <td>All Truck</td>\n",
       "      <td>0.193354</td>\n",
       "      <td>11.63431</td>\n",
       "      <td>10.91165</td>\n",
       "      <td>12.65900</td>\n",
       "      <td>763.86134</td>\n",
       "      <td>814.45060</td>\n",
       "      <td>702.03002</td>\n",
       "      <td>4072.518</td>\n",
       "      <td>142.0826</td>\n",
       "      <td>-</td>\n",
       "    </tr>\n",
       "    <tr>\n",
       "      <th>4</th>\n",
       "      <td>1975</td>\n",
       "      <td>Truck</td>\n",
       "      <td>Pickup</td>\n",
       "      <td>0.131322</td>\n",
       "      <td>11.91476</td>\n",
       "      <td>11.07827</td>\n",
       "      <td>13.12613</td>\n",
       "      <td>745.88139</td>\n",
       "      <td>802.20090</td>\n",
       "      <td>677.04643</td>\n",
       "      <td>4011.977</td>\n",
       "      <td>140.9365</td>\n",
       "      <td>-</td>\n",
       "    </tr>\n",
       "    <tr>\n",
       "      <th>...</th>\n",
       "      <td>...</td>\n",
       "      <td>...</td>\n",
       "      <td>...</td>\n",
       "      <td>...</td>\n",
       "      <td>...</td>\n",
       "      <td>...</td>\n",
       "      <td>...</td>\n",
       "      <td>...</td>\n",
       "      <td>...</td>\n",
       "      <td>...</td>\n",
       "      <td>...</td>\n",
       "      <td>...</td>\n",
       "      <td>...</td>\n",
       "    </tr>\n",
       "    <tr>\n",
       "      <th>371</th>\n",
       "      <td>Prelim. 2021</td>\n",
       "      <td>Truck</td>\n",
       "      <td>Minivan/Van</td>\n",
       "      <td>-</td>\n",
       "      <td>26.20616</td>\n",
       "      <td>23.06617</td>\n",
       "      <td>29.20538</td>\n",
       "      <td>336.16426</td>\n",
       "      <td>381.30898</td>\n",
       "      <td>302.10772</td>\n",
       "      <td>4609.271</td>\n",
       "      <td>231.4091</td>\n",
       "      <td>52.60352</td>\n",
       "    </tr>\n",
       "    <tr>\n",
       "      <th>372</th>\n",
       "      <td>Prelim. 2021</td>\n",
       "      <td>All</td>\n",
       "      <td>All</td>\n",
       "      <td>-</td>\n",
       "      <td>25.34024</td>\n",
       "      <td>22.15460</td>\n",
       "      <td>28.42346</td>\n",
       "      <td>348.24205</td>\n",
       "      <td>398.71693</td>\n",
       "      <td>310.16749</td>\n",
       "      <td>4287.392</td>\n",
       "      <td>252.2007</td>\n",
       "      <td>51.38513</td>\n",
       "    </tr>\n",
       "    <tr>\n",
       "      <th>373</th>\n",
       "      <td>Prelim. 2021</td>\n",
       "      <td>Truck</td>\n",
       "      <td>Truck SUV</td>\n",
       "      <td>-</td>\n",
       "      <td>23.99702</td>\n",
       "      <td>21.16697</td>\n",
       "      <td>26.68893</td>\n",
       "      <td>369.57803</td>\n",
       "      <td>418.85828</td>\n",
       "      <td>332.40710</td>\n",
       "      <td>4471.763</td>\n",
       "      <td>252.7963</td>\n",
       "      <td>49.20598</td>\n",
       "    </tr>\n",
       "    <tr>\n",
       "      <th>374</th>\n",
       "      <td>Prelim. 2021</td>\n",
       "      <td>Truck</td>\n",
       "      <td>All Truck</td>\n",
       "      <td>-</td>\n",
       "      <td>22.58129</td>\n",
       "      <td>19.79987</td>\n",
       "      <td>25.25796</td>\n",
       "      <td>393.74267</td>\n",
       "      <td>448.92779</td>\n",
       "      <td>352.11546</td>\n",
       "      <td>4682.578</td>\n",
       "      <td>276.5167</td>\n",
       "      <td>54.12613</td>\n",
       "    </tr>\n",
       "    <tr>\n",
       "      <th>375</th>\n",
       "      <td>Prelim. 2021</td>\n",
       "      <td>Truck</td>\n",
       "      <td>Pickup</td>\n",
       "      <td>-</td>\n",
       "      <td>19.39958</td>\n",
       "      <td>16.80735</td>\n",
       "      <td>21.95393</td>\n",
       "      <td>461.06113</td>\n",
       "      <td>532.08045</td>\n",
       "      <td>407.48515</td>\n",
       "      <td>5204.315</td>\n",
       "      <td>340.8539</td>\n",
       "      <td>66.27408</td>\n",
       "    </tr>\n",
       "  </tbody>\n",
       "</table>\n",
       "<p>376 rows × 13 columns</p>\n",
       "</div>"
      ],
      "text/plain": [
       "       Model Year Regulatory Class Vehicle Type Production Share  \\\n",
       "0            1975              All          All         1.000000   \n",
       "1            1975              Car      All Car         0.806646   \n",
       "2            1975              Car  Sedan/Wagon         0.805645   \n",
       "3            1975            Truck    All Truck         0.193354   \n",
       "4            1975            Truck       Pickup         0.131322   \n",
       "..            ...              ...          ...              ...   \n",
       "371  Prelim. 2021            Truck  Minivan/Van                -   \n",
       "372  Prelim. 2021              All          All                -   \n",
       "373  Prelim. 2021            Truck    Truck SUV                -   \n",
       "374  Prelim. 2021            Truck    All Truck                -   \n",
       "375  Prelim. 2021            Truck       Pickup                -   \n",
       "\n",
       "     Real-World MPG  Real-World MPG_City  Real-World MPG_Hwy  \\\n",
       "0          13.05970             12.01552            14.61167   \n",
       "1          13.45483             12.31413            15.17266   \n",
       "2          13.45833             12.31742            15.17643   \n",
       "3          11.63431             10.91165            12.65900   \n",
       "4          11.91476             11.07827            13.12613   \n",
       "..              ...                  ...                 ...   \n",
       "371        26.20616             23.06617            29.20538   \n",
       "372        25.34024             22.15460            28.42346   \n",
       "373        23.99702             21.16697            26.68893   \n",
       "374        22.58129             19.79987            25.25796   \n",
       "375        19.39958             16.80735            21.95393   \n",
       "\n",
       "     Real-World CO2 (g/mi)  Real-World CO2_City (g/mi)  \\\n",
       "0                680.59612                   739.73800   \n",
       "1                660.63740                   721.82935   \n",
       "2                660.46603                   721.63673   \n",
       "3                763.86134                   814.45060   \n",
       "4                745.88139                   802.20090   \n",
       "..                     ...                         ...   \n",
       "371              336.16426                   381.30898   \n",
       "372              348.24205                   398.71693   \n",
       "373              369.57803                   418.85828   \n",
       "374              393.74267                   448.92779   \n",
       "375              461.06113                   532.08045   \n",
       "\n",
       "     Real-World CO2_Hwy (g/mi)  Weight (lbs)  Horsepower (HP)  \\\n",
       "0                    608.31160      4060.399         137.3346   \n",
       "1                    585.84724      4057.494         136.1964   \n",
       "2                    585.70185      4057.565         136.2256   \n",
       "3                    702.03002      4072.518         142.0826   \n",
       "4                    677.04643      4011.977         140.9365   \n",
       "..                         ...           ...              ...   \n",
       "371                  302.10772      4609.271         231.4091   \n",
       "372                  310.16749      4287.392         252.2007   \n",
       "373                  332.40710      4471.763         252.7963   \n",
       "374                  352.11546      4682.578         276.5167   \n",
       "375                  407.48515      5204.315         340.8539   \n",
       "\n",
       "    Footprint (sq. ft.)  \n",
       "0                     -  \n",
       "1                     -  \n",
       "2                     -  \n",
       "3                     -  \n",
       "4                     -  \n",
       "..                  ...  \n",
       "371            52.60352  \n",
       "372            51.38513  \n",
       "373            49.20598  \n",
       "374            54.12613  \n",
       "375            66.27408  \n",
       "\n",
       "[376 rows x 13 columns]"
      ]
     },
     "execution_count": 30,
     "metadata": {},
     "output_type": "execute_result"
    }
   ],
   "source": [
    "ecodf"
   ]
  },
  {
   "cell_type": "code",
   "execution_count": 31,
   "metadata": {},
   "outputs": [
    {
     "ename": "ValueError",
     "evalue": "time data 'Prelim. 2021' does not match format '%Y' (match)",
     "output_type": "error",
     "traceback": [
      "\u001b[0;31m---------------------------------------------------------------------------\u001b[0m",
      "\u001b[0;31mTypeError\u001b[0m                                 Traceback (most recent call last)",
      "File \u001b[0;32m~/miniconda3/envs/viz/lib/python3.10/site-packages/pandas/core/tools/datetimes.py:510\u001b[0m, in \u001b[0;36m_to_datetime_with_format\u001b[0;34m(arg, orig_arg, name, tz, fmt, exact, errors, infer_datetime_format)\u001b[0m\n\u001b[1;32m    509\u001b[0m \u001b[38;5;28;01mtry\u001b[39;00m:\n\u001b[0;32m--> 510\u001b[0m     values, tz \u001b[38;5;241m=\u001b[39m \u001b[43mconversion\u001b[49m\u001b[38;5;241;43m.\u001b[39;49m\u001b[43mdatetime_to_datetime64\u001b[49m\u001b[43m(\u001b[49m\u001b[43marg\u001b[49m\u001b[43m)\u001b[49m\n\u001b[1;32m    511\u001b[0m     dta \u001b[38;5;241m=\u001b[39m DatetimeArray(values, dtype\u001b[38;5;241m=\u001b[39mtz_to_dtype(tz))\n",
      "File \u001b[0;32m~/miniconda3/envs/viz/lib/python3.10/site-packages/pandas/_libs/tslibs/conversion.pyx:360\u001b[0m, in \u001b[0;36mpandas._libs.tslibs.conversion.datetime_to_datetime64\u001b[0;34m()\u001b[0m\n",
      "\u001b[0;31mTypeError\u001b[0m: Unrecognized value type: <class 'str'>",
      "\nDuring handling of the above exception, another exception occurred:\n",
      "\u001b[0;31mValueError\u001b[0m                                Traceback (most recent call last)",
      "Input \u001b[0;32mIn [31]\u001b[0m, in \u001b[0;36m<module>\u001b[0;34m\u001b[0m\n\u001b[0;32m----> 1\u001b[0m \u001b[43mpd\u001b[49m\u001b[38;5;241;43m.\u001b[39;49m\u001b[43mto_datetime\u001b[49m\u001b[43m(\u001b[49m\u001b[43mecodf\u001b[49m\u001b[43m[\u001b[49m\u001b[38;5;124;43m'\u001b[39;49m\u001b[38;5;124;43mModel Year\u001b[39;49m\u001b[38;5;124;43m'\u001b[39;49m\u001b[43m]\u001b[49m\u001b[43m,\u001b[49m\u001b[43m \u001b[49m\u001b[38;5;28;43mformat\u001b[39;49m\u001b[38;5;241;43m=\u001b[39;49m\u001b[38;5;124;43m'\u001b[39;49m\u001b[38;5;124;43m%\u001b[39;49m\u001b[38;5;124;43mY\u001b[39;49m\u001b[38;5;124;43m'\u001b[39;49m\u001b[43m)\u001b[49m\n",
      "File \u001b[0;32m~/miniconda3/envs/viz/lib/python3.10/site-packages/pandas/core/tools/datetimes.py:1047\u001b[0m, in \u001b[0;36mto_datetime\u001b[0;34m(arg, errors, dayfirst, yearfirst, utc, format, exact, unit, infer_datetime_format, origin, cache)\u001b[0m\n\u001b[1;32m   1045\u001b[0m             result \u001b[38;5;241m=\u001b[39m arg\u001b[38;5;241m.\u001b[39mtz_localize(tz)\n\u001b[1;32m   1046\u001b[0m \u001b[38;5;28;01melif\u001b[39;00m \u001b[38;5;28misinstance\u001b[39m(arg, ABCSeries):\n\u001b[0;32m-> 1047\u001b[0m     cache_array \u001b[38;5;241m=\u001b[39m \u001b[43m_maybe_cache\u001b[49m\u001b[43m(\u001b[49m\u001b[43marg\u001b[49m\u001b[43m,\u001b[49m\u001b[43m \u001b[49m\u001b[38;5;28;43mformat\u001b[39;49m\u001b[43m,\u001b[49m\u001b[43m \u001b[49m\u001b[43mcache\u001b[49m\u001b[43m,\u001b[49m\u001b[43m \u001b[49m\u001b[43mconvert_listlike\u001b[49m\u001b[43m)\u001b[49m\n\u001b[1;32m   1048\u001b[0m     \u001b[38;5;28;01mif\u001b[39;00m \u001b[38;5;129;01mnot\u001b[39;00m cache_array\u001b[38;5;241m.\u001b[39mempty:\n\u001b[1;32m   1049\u001b[0m         result \u001b[38;5;241m=\u001b[39m arg\u001b[38;5;241m.\u001b[39mmap(cache_array)\n",
      "File \u001b[0;32m~/miniconda3/envs/viz/lib/python3.10/site-packages/pandas/core/tools/datetimes.py:197\u001b[0m, in \u001b[0;36m_maybe_cache\u001b[0;34m(arg, format, cache, convert_listlike)\u001b[0m\n\u001b[1;32m    195\u001b[0m unique_dates \u001b[38;5;241m=\u001b[39m unique(arg)\n\u001b[1;32m    196\u001b[0m \u001b[38;5;28;01mif\u001b[39;00m \u001b[38;5;28mlen\u001b[39m(unique_dates) \u001b[38;5;241m<\u001b[39m \u001b[38;5;28mlen\u001b[39m(arg):\n\u001b[0;32m--> 197\u001b[0m     cache_dates \u001b[38;5;241m=\u001b[39m \u001b[43mconvert_listlike\u001b[49m\u001b[43m(\u001b[49m\u001b[43munique_dates\u001b[49m\u001b[43m,\u001b[49m\u001b[43m \u001b[49m\u001b[38;5;28;43mformat\u001b[39;49m\u001b[43m)\u001b[49m\n\u001b[1;32m    198\u001b[0m     cache_array \u001b[38;5;241m=\u001b[39m Series(cache_dates, index\u001b[38;5;241m=\u001b[39munique_dates)\n\u001b[1;32m    199\u001b[0m     \u001b[38;5;66;03m# GH#39882 and GH#35888 in case of None and NaT we get duplicates\u001b[39;00m\n",
      "File \u001b[0;32m~/miniconda3/envs/viz/lib/python3.10/site-packages/pandas/core/tools/datetimes.py:394\u001b[0m, in \u001b[0;36m_convert_listlike_datetimes\u001b[0;34m(arg, format, name, tz, unit, errors, infer_datetime_format, dayfirst, yearfirst, exact)\u001b[0m\n\u001b[1;32m    391\u001b[0m         \u001b[38;5;28mformat\u001b[39m \u001b[38;5;241m=\u001b[39m \u001b[38;5;28;01mNone\u001b[39;00m\n\u001b[1;32m    393\u001b[0m \u001b[38;5;28;01mif\u001b[39;00m \u001b[38;5;28mformat\u001b[39m \u001b[38;5;129;01mis\u001b[39;00m \u001b[38;5;129;01mnot\u001b[39;00m \u001b[38;5;28;01mNone\u001b[39;00m:\n\u001b[0;32m--> 394\u001b[0m     res \u001b[38;5;241m=\u001b[39m \u001b[43m_to_datetime_with_format\u001b[49m\u001b[43m(\u001b[49m\n\u001b[1;32m    395\u001b[0m \u001b[43m        \u001b[49m\u001b[43marg\u001b[49m\u001b[43m,\u001b[49m\u001b[43m \u001b[49m\u001b[43morig_arg\u001b[49m\u001b[43m,\u001b[49m\u001b[43m \u001b[49m\u001b[43mname\u001b[49m\u001b[43m,\u001b[49m\u001b[43m \u001b[49m\u001b[43mtz\u001b[49m\u001b[43m,\u001b[49m\u001b[43m \u001b[49m\u001b[38;5;28;43mformat\u001b[39;49m\u001b[43m,\u001b[49m\u001b[43m \u001b[49m\u001b[43mexact\u001b[49m\u001b[43m,\u001b[49m\u001b[43m \u001b[49m\u001b[43merrors\u001b[49m\u001b[43m,\u001b[49m\u001b[43m \u001b[49m\u001b[43minfer_datetime_format\u001b[49m\n\u001b[1;32m    396\u001b[0m \u001b[43m    \u001b[49m\u001b[43m)\u001b[49m\n\u001b[1;32m    397\u001b[0m     \u001b[38;5;28;01mif\u001b[39;00m res \u001b[38;5;129;01mis\u001b[39;00m \u001b[38;5;129;01mnot\u001b[39;00m \u001b[38;5;28;01mNone\u001b[39;00m:\n\u001b[1;32m    398\u001b[0m         \u001b[38;5;28;01mreturn\u001b[39;00m res\n",
      "File \u001b[0;32m~/miniconda3/envs/viz/lib/python3.10/site-packages/pandas/core/tools/datetimes.py:514\u001b[0m, in \u001b[0;36m_to_datetime_with_format\u001b[0;34m(arg, orig_arg, name, tz, fmt, exact, errors, infer_datetime_format)\u001b[0m\n\u001b[1;32m    512\u001b[0m     \u001b[38;5;28;01mreturn\u001b[39;00m DatetimeIndex\u001b[38;5;241m.\u001b[39m_simple_new(dta, name\u001b[38;5;241m=\u001b[39mname)\n\u001b[1;32m    513\u001b[0m \u001b[38;5;28;01mexcept\u001b[39;00m (\u001b[38;5;167;01mValueError\u001b[39;00m, \u001b[38;5;167;01mTypeError\u001b[39;00m):\n\u001b[0;32m--> 514\u001b[0m     \u001b[38;5;28;01mraise\u001b[39;00m err\n",
      "File \u001b[0;32m~/miniconda3/envs/viz/lib/python3.10/site-packages/pandas/core/tools/datetimes.py:501\u001b[0m, in \u001b[0;36m_to_datetime_with_format\u001b[0;34m(arg, orig_arg, name, tz, fmt, exact, errors, infer_datetime_format)\u001b[0m\n\u001b[1;32m    498\u001b[0m             \u001b[38;5;28;01mreturn\u001b[39;00m _box_as_indexlike(result, utc\u001b[38;5;241m=\u001b[39mutc, name\u001b[38;5;241m=\u001b[39mname)\n\u001b[1;32m    500\u001b[0m     \u001b[38;5;66;03m# fallback\u001b[39;00m\n\u001b[0;32m--> 501\u001b[0m     res \u001b[38;5;241m=\u001b[39m \u001b[43m_array_strptime_with_fallback\u001b[49m\u001b[43m(\u001b[49m\n\u001b[1;32m    502\u001b[0m \u001b[43m        \u001b[49m\u001b[43marg\u001b[49m\u001b[43m,\u001b[49m\u001b[43m \u001b[49m\u001b[43mname\u001b[49m\u001b[43m,\u001b[49m\u001b[43m \u001b[49m\u001b[43mtz\u001b[49m\u001b[43m,\u001b[49m\u001b[43m \u001b[49m\u001b[43mfmt\u001b[49m\u001b[43m,\u001b[49m\u001b[43m \u001b[49m\u001b[43mexact\u001b[49m\u001b[43m,\u001b[49m\u001b[43m \u001b[49m\u001b[43merrors\u001b[49m\u001b[43m,\u001b[49m\u001b[43m \u001b[49m\u001b[43minfer_datetime_format\u001b[49m\n\u001b[1;32m    503\u001b[0m \u001b[43m    \u001b[49m\u001b[43m)\u001b[49m\n\u001b[1;32m    504\u001b[0m     \u001b[38;5;28;01mreturn\u001b[39;00m res\n\u001b[1;32m    506\u001b[0m \u001b[38;5;28;01mexcept\u001b[39;00m \u001b[38;5;167;01mValueError\u001b[39;00m \u001b[38;5;28;01mas\u001b[39;00m err:\n\u001b[1;32m    507\u001b[0m     \u001b[38;5;66;03m# Fallback to try to convert datetime objects if timezone-aware\u001b[39;00m\n\u001b[1;32m    508\u001b[0m     \u001b[38;5;66;03m#  datetime objects are found without passing `utc=True`\u001b[39;00m\n",
      "File \u001b[0;32m~/miniconda3/envs/viz/lib/python3.10/site-packages/pandas/core/tools/datetimes.py:437\u001b[0m, in \u001b[0;36m_array_strptime_with_fallback\u001b[0;34m(arg, name, tz, fmt, exact, errors, infer_datetime_format)\u001b[0m\n\u001b[1;32m    434\u001b[0m utc \u001b[38;5;241m=\u001b[39m tz \u001b[38;5;241m==\u001b[39m \u001b[38;5;124m\"\u001b[39m\u001b[38;5;124mutc\u001b[39m\u001b[38;5;124m\"\u001b[39m\n\u001b[1;32m    436\u001b[0m \u001b[38;5;28;01mtry\u001b[39;00m:\n\u001b[0;32m--> 437\u001b[0m     result, timezones \u001b[38;5;241m=\u001b[39m \u001b[43marray_strptime\u001b[49m\u001b[43m(\u001b[49m\u001b[43marg\u001b[49m\u001b[43m,\u001b[49m\u001b[43m \u001b[49m\u001b[43mfmt\u001b[49m\u001b[43m,\u001b[49m\u001b[43m \u001b[49m\u001b[43mexact\u001b[49m\u001b[38;5;241;43m=\u001b[39;49m\u001b[43mexact\u001b[49m\u001b[43m,\u001b[49m\u001b[43m \u001b[49m\u001b[43merrors\u001b[49m\u001b[38;5;241;43m=\u001b[39;49m\u001b[43merrors\u001b[49m\u001b[43m)\u001b[49m\n\u001b[1;32m    438\u001b[0m     \u001b[38;5;28;01mif\u001b[39;00m \u001b[38;5;124m\"\u001b[39m\u001b[38;5;124m%\u001b[39m\u001b[38;5;124mZ\u001b[39m\u001b[38;5;124m\"\u001b[39m \u001b[38;5;129;01min\u001b[39;00m fmt \u001b[38;5;129;01mor\u001b[39;00m \u001b[38;5;124m\"\u001b[39m\u001b[38;5;124m%\u001b[39m\u001b[38;5;124mz\u001b[39m\u001b[38;5;124m\"\u001b[39m \u001b[38;5;129;01min\u001b[39;00m fmt:\n\u001b[1;32m    439\u001b[0m         \u001b[38;5;28;01mreturn\u001b[39;00m _return_parsed_timezone_results(result, timezones, tz, name)\n",
      "File \u001b[0;32m~/miniconda3/envs/viz/lib/python3.10/site-packages/pandas/_libs/tslibs/strptime.pyx:150\u001b[0m, in \u001b[0;36mpandas._libs.tslibs.strptime.array_strptime\u001b[0;34m()\u001b[0m\n",
      "\u001b[0;31mValueError\u001b[0m: time data 'Prelim. 2021' does not match format '%Y' (match)"
     ]
    }
   ],
   "source": [
    "pd.to_datetime(ecodf['Model Year'], format='%Y')"
   ]
  },
  {
   "cell_type": "markdown",
   "metadata": {},
   "source": [
    "Since the most recent data is marked as preliminary, it's a string that isn't being recognized as a year.\n",
    "We'll have to work around that manually."
   ]
  },
  {
   "cell_type": "code",
   "execution_count": 32,
   "metadata": {},
   "outputs": [
    {
     "data": {
      "text/plain": [
       "'2021'"
      ]
     },
     "execution_count": 32,
     "metadata": {},
     "output_type": "execute_result"
    }
   ],
   "source": [
    "'Prelim. 2021'.split()[-1]"
   ]
  },
  {
   "cell_type": "code",
   "execution_count": 33,
   "metadata": {},
   "outputs": [],
   "source": [
    "def f(t):\n",
    "    if 'Prelim.' in t:\n",
    "        t = t.split(' ')[-1]\n",
    "    return t\n",
    "\n",
    "ecodf['Model Year'] = ecodf['Model Year'].apply(f)\n",
    "ecodf['Model Year'] = pd.to_datetime(ecodf['Model Year'], format='%Y')"
   ]
  },
  {
   "cell_type": "code",
   "execution_count": 34,
   "metadata": {
    "scrolled": false
   },
   "outputs": [
    {
     "data": {
      "text/html": [
       "<div>\n",
       "<style scoped>\n",
       "    .dataframe tbody tr th:only-of-type {\n",
       "        vertical-align: middle;\n",
       "    }\n",
       "\n",
       "    .dataframe tbody tr th {\n",
       "        vertical-align: top;\n",
       "    }\n",
       "\n",
       "    .dataframe thead th {\n",
       "        text-align: right;\n",
       "    }\n",
       "</style>\n",
       "<table border=\"1\" class=\"dataframe\">\n",
       "  <thead>\n",
       "    <tr style=\"text-align: right;\">\n",
       "      <th></th>\n",
       "      <th>Regulatory Class</th>\n",
       "      <th>Vehicle Type</th>\n",
       "      <th>Production Share</th>\n",
       "      <th>Real-World MPG</th>\n",
       "      <th>Real-World MPG_City</th>\n",
       "      <th>Real-World MPG_Hwy</th>\n",
       "      <th>Real-World CO2 (g/mi)</th>\n",
       "      <th>Real-World CO2_City (g/mi)</th>\n",
       "      <th>Real-World CO2_Hwy (g/mi)</th>\n",
       "      <th>Weight (lbs)</th>\n",
       "      <th>Horsepower (HP)</th>\n",
       "      <th>Footprint (sq. ft.)</th>\n",
       "    </tr>\n",
       "    <tr>\n",
       "      <th>Model Year</th>\n",
       "      <th></th>\n",
       "      <th></th>\n",
       "      <th></th>\n",
       "      <th></th>\n",
       "      <th></th>\n",
       "      <th></th>\n",
       "      <th></th>\n",
       "      <th></th>\n",
       "      <th></th>\n",
       "      <th></th>\n",
       "      <th></th>\n",
       "      <th></th>\n",
       "    </tr>\n",
       "  </thead>\n",
       "  <tbody>\n",
       "    <tr>\n",
       "      <th>1975-01-01</th>\n",
       "      <td>All</td>\n",
       "      <td>All</td>\n",
       "      <td>1.000000</td>\n",
       "      <td>13.05970</td>\n",
       "      <td>12.01552</td>\n",
       "      <td>14.61167</td>\n",
       "      <td>680.59612</td>\n",
       "      <td>739.73800</td>\n",
       "      <td>608.31160</td>\n",
       "      <td>4060.399</td>\n",
       "      <td>137.3346</td>\n",
       "      <td>-</td>\n",
       "    </tr>\n",
       "    <tr>\n",
       "      <th>1975-01-01</th>\n",
       "      <td>Car</td>\n",
       "      <td>All Car</td>\n",
       "      <td>0.806646</td>\n",
       "      <td>13.45483</td>\n",
       "      <td>12.31413</td>\n",
       "      <td>15.17266</td>\n",
       "      <td>660.63740</td>\n",
       "      <td>721.82935</td>\n",
       "      <td>585.84724</td>\n",
       "      <td>4057.494</td>\n",
       "      <td>136.1964</td>\n",
       "      <td>-</td>\n",
       "    </tr>\n",
       "    <tr>\n",
       "      <th>1975-01-01</th>\n",
       "      <td>Car</td>\n",
       "      <td>Sedan/Wagon</td>\n",
       "      <td>0.805645</td>\n",
       "      <td>13.45833</td>\n",
       "      <td>12.31742</td>\n",
       "      <td>15.17643</td>\n",
       "      <td>660.46603</td>\n",
       "      <td>721.63673</td>\n",
       "      <td>585.70185</td>\n",
       "      <td>4057.565</td>\n",
       "      <td>136.2256</td>\n",
       "      <td>-</td>\n",
       "    </tr>\n",
       "    <tr>\n",
       "      <th>1975-01-01</th>\n",
       "      <td>Truck</td>\n",
       "      <td>All Truck</td>\n",
       "      <td>0.193354</td>\n",
       "      <td>11.63431</td>\n",
       "      <td>10.91165</td>\n",
       "      <td>12.65900</td>\n",
       "      <td>763.86134</td>\n",
       "      <td>814.45060</td>\n",
       "      <td>702.03002</td>\n",
       "      <td>4072.518</td>\n",
       "      <td>142.0826</td>\n",
       "      <td>-</td>\n",
       "    </tr>\n",
       "    <tr>\n",
       "      <th>1975-01-01</th>\n",
       "      <td>Truck</td>\n",
       "      <td>Pickup</td>\n",
       "      <td>0.131322</td>\n",
       "      <td>11.91476</td>\n",
       "      <td>11.07827</td>\n",
       "      <td>13.12613</td>\n",
       "      <td>745.88139</td>\n",
       "      <td>802.20090</td>\n",
       "      <td>677.04643</td>\n",
       "      <td>4011.977</td>\n",
       "      <td>140.9365</td>\n",
       "      <td>-</td>\n",
       "    </tr>\n",
       "    <tr>\n",
       "      <th>...</th>\n",
       "      <td>...</td>\n",
       "      <td>...</td>\n",
       "      <td>...</td>\n",
       "      <td>...</td>\n",
       "      <td>...</td>\n",
       "      <td>...</td>\n",
       "      <td>...</td>\n",
       "      <td>...</td>\n",
       "      <td>...</td>\n",
       "      <td>...</td>\n",
       "      <td>...</td>\n",
       "      <td>...</td>\n",
       "    </tr>\n",
       "    <tr>\n",
       "      <th>2021-01-01</th>\n",
       "      <td>Truck</td>\n",
       "      <td>Minivan/Van</td>\n",
       "      <td>-</td>\n",
       "      <td>26.20616</td>\n",
       "      <td>23.06617</td>\n",
       "      <td>29.20538</td>\n",
       "      <td>336.16426</td>\n",
       "      <td>381.30898</td>\n",
       "      <td>302.10772</td>\n",
       "      <td>4609.271</td>\n",
       "      <td>231.4091</td>\n",
       "      <td>52.60352</td>\n",
       "    </tr>\n",
       "    <tr>\n",
       "      <th>2021-01-01</th>\n",
       "      <td>All</td>\n",
       "      <td>All</td>\n",
       "      <td>-</td>\n",
       "      <td>25.34024</td>\n",
       "      <td>22.15460</td>\n",
       "      <td>28.42346</td>\n",
       "      <td>348.24205</td>\n",
       "      <td>398.71693</td>\n",
       "      <td>310.16749</td>\n",
       "      <td>4287.392</td>\n",
       "      <td>252.2007</td>\n",
       "      <td>51.38513</td>\n",
       "    </tr>\n",
       "    <tr>\n",
       "      <th>2021-01-01</th>\n",
       "      <td>Truck</td>\n",
       "      <td>Truck SUV</td>\n",
       "      <td>-</td>\n",
       "      <td>23.99702</td>\n",
       "      <td>21.16697</td>\n",
       "      <td>26.68893</td>\n",
       "      <td>369.57803</td>\n",
       "      <td>418.85828</td>\n",
       "      <td>332.40710</td>\n",
       "      <td>4471.763</td>\n",
       "      <td>252.7963</td>\n",
       "      <td>49.20598</td>\n",
       "    </tr>\n",
       "    <tr>\n",
       "      <th>2021-01-01</th>\n",
       "      <td>Truck</td>\n",
       "      <td>All Truck</td>\n",
       "      <td>-</td>\n",
       "      <td>22.58129</td>\n",
       "      <td>19.79987</td>\n",
       "      <td>25.25796</td>\n",
       "      <td>393.74267</td>\n",
       "      <td>448.92779</td>\n",
       "      <td>352.11546</td>\n",
       "      <td>4682.578</td>\n",
       "      <td>276.5167</td>\n",
       "      <td>54.12613</td>\n",
       "    </tr>\n",
       "    <tr>\n",
       "      <th>2021-01-01</th>\n",
       "      <td>Truck</td>\n",
       "      <td>Pickup</td>\n",
       "      <td>-</td>\n",
       "      <td>19.39958</td>\n",
       "      <td>16.80735</td>\n",
       "      <td>21.95393</td>\n",
       "      <td>461.06113</td>\n",
       "      <td>532.08045</td>\n",
       "      <td>407.48515</td>\n",
       "      <td>5204.315</td>\n",
       "      <td>340.8539</td>\n",
       "      <td>66.27408</td>\n",
       "    </tr>\n",
       "  </tbody>\n",
       "</table>\n",
       "<p>376 rows × 12 columns</p>\n",
       "</div>"
      ],
      "text/plain": [
       "           Regulatory Class Vehicle Type Production Share  Real-World MPG  \\\n",
       "Model Year                                                                  \n",
       "1975-01-01              All          All         1.000000        13.05970   \n",
       "1975-01-01              Car      All Car         0.806646        13.45483   \n",
       "1975-01-01              Car  Sedan/Wagon         0.805645        13.45833   \n",
       "1975-01-01            Truck    All Truck         0.193354        11.63431   \n",
       "1975-01-01            Truck       Pickup         0.131322        11.91476   \n",
       "...                     ...          ...              ...             ...   \n",
       "2021-01-01            Truck  Minivan/Van                -        26.20616   \n",
       "2021-01-01              All          All                -        25.34024   \n",
       "2021-01-01            Truck    Truck SUV                -        23.99702   \n",
       "2021-01-01            Truck    All Truck                -        22.58129   \n",
       "2021-01-01            Truck       Pickup                -        19.39958   \n",
       "\n",
       "            Real-World MPG_City  Real-World MPG_Hwy  Real-World CO2 (g/mi)  \\\n",
       "Model Year                                                                   \n",
       "1975-01-01             12.01552            14.61167              680.59612   \n",
       "1975-01-01             12.31413            15.17266              660.63740   \n",
       "1975-01-01             12.31742            15.17643              660.46603   \n",
       "1975-01-01             10.91165            12.65900              763.86134   \n",
       "1975-01-01             11.07827            13.12613              745.88139   \n",
       "...                         ...                 ...                    ...   \n",
       "2021-01-01             23.06617            29.20538              336.16426   \n",
       "2021-01-01             22.15460            28.42346              348.24205   \n",
       "2021-01-01             21.16697            26.68893              369.57803   \n",
       "2021-01-01             19.79987            25.25796              393.74267   \n",
       "2021-01-01             16.80735            21.95393              461.06113   \n",
       "\n",
       "            Real-World CO2_City (g/mi)  Real-World CO2_Hwy (g/mi)  \\\n",
       "Model Year                                                          \n",
       "1975-01-01                   739.73800                  608.31160   \n",
       "1975-01-01                   721.82935                  585.84724   \n",
       "1975-01-01                   721.63673                  585.70185   \n",
       "1975-01-01                   814.45060                  702.03002   \n",
       "1975-01-01                   802.20090                  677.04643   \n",
       "...                                ...                        ...   \n",
       "2021-01-01                   381.30898                  302.10772   \n",
       "2021-01-01                   398.71693                  310.16749   \n",
       "2021-01-01                   418.85828                  332.40710   \n",
       "2021-01-01                   448.92779                  352.11546   \n",
       "2021-01-01                   532.08045                  407.48515   \n",
       "\n",
       "            Weight (lbs)  Horsepower (HP) Footprint (sq. ft.)  \n",
       "Model Year                                                     \n",
       "1975-01-01      4060.399         137.3346                   -  \n",
       "1975-01-01      4057.494         136.1964                   -  \n",
       "1975-01-01      4057.565         136.2256                   -  \n",
       "1975-01-01      4072.518         142.0826                   -  \n",
       "1975-01-01      4011.977         140.9365                   -  \n",
       "...                  ...              ...                 ...  \n",
       "2021-01-01      4609.271         231.4091            52.60352  \n",
       "2021-01-01      4287.392         252.2007            51.38513  \n",
       "2021-01-01      4471.763         252.7963            49.20598  \n",
       "2021-01-01      4682.578         276.5167            54.12613  \n",
       "2021-01-01      5204.315         340.8539            66.27408  \n",
       "\n",
       "[376 rows x 12 columns]"
      ]
     },
     "execution_count": 34,
     "metadata": {},
     "output_type": "execute_result"
    }
   ],
   "source": [
    "ecodf.set_index('Model Year', inplace=True)\n",
    "ecodf"
   ]
  },
  {
   "cell_type": "code",
   "execution_count": 35,
   "metadata": {},
   "outputs": [
    {
     "data": {
      "text/plain": [
       "<AxesSubplot:xlabel='Model Year'>"
      ]
     },
     "execution_count": 35,
     "metadata": {},
     "output_type": "execute_result"
    },
    {
     "data": {
      "image/png": "[encoded data removed]",
      "text/plain": [
       "<Figure size 432x288 with 1 Axes>"
      ]
     },
     "metadata": {
      "needs_background": "light"
     },
     "output_type": "display_data"
    }
   ],
   "source": [
    "ecodf['Real-World MPG'].plot()"
   ]
  },
  {
   "cell_type": "markdown",
   "metadata": {},
   "source": [
    "#### (2)\n",
    "\n",
    "We still have multiple vehicle types being plotted for each year (the large oscillating pattern).\n",
    "Now check to see where the `Vehicle Type` is equal to `Car SUV` and only plot that data."
   ]
  },
  {
   "cell_type": "code",
   "execution_count": 36,
   "metadata": {},
   "outputs": [
    {
     "data": {
      "text/plain": [
       "<AxesSubplot:xlabel='Model Year'>"
      ]
     },
     "execution_count": 36,
     "metadata": {},
     "output_type": "execute_result"
    },
    {
     "data": {
      "image/png": "[encoded data removed]",
      "text/plain": [
       "<Figure size 432x288 with 1 Axes>"
      ]
     },
     "metadata": {
      "needs_background": "light"
     },
     "output_type": "display_data"
    }
   ],
   "source": [
    "ecodf[\n",
    "ecodf['Vehicle Type']=='Car SUV'\n",
    "]['Real-World MPG'].plot()"
   ]
  },
  {
   "cell_type": "markdown",
   "metadata": {},
   "source": [
    "#### (3)\n",
    "\n",
    "Note that changing the index automatically applied the index column label as the x-axis label.\n",
    "\n",
    "But, there's still a lot we can do to improve the plot with more labels and other\n",
    "visual formatting changes.\n",
    "\n",
    "First, we'll adjust the image size, add axis labels/legend, and make the line thicker.\n"
   ]
  },
  {
   "cell_type": "code",
   "execution_count": 37,
   "metadata": {},
   "outputs": [
    {
     "data": {
      "text/plain": [
       "Text(0, 0.5, 'Miles Per Gallon')"
      ]
     },
     "execution_count": 37,
     "metadata": {},
     "output_type": "execute_result"
    },
    {
     "data": {
      "image/png": "[encoded data removed]",
      "text/plain": [
       "<Figure size 432x432 with 1 Axes>"
      ]
     },
     "metadata": {
      "needs_background": "light"
     },
     "output_type": "display_data"
    }
   ],
   "source": [
    "fig = plt.figure(figsize=(6,6))\n",
    "ax = fig.gca()\n",
    "\n",
    "ecodf[\n",
    "    ecodf['Vehicle Type']=='Car SUV'\n",
    "]['Real-World MPG'].plot(ax=ax, linewidth=4)\n",
    "\n",
    "ax.legend()\n",
    "plt.ylabel('Miles Per Gallon')"
   ]
  },
  {
   "cell_type": "markdown",
   "metadata": {},
   "source": [
    "We can also change the fontsize and the general look.\n",
    "\n",
    "https://matplotlib.org/3.2.1/gallery/style_sheets/style_sheets_reference.html"
   ]
  },
  {
   "cell_type": "code",
   "execution_count": 38,
   "metadata": {},
   "outputs": [
    {
     "data": {
      "text/plain": [
       "Text(0.5, 0, 'Year')"
      ]
     },
     "execution_count": 38,
     "metadata": {},
     "output_type": "execute_result"
    },
    {
     "data": {
      "image/png": "[encoded data removed]",
      "text/plain": [
       "<Figure size 432x432 with 1 Axes>"
      ]
     },
     "metadata": {},
     "output_type": "display_data"
    }
   ],
   "source": [
    "plt.style.use('fivethirtyeight')\n",
    "\n",
    "fig = plt.figure(figsize=(6,6))\n",
    "ax = fig.gca()\n",
    "\n",
    "ecodf[\n",
    "    ecodf['Vehicle Type']=='Car SUV'\n",
    "]['Real-World MPG'].plot(ax=ax, linewidth=4)\n",
    "\n",
    "ax.legend()\n",
    "plt.ylabel('Miles per Gallon')\n",
    "plt.xlabel('Year')"
   ]
  },
  {
   "cell_type": "markdown",
   "metadata": {},
   "source": [
    "The data has a lot of small variation that can make it\n",
    "harder to see the overall trend.  Let's plot smoothed\n",
    "data from a rolling average \n",
    "by combining the Pandas series functions `.rolling()` and `.mean()`."
   ]
  },
  {
   "cell_type": "code",
   "execution_count": 39,
   "metadata": {},
   "outputs": [
    {
     "data": {
      "text/plain": [
       "Text(0.5, 0, 'Year')"
      ]
     },
     "execution_count": 39,
     "metadata": {},
     "output_type": "execute_result"
    },
    {
     "data": {
      "image/png": "[encoded data removed]",
      "text/plain": [
       "<Figure size 432x432 with 1 Axes>"
      ]
     },
     "metadata": {},
     "output_type": "display_data"
    }
   ],
   "source": [
    "plt.style.use('fivethirtyeight')\n",
    "\n",
    "fig = plt.figure(figsize=(6,6))\n",
    "ax = fig.gca()\n",
    "\n",
    "ecodf[\n",
    "    ecodf['Vehicle Type']=='Car SUV'\n",
    "]['Real-World MPG'].rolling(10).mean().plot(ax=ax, linewidth=4)\n",
    "\n",
    "ax.legend()\n",
    "plt.ylabel('Miles per Gallon')\n",
    "plt.xlabel('Year')"
   ]
  },
  {
   "cell_type": "markdown",
   "metadata": {},
   "source": [
    "## 2. Your turn, the fuel prices dataset\n",
    "\n",
    "The goal of this portion of the notebook is to construct a correlation between **fuel prices** and **fuel efficiency**.  We've already imported and formatted the fuel efficiency dataset, but you'll be starting from the original .csv for the fuel prices dataset.\n",
    "\n",
    "To do this consider the following challenge questions:\n",
    "\n",
    "1. How do you format the fuel price data with a `datetime` index?  It may be helpful to distinguish between monthly values and yearly averages (the yearly averages end in \"13\" for this dataset).\n",
    "\n",
    "2. How should you handle missing data in the `Value` column?\n",
    "\n",
    "3. Do you see a trend in regular unleaded gas prices? (the column is `RUUCUUS` for regular unleaded gas)\n",
    "\n",
    "4. Find a correlation between the **fuel price** and **fuel efficiency**.  To do this you may want to combine the relevant values from the different dataframes using `pd.merge_asof()` and then use the function `.corr()` on the combined dataframe.\n",
    "\n",
    "5. Try to plot the **fuel price** and **fuel efficiency** on the same plot, but with different y-axis scales -- do you observe a correlation?\n",
    "\n",
    "6. Plot **fuel price** and **fuel efficiency** using a rolling average, for example `rolling(5).mean()` on a Pandas series to display a 5 year rolling average.  See above for an example of rolling average.  Plot the rolling averages like you plotted the values in the previous question.\n",
    "\n",
    "5. (*) Use seaborn's `jointplot()` to plot MPG vs Price to deduce a correlation.  `import seaborn as sns`"
   ]
  },
  {
   "cell_type": "markdown",
   "metadata": {},
   "source": [
    "### Getting started\n",
    "\n",
    "First import the data"
   ]
  },
  {
   "cell_type": "code",
   "execution_count": 40,
   "metadata": {},
   "outputs": [
    {
     "data": {
      "text/html": [
       "<div>\n",
       "<style scoped>\n",
       "    .dataframe tbody tr th:only-of-type {\n",
       "        vertical-align: middle;\n",
       "    }\n",
       "\n",
       "    .dataframe tbody tr th {\n",
       "        vertical-align: top;\n",
       "    }\n",
       "\n",
       "    .dataframe thead th {\n",
       "        text-align: right;\n",
       "    }\n",
       "</style>\n",
       "<table border=\"1\" class=\"dataframe\">\n",
       "  <thead>\n",
       "    <tr style=\"text-align: right;\">\n",
       "      <th></th>\n",
       "      <th>MSN</th>\n",
       "      <th>YYYYMM</th>\n",
       "      <th>Value</th>\n",
       "      <th>Column_Order</th>\n",
       "      <th>Description</th>\n",
       "      <th>Unit</th>\n",
       "    </tr>\n",
       "  </thead>\n",
       "  <tbody>\n",
       "    <tr>\n",
       "      <th>0</th>\n",
       "      <td>RLUCUUS</td>\n",
       "      <td>194913</td>\n",
       "      <td>0.268</td>\n",
       "      <td>1</td>\n",
       "      <td>Leaded Regular Gasoline, U.S. City Average Ret...</td>\n",
       "      <td>Dollars per Gallon Including Taxes</td>\n",
       "    </tr>\n",
       "    <tr>\n",
       "      <th>1</th>\n",
       "      <td>RLUCUUS</td>\n",
       "      <td>195013</td>\n",
       "      <td>0.268</td>\n",
       "      <td>1</td>\n",
       "      <td>Leaded Regular Gasoline, U.S. City Average Ret...</td>\n",
       "      <td>Dollars per Gallon Including Taxes</td>\n",
       "    </tr>\n",
       "    <tr>\n",
       "      <th>2</th>\n",
       "      <td>RLUCUUS</td>\n",
       "      <td>195113</td>\n",
       "      <td>0.272</td>\n",
       "      <td>1</td>\n",
       "      <td>Leaded Regular Gasoline, U.S. City Average Ret...</td>\n",
       "      <td>Dollars per Gallon Including Taxes</td>\n",
       "    </tr>\n",
       "    <tr>\n",
       "      <th>3</th>\n",
       "      <td>RLUCUUS</td>\n",
       "      <td>195213</td>\n",
       "      <td>0.274</td>\n",
       "      <td>1</td>\n",
       "      <td>Leaded Regular Gasoline, U.S. City Average Ret...</td>\n",
       "      <td>Dollars per Gallon Including Taxes</td>\n",
       "    </tr>\n",
       "    <tr>\n",
       "      <th>4</th>\n",
       "      <td>RLUCUUS</td>\n",
       "      <td>195313</td>\n",
       "      <td>0.287</td>\n",
       "      <td>1</td>\n",
       "      <td>Leaded Regular Gasoline, U.S. City Average Ret...</td>\n",
       "      <td>Dollars per Gallon Including Taxes</td>\n",
       "    </tr>\n",
       "    <tr>\n",
       "      <th>...</th>\n",
       "      <td>...</td>\n",
       "      <td>...</td>\n",
       "      <td>...</td>\n",
       "      <td>...</td>\n",
       "      <td>...</td>\n",
       "      <td>...</td>\n",
       "    </tr>\n",
       "    <tr>\n",
       "      <th>5267</th>\n",
       "      <td>DFONUUS</td>\n",
       "      <td>202107</td>\n",
       "      <td>3.339</td>\n",
       "      <td>8</td>\n",
       "      <td>On-Highway Diesel Fuel Price</td>\n",
       "      <td>Dollars per Gallon Including Taxes</td>\n",
       "    </tr>\n",
       "    <tr>\n",
       "      <th>5268</th>\n",
       "      <td>DFONUUS</td>\n",
       "      <td>202108</td>\n",
       "      <td>3.35</td>\n",
       "      <td>8</td>\n",
       "      <td>On-Highway Diesel Fuel Price</td>\n",
       "      <td>Dollars per Gallon Including Taxes</td>\n",
       "    </tr>\n",
       "    <tr>\n",
       "      <th>5269</th>\n",
       "      <td>DFONUUS</td>\n",
       "      <td>202109</td>\n",
       "      <td>3.384</td>\n",
       "      <td>8</td>\n",
       "      <td>On-Highway Diesel Fuel Price</td>\n",
       "      <td>Dollars per Gallon Including Taxes</td>\n",
       "    </tr>\n",
       "    <tr>\n",
       "      <th>5270</th>\n",
       "      <td>DFONUUS</td>\n",
       "      <td>202110</td>\n",
       "      <td>3.612</td>\n",
       "      <td>8</td>\n",
       "      <td>On-Highway Diesel Fuel Price</td>\n",
       "      <td>Dollars per Gallon Including Taxes</td>\n",
       "    </tr>\n",
       "    <tr>\n",
       "      <th>5271</th>\n",
       "      <td>DFONUUS</td>\n",
       "      <td>202111</td>\n",
       "      <td>3.727</td>\n",
       "      <td>8</td>\n",
       "      <td>On-Highway Diesel Fuel Price</td>\n",
       "      <td>Dollars per Gallon Including Taxes</td>\n",
       "    </tr>\n",
       "  </tbody>\n",
       "</table>\n",
       "<p>5272 rows × 6 columns</p>\n",
       "</div>"
      ],
      "text/plain": [
       "          MSN  YYYYMM  Value  Column_Order  \\\n",
       "0     RLUCUUS  194913  0.268             1   \n",
       "1     RLUCUUS  195013  0.268             1   \n",
       "2     RLUCUUS  195113  0.272             1   \n",
       "3     RLUCUUS  195213  0.274             1   \n",
       "4     RLUCUUS  195313  0.287             1   \n",
       "...       ...     ...    ...           ...   \n",
       "5267  DFONUUS  202107  3.339             8   \n",
       "5268  DFONUUS  202108   3.35             8   \n",
       "5269  DFONUUS  202109  3.384             8   \n",
       "5270  DFONUUS  202110  3.612             8   \n",
       "5271  DFONUUS  202111  3.727             8   \n",
       "\n",
       "                                            Description  \\\n",
       "0     Leaded Regular Gasoline, U.S. City Average Ret...   \n",
       "1     Leaded Regular Gasoline, U.S. City Average Ret...   \n",
       "2     Leaded Regular Gasoline, U.S. City Average Ret...   \n",
       "3     Leaded Regular Gasoline, U.S. City Average Ret...   \n",
       "4     Leaded Regular Gasoline, U.S. City Average Ret...   \n",
       "...                                                 ...   \n",
       "5267                       On-Highway Diesel Fuel Price   \n",
       "5268                       On-Highway Diesel Fuel Price   \n",
       "5269                       On-Highway Diesel Fuel Price   \n",
       "5270                       On-Highway Diesel Fuel Price   \n",
       "5271                       On-Highway Diesel Fuel Price   \n",
       "\n",
       "                                    Unit  \n",
       "0     Dollars per Gallon Including Taxes  \n",
       "1     Dollars per Gallon Including Taxes  \n",
       "2     Dollars per Gallon Including Taxes  \n",
       "3     Dollars per Gallon Including Taxes  \n",
       "4     Dollars per Gallon Including Taxes  \n",
       "...                                  ...  \n",
       "5267  Dollars per Gallon Including Taxes  \n",
       "5268  Dollars per Gallon Including Taxes  \n",
       "5269  Dollars per Gallon Including Taxes  \n",
       "5270  Dollars per Gallon Including Taxes  \n",
       "5271  Dollars per Gallon Including Taxes  \n",
       "\n",
       "[5272 rows x 6 columns]"
      ]
     },
     "execution_count": 40,
     "metadata": {},
     "output_type": "execute_result"
    }
   ],
   "source": [
    "pricedf = pd.read_csv('MER_T09_04.csv')\n",
    "pricedf"
   ]
  },
  {
   "cell_type": "code",
   "execution_count": 41,
   "metadata": {},
   "outputs": [
    {
     "name": "stdout",
     "output_type": "stream",
     "text": [
      "<class 'pandas.core.frame.DataFrame'>\n",
      "RangeIndex: 5272 entries, 0 to 5271\n",
      "Data columns (total 6 columns):\n",
      " #   Column        Non-Null Count  Dtype \n",
      "---  ------        --------------  ----- \n",
      " 0   MSN           5272 non-null   object\n",
      " 1   YYYYMM        5272 non-null   int64 \n",
      " 2   Value         5272 non-null   object\n",
      " 3   Column_Order  5272 non-null   int64 \n",
      " 4   Description   5272 non-null   object\n",
      " 5   Unit          5272 non-null   object\n",
      "dtypes: int64(2), object(4)\n",
      "memory usage: 247.2+ KB\n"
     ]
    }
   ],
   "source": [
    "pricedf.info()"
   ]
  },
  {
   "cell_type": "markdown",
   "metadata": {},
   "source": [
    "Next, do two things:\n",
    "\n",
    "1. Make a column called `Data Type` and mark it as `AVG` if the year string contains a `13`.\n",
    "2. For each row that's an `AVG`, format the year string in one way."
   ]
  },
  {
   "cell_type": "code",
   "execution_count": 42,
   "metadata": {},
   "outputs": [],
   "source": [
    "def f(x):\n",
    "    # Create string of YYYYMM\n",
    "    x = str(x)\n",
    "    if x[-2:] == '13':\n",
    "        return 'AVG'\n",
    "    else:\n",
    "        return ''\n",
    "\n",
    "pricedf['Data Type'] = pricedf['YYYYMM'].apply(f)"
   ]
  },
  {
   "cell_type": "code",
   "execution_count": 43,
   "metadata": {},
   "outputs": [
    {
     "data": {
      "text/html": [
       "<div>\n",
       "<style scoped>\n",
       "    .dataframe tbody tr th:only-of-type {\n",
       "        vertical-align: middle;\n",
       "    }\n",
       "\n",
       "    .dataframe tbody tr th {\n",
       "        vertical-align: top;\n",
       "    }\n",
       "\n",
       "    .dataframe thead th {\n",
       "        text-align: right;\n",
       "    }\n",
       "</style>\n",
       "<table border=\"1\" class=\"dataframe\">\n",
       "  <thead>\n",
       "    <tr style=\"text-align: right;\">\n",
       "      <th></th>\n",
       "      <th>MSN</th>\n",
       "      <th>YYYYMM</th>\n",
       "      <th>Value</th>\n",
       "      <th>Column_Order</th>\n",
       "      <th>Description</th>\n",
       "      <th>Unit</th>\n",
       "      <th>Data Type</th>\n",
       "    </tr>\n",
       "  </thead>\n",
       "  <tbody>\n",
       "    <tr>\n",
       "      <th>0</th>\n",
       "      <td>RLUCUUS</td>\n",
       "      <td>194913</td>\n",
       "      <td>0.268</td>\n",
       "      <td>1</td>\n",
       "      <td>Leaded Regular Gasoline, U.S. City Average Ret...</td>\n",
       "      <td>Dollars per Gallon Including Taxes</td>\n",
       "      <td>AVG</td>\n",
       "    </tr>\n",
       "    <tr>\n",
       "      <th>1</th>\n",
       "      <td>RLUCUUS</td>\n",
       "      <td>195013</td>\n",
       "      <td>0.268</td>\n",
       "      <td>1</td>\n",
       "      <td>Leaded Regular Gasoline, U.S. City Average Ret...</td>\n",
       "      <td>Dollars per Gallon Including Taxes</td>\n",
       "      <td>AVG</td>\n",
       "    </tr>\n",
       "    <tr>\n",
       "      <th>2</th>\n",
       "      <td>RLUCUUS</td>\n",
       "      <td>195113</td>\n",
       "      <td>0.272</td>\n",
       "      <td>1</td>\n",
       "      <td>Leaded Regular Gasoline, U.S. City Average Ret...</td>\n",
       "      <td>Dollars per Gallon Including Taxes</td>\n",
       "      <td>AVG</td>\n",
       "    </tr>\n",
       "    <tr>\n",
       "      <th>3</th>\n",
       "      <td>RLUCUUS</td>\n",
       "      <td>195213</td>\n",
       "      <td>0.274</td>\n",
       "      <td>1</td>\n",
       "      <td>Leaded Regular Gasoline, U.S. City Average Ret...</td>\n",
       "      <td>Dollars per Gallon Including Taxes</td>\n",
       "      <td>AVG</td>\n",
       "    </tr>\n",
       "    <tr>\n",
       "      <th>4</th>\n",
       "      <td>RLUCUUS</td>\n",
       "      <td>195313</td>\n",
       "      <td>0.287</td>\n",
       "      <td>1</td>\n",
       "      <td>Leaded Regular Gasoline, U.S. City Average Ret...</td>\n",
       "      <td>Dollars per Gallon Including Taxes</td>\n",
       "      <td>AVG</td>\n",
       "    </tr>\n",
       "    <tr>\n",
       "      <th>...</th>\n",
       "      <td>...</td>\n",
       "      <td>...</td>\n",
       "      <td>...</td>\n",
       "      <td>...</td>\n",
       "      <td>...</td>\n",
       "      <td>...</td>\n",
       "      <td>...</td>\n",
       "    </tr>\n",
       "    <tr>\n",
       "      <th>5267</th>\n",
       "      <td>DFONUUS</td>\n",
       "      <td>202107</td>\n",
       "      <td>3.339</td>\n",
       "      <td>8</td>\n",
       "      <td>On-Highway Diesel Fuel Price</td>\n",
       "      <td>Dollars per Gallon Including Taxes</td>\n",
       "      <td></td>\n",
       "    </tr>\n",
       "    <tr>\n",
       "      <th>5268</th>\n",
       "      <td>DFONUUS</td>\n",
       "      <td>202108</td>\n",
       "      <td>3.35</td>\n",
       "      <td>8</td>\n",
       "      <td>On-Highway Diesel Fuel Price</td>\n",
       "      <td>Dollars per Gallon Including Taxes</td>\n",
       "      <td></td>\n",
       "    </tr>\n",
       "    <tr>\n",
       "      <th>5269</th>\n",
       "      <td>DFONUUS</td>\n",
       "      <td>202109</td>\n",
       "      <td>3.384</td>\n",
       "      <td>8</td>\n",
       "      <td>On-Highway Diesel Fuel Price</td>\n",
       "      <td>Dollars per Gallon Including Taxes</td>\n",
       "      <td></td>\n",
       "    </tr>\n",
       "    <tr>\n",
       "      <th>5270</th>\n",
       "      <td>DFONUUS</td>\n",
       "      <td>202110</td>\n",
       "      <td>3.612</td>\n",
       "      <td>8</td>\n",
       "      <td>On-Highway Diesel Fuel Price</td>\n",
       "      <td>Dollars per Gallon Including Taxes</td>\n",
       "      <td></td>\n",
       "    </tr>\n",
       "    <tr>\n",
       "      <th>5271</th>\n",
       "      <td>DFONUUS</td>\n",
       "      <td>202111</td>\n",
       "      <td>3.727</td>\n",
       "      <td>8</td>\n",
       "      <td>On-Highway Diesel Fuel Price</td>\n",
       "      <td>Dollars per Gallon Including Taxes</td>\n",
       "      <td></td>\n",
       "    </tr>\n",
       "  </tbody>\n",
       "</table>\n",
       "<p>5272 rows × 7 columns</p>\n",
       "</div>"
      ],
      "text/plain": [
       "          MSN  YYYYMM  Value  Column_Order  \\\n",
       "0     RLUCUUS  194913  0.268             1   \n",
       "1     RLUCUUS  195013  0.268             1   \n",
       "2     RLUCUUS  195113  0.272             1   \n",
       "3     RLUCUUS  195213  0.274             1   \n",
       "4     RLUCUUS  195313  0.287             1   \n",
       "...       ...     ...    ...           ...   \n",
       "5267  DFONUUS  202107  3.339             8   \n",
       "5268  DFONUUS  202108   3.35             8   \n",
       "5269  DFONUUS  202109  3.384             8   \n",
       "5270  DFONUUS  202110  3.612             8   \n",
       "5271  DFONUUS  202111  3.727             8   \n",
       "\n",
       "                                            Description  \\\n",
       "0     Leaded Regular Gasoline, U.S. City Average Ret...   \n",
       "1     Leaded Regular Gasoline, U.S. City Average Ret...   \n",
       "2     Leaded Regular Gasoline, U.S. City Average Ret...   \n",
       "3     Leaded Regular Gasoline, U.S. City Average Ret...   \n",
       "4     Leaded Regular Gasoline, U.S. City Average Ret...   \n",
       "...                                                 ...   \n",
       "5267                       On-Highway Diesel Fuel Price   \n",
       "5268                       On-Highway Diesel Fuel Price   \n",
       "5269                       On-Highway Diesel Fuel Price   \n",
       "5270                       On-Highway Diesel Fuel Price   \n",
       "5271                       On-Highway Diesel Fuel Price   \n",
       "\n",
       "                                    Unit Data Type  \n",
       "0     Dollars per Gallon Including Taxes       AVG  \n",
       "1     Dollars per Gallon Including Taxes       AVG  \n",
       "2     Dollars per Gallon Including Taxes       AVG  \n",
       "3     Dollars per Gallon Including Taxes       AVG  \n",
       "4     Dollars per Gallon Including Taxes       AVG  \n",
       "...                                  ...       ...  \n",
       "5267  Dollars per Gallon Including Taxes            \n",
       "5268  Dollars per Gallon Including Taxes            \n",
       "5269  Dollars per Gallon Including Taxes            \n",
       "5270  Dollars per Gallon Including Taxes            \n",
       "5271  Dollars per Gallon Including Taxes            \n",
       "\n",
       "[5272 rows x 7 columns]"
      ]
     },
     "execution_count": 43,
     "metadata": {},
     "output_type": "execute_result"
    }
   ],
   "source": [
    "pricedf"
   ]
  },
  {
   "cell_type": "code",
   "execution_count": 44,
   "metadata": {},
   "outputs": [],
   "source": [
    "def g(x):\n",
    "    x = str(x)\n",
    "    if x[-2:] == '13':\n",
    "        return x[:-2]\n",
    "    else:\n",
    "        return x[:-2] + \" \" + x[-2:]\n",
    "\n",
    "pricedf['YYYYMM'] = pricedf['YYYYMM'].apply(g)"
   ]
  },
  {
   "cell_type": "code",
   "execution_count": 45,
   "metadata": {},
   "outputs": [],
   "source": [
    "pricedf['YYYYMM'] = pd.to_datetime(pricedf['YYYYMM'])"
   ]
  },
  {
   "cell_type": "code",
   "execution_count": 46,
   "metadata": {},
   "outputs": [],
   "source": [
    "pricedf.rename(columns = {'YYYYMM': 'Year'}, inplace=True)"
   ]
  },
  {
   "cell_type": "code",
   "execution_count": 47,
   "metadata": {},
   "outputs": [
    {
     "data": {
      "text/plain": [
       "0      1949-01-01\n",
       "1      1950-01-01\n",
       "2      1951-01-01\n",
       "3      1952-01-01\n",
       "4      1953-01-01\n",
       "          ...    \n",
       "5267   2021-07-01\n",
       "5268   2021-08-01\n",
       "5269   2021-09-01\n",
       "5270   2021-10-01\n",
       "5271   2021-11-01\n",
       "Name: Year, Length: 5272, dtype: datetime64[ns]"
      ]
     },
     "execution_count": 47,
     "metadata": {},
     "output_type": "execute_result"
    }
   ],
   "source": [
    "pd.to_datetime(pricedf['Year'])"
   ]
  },
  {
   "cell_type": "markdown",
   "metadata": {},
   "source": [
    "Now check to see what all of the `AVG` `Value` numbers look like."
   ]
  },
  {
   "cell_type": "code",
   "execution_count": 48,
   "metadata": {},
   "outputs": [
    {
     "data": {
      "text/plain": [
       "0       0.268\n",
       "1       0.268\n",
       "2       0.272\n",
       "3       0.274\n",
       "4       0.287\n",
       "        ...  \n",
       "5208    2.304\n",
       "5221     2.65\n",
       "5234    3.178\n",
       "5247    3.056\n",
       "5260    2.551\n",
       "Name: Value, Length: 576, dtype: object"
      ]
     },
     "execution_count": 48,
     "metadata": {},
     "output_type": "execute_result"
    }
   ],
   "source": [
    "pricedf[pricedf['Data Type']=='AVG']['Value']"
   ]
  },
  {
   "cell_type": "markdown",
   "metadata": {},
   "source": [
    "For the next step you'll want to \n",
    "\n",
    "1. try to convert a number to a float\n",
    "2. if the convertion doesn't work, then use not-a-number (`np.nan`)"
   ]
  },
  {
   "cell_type": "code",
   "execution_count": 49,
   "metadata": {},
   "outputs": [
    {
     "name": "stdout",
     "output_type": "stream",
     "text": [
      "oops, division by zero\n"
     ]
    }
   ],
   "source": [
    "try:\n",
    "    a = 1/0\n",
    "except:\n",
    "    print('oops, division by zero')"
   ]
  },
  {
   "cell_type": "code",
   "execution_count": 50,
   "metadata": {},
   "outputs": [],
   "source": [
    "def h(x):\n",
    "    try:\n",
    "        x = float(x)\n",
    "    except:\n",
    "        x = np.nan\n",
    "    return x"
   ]
  },
  {
   "cell_type": "code",
   "execution_count": 51,
   "metadata": {},
   "outputs": [],
   "source": [
    "pricedf['Value'] = pricedf['Value'].apply(h)"
   ]
  },
  {
   "cell_type": "markdown",
   "metadata": {},
   "source": [
    "Try using both the fuel average `AVG` and the vehicle `RLUCUUS`\n",
    "\n",
    "Here's a reminder:"
   ]
  },
  {
   "cell_type": "code",
   "execution_count": 52,
   "metadata": {},
   "outputs": [
    {
     "name": "stdout",
     "output_type": "stream",
     "text": [
      "<class 'pandas.core.frame.DataFrame'>\n",
      "DatetimeIndex: 3 entries, 2019-01-01 to 2019-03-01\n",
      "Data columns (total 2 columns):\n",
      " #   Column       Non-Null Count  Dtype  \n",
      "---  ------       --------------  -----  \n",
      " 0   temperature  3 non-null      int64  \n",
      " 1   snowfall     3 non-null      float64\n",
      "dtypes: float64(1), int64(1)\n",
      "memory usage: 72.0 bytes\n"
     ]
    },
    {
     "data": {
      "text/html": [
       "<div>\n",
       "<style scoped>\n",
       "    .dataframe tbody tr th:only-of-type {\n",
       "        vertical-align: middle;\n",
       "    }\n",
       "\n",
       "    .dataframe tbody tr th {\n",
       "        vertical-align: top;\n",
       "    }\n",
       "\n",
       "    .dataframe thead th {\n",
       "        text-align: right;\n",
       "    }\n",
       "</style>\n",
       "<table border=\"1\" class=\"dataframe\">\n",
       "  <thead>\n",
       "    <tr style=\"text-align: right;\">\n",
       "      <th></th>\n",
       "      <th>temperature</th>\n",
       "      <th>snowfall</th>\n",
       "    </tr>\n",
       "    <tr>\n",
       "      <th>month</th>\n",
       "      <th></th>\n",
       "      <th></th>\n",
       "    </tr>\n",
       "  </thead>\n",
       "  <tbody>\n",
       "    <tr>\n",
       "      <th>2019-01-01</th>\n",
       "      <td>20</td>\n",
       "      <td>12.5</td>\n",
       "    </tr>\n",
       "  </tbody>\n",
       "</table>\n",
       "</div>"
      ],
      "text/plain": [
       "            temperature  snowfall\n",
       "month                            \n",
       "2019-01-01           20      12.5"
      ]
     },
     "execution_count": 52,
     "metadata": {},
     "output_type": "execute_result"
    }
   ],
   "source": [
    "mydf.info()\n",
    "mydf[\n",
    "    (mydf['temperature'] == 20)\n",
    "    &\n",
    "    (mydf['snowfall'] == 12.5)\n",
    "]"
   ]
  },
  {
   "cell_type": "code",
   "execution_count": 53,
   "metadata": {},
   "outputs": [],
   "source": [
    "pricedf.set_index('Year', inplace=True)"
   ]
  },
  {
   "cell_type": "code",
   "execution_count": 54,
   "metadata": {},
   "outputs": [
    {
     "data": {
      "text/html": [
       "<div>\n",
       "<style scoped>\n",
       "    .dataframe tbody tr th:only-of-type {\n",
       "        vertical-align: middle;\n",
       "    }\n",
       "\n",
       "    .dataframe tbody tr th {\n",
       "        vertical-align: top;\n",
       "    }\n",
       "\n",
       "    .dataframe thead th {\n",
       "        text-align: right;\n",
       "    }\n",
       "</style>\n",
       "<table border=\"1\" class=\"dataframe\">\n",
       "  <thead>\n",
       "    <tr style=\"text-align: right;\">\n",
       "      <th></th>\n",
       "      <th>MSN</th>\n",
       "      <th>Value</th>\n",
       "      <th>Column_Order</th>\n",
       "      <th>Description</th>\n",
       "      <th>Unit</th>\n",
       "      <th>Data Type</th>\n",
       "    </tr>\n",
       "    <tr>\n",
       "      <th>Year</th>\n",
       "      <th></th>\n",
       "      <th></th>\n",
       "      <th></th>\n",
       "      <th></th>\n",
       "      <th></th>\n",
       "      <th></th>\n",
       "    </tr>\n",
       "  </thead>\n",
       "  <tbody>\n",
       "    <tr>\n",
       "      <th>1949-01-01</th>\n",
       "      <td>RLUCUUS</td>\n",
       "      <td>0.268</td>\n",
       "      <td>1</td>\n",
       "      <td>Leaded Regular Gasoline, U.S. City Average Ret...</td>\n",
       "      <td>Dollars per Gallon Including Taxes</td>\n",
       "      <td>AVG</td>\n",
       "    </tr>\n",
       "    <tr>\n",
       "      <th>1950-01-01</th>\n",
       "      <td>RLUCUUS</td>\n",
       "      <td>0.268</td>\n",
       "      <td>1</td>\n",
       "      <td>Leaded Regular Gasoline, U.S. City Average Ret...</td>\n",
       "      <td>Dollars per Gallon Including Taxes</td>\n",
       "      <td>AVG</td>\n",
       "    </tr>\n",
       "    <tr>\n",
       "      <th>1951-01-01</th>\n",
       "      <td>RLUCUUS</td>\n",
       "      <td>0.272</td>\n",
       "      <td>1</td>\n",
       "      <td>Leaded Regular Gasoline, U.S. City Average Ret...</td>\n",
       "      <td>Dollars per Gallon Including Taxes</td>\n",
       "      <td>AVG</td>\n",
       "    </tr>\n",
       "    <tr>\n",
       "      <th>1952-01-01</th>\n",
       "      <td>RLUCUUS</td>\n",
       "      <td>0.274</td>\n",
       "      <td>1</td>\n",
       "      <td>Leaded Regular Gasoline, U.S. City Average Ret...</td>\n",
       "      <td>Dollars per Gallon Including Taxes</td>\n",
       "      <td>AVG</td>\n",
       "    </tr>\n",
       "    <tr>\n",
       "      <th>1953-01-01</th>\n",
       "      <td>RLUCUUS</td>\n",
       "      <td>0.287</td>\n",
       "      <td>1</td>\n",
       "      <td>Leaded Regular Gasoline, U.S. City Average Ret...</td>\n",
       "      <td>Dollars per Gallon Including Taxes</td>\n",
       "      <td>AVG</td>\n",
       "    </tr>\n",
       "    <tr>\n",
       "      <th>...</th>\n",
       "      <td>...</td>\n",
       "      <td>...</td>\n",
       "      <td>...</td>\n",
       "      <td>...</td>\n",
       "      <td>...</td>\n",
       "      <td>...</td>\n",
       "    </tr>\n",
       "    <tr>\n",
       "      <th>2021-07-01</th>\n",
       "      <td>DFONUUS</td>\n",
       "      <td>3.339</td>\n",
       "      <td>8</td>\n",
       "      <td>On-Highway Diesel Fuel Price</td>\n",
       "      <td>Dollars per Gallon Including Taxes</td>\n",
       "      <td></td>\n",
       "    </tr>\n",
       "    <tr>\n",
       "      <th>2021-08-01</th>\n",
       "      <td>DFONUUS</td>\n",
       "      <td>3.350</td>\n",
       "      <td>8</td>\n",
       "      <td>On-Highway Diesel Fuel Price</td>\n",
       "      <td>Dollars per Gallon Including Taxes</td>\n",
       "      <td></td>\n",
       "    </tr>\n",
       "    <tr>\n",
       "      <th>2021-09-01</th>\n",
       "      <td>DFONUUS</td>\n",
       "      <td>3.384</td>\n",
       "      <td>8</td>\n",
       "      <td>On-Highway Diesel Fuel Price</td>\n",
       "      <td>Dollars per Gallon Including Taxes</td>\n",
       "      <td></td>\n",
       "    </tr>\n",
       "    <tr>\n",
       "      <th>2021-10-01</th>\n",
       "      <td>DFONUUS</td>\n",
       "      <td>3.612</td>\n",
       "      <td>8</td>\n",
       "      <td>On-Highway Diesel Fuel Price</td>\n",
       "      <td>Dollars per Gallon Including Taxes</td>\n",
       "      <td></td>\n",
       "    </tr>\n",
       "    <tr>\n",
       "      <th>2021-11-01</th>\n",
       "      <td>DFONUUS</td>\n",
       "      <td>3.727</td>\n",
       "      <td>8</td>\n",
       "      <td>On-Highway Diesel Fuel Price</td>\n",
       "      <td>Dollars per Gallon Including Taxes</td>\n",
       "      <td></td>\n",
       "    </tr>\n",
       "  </tbody>\n",
       "</table>\n",
       "<p>5272 rows × 6 columns</p>\n",
       "</div>"
      ],
      "text/plain": [
       "                MSN  Value  Column_Order  \\\n",
       "Year                                       \n",
       "1949-01-01  RLUCUUS  0.268             1   \n",
       "1950-01-01  RLUCUUS  0.268             1   \n",
       "1951-01-01  RLUCUUS  0.272             1   \n",
       "1952-01-01  RLUCUUS  0.274             1   \n",
       "1953-01-01  RLUCUUS  0.287             1   \n",
       "...             ...    ...           ...   \n",
       "2021-07-01  DFONUUS  3.339             8   \n",
       "2021-08-01  DFONUUS  3.350             8   \n",
       "2021-09-01  DFONUUS  3.384             8   \n",
       "2021-10-01  DFONUUS  3.612             8   \n",
       "2021-11-01  DFONUUS  3.727             8   \n",
       "\n",
       "                                                  Description  \\\n",
       "Year                                                            \n",
       "1949-01-01  Leaded Regular Gasoline, U.S. City Average Ret...   \n",
       "1950-01-01  Leaded Regular Gasoline, U.S. City Average Ret...   \n",
       "1951-01-01  Leaded Regular Gasoline, U.S. City Average Ret...   \n",
       "1952-01-01  Leaded Regular Gasoline, U.S. City Average Ret...   \n",
       "1953-01-01  Leaded Regular Gasoline, U.S. City Average Ret...   \n",
       "...                                                       ...   \n",
       "2021-07-01                       On-Highway Diesel Fuel Price   \n",
       "2021-08-01                       On-Highway Diesel Fuel Price   \n",
       "2021-09-01                       On-Highway Diesel Fuel Price   \n",
       "2021-10-01                       On-Highway Diesel Fuel Price   \n",
       "2021-11-01                       On-Highway Diesel Fuel Price   \n",
       "\n",
       "                                          Unit Data Type  \n",
       "Year                                                      \n",
       "1949-01-01  Dollars per Gallon Including Taxes       AVG  \n",
       "1950-01-01  Dollars per Gallon Including Taxes       AVG  \n",
       "1951-01-01  Dollars per Gallon Including Taxes       AVG  \n",
       "1952-01-01  Dollars per Gallon Including Taxes       AVG  \n",
       "1953-01-01  Dollars per Gallon Including Taxes       AVG  \n",
       "...                                        ...       ...  \n",
       "2021-07-01  Dollars per Gallon Including Taxes            \n",
       "2021-08-01  Dollars per Gallon Including Taxes            \n",
       "2021-09-01  Dollars per Gallon Including Taxes            \n",
       "2021-10-01  Dollars per Gallon Including Taxes            \n",
       "2021-11-01  Dollars per Gallon Including Taxes            \n",
       "\n",
       "[5272 rows x 6 columns]"
      ]
     },
     "execution_count": 54,
     "metadata": {},
     "output_type": "execute_result"
    }
   ],
   "source": [
    "pricedf"
   ]
  },
  {
   "cell_type": "code",
   "execution_count": 55,
   "metadata": {},
   "outputs": [],
   "source": [
    "unleaded_avg = pricedf[\n",
    "    (pricedf['MSN']=='RUUCUUS')\n",
    "    &\n",
    "    (pricedf['Data Type']=='AVG')\n",
    "]['Value']\n",
    "\n",
    "leaded_avg = pricedf[\n",
    "    (pricedf['MSN']=='RLUCUUS')\n",
    "    &\n",
    "    (pricedf['Data Type']=='AVG')\n",
    "]['Value']"
   ]
  },
  {
   "cell_type": "markdown",
   "metadata": {},
   "source": [
    " Plot the leaded and unleadded: `RLUCUUS` and `RUUCUUS`"
   ]
  },
  {
   "cell_type": "code",
   "execution_count": 56,
   "metadata": {},
   "outputs": [
    {
     "data": {
      "text/plain": [
       "<AxesSubplot:xlabel='Year'>"
      ]
     },
     "execution_count": 56,
     "metadata": {},
     "output_type": "execute_result"
    },
    {
     "data": {
      "image/png": "[encoded data removed]",
      "text/plain": [
       "<Figure size 432x288 with 1 Axes>"
      ]
     },
     "metadata": {},
     "output_type": "display_data"
    }
   ],
   "source": [
    "unleaded_avg.plot()"
   ]
  },
  {
   "cell_type": "code",
   "execution_count": 57,
   "metadata": {},
   "outputs": [
    {
     "data": {
      "text/plain": [
       "<AxesSubplot:xlabel='Year'>"
      ]
     },
     "execution_count": 57,
     "metadata": {},
     "output_type": "execute_result"
    },
    {
     "data": {
      "image/png": "[encoded data removed]",
      "text/plain": [
       "<Figure size 432x288 with 1 Axes>"
      ]
     },
     "metadata": {},
     "output_type": "display_data"
    }
   ],
   "source": [
    "leaded_avg.plot()"
   ]
  },
  {
   "cell_type": "markdown",
   "metadata": {},
   "source": [
    "Make a new data frame for unleaded and set the `Date` as the index"
   ]
  },
  {
   "cell_type": "code",
   "execution_count": 58,
   "metadata": {},
   "outputs": [],
   "source": [
    "unleaded = pricedf[pricedf['MSN']=='RUUCUUS']['Value']"
   ]
  },
  {
   "cell_type": "markdown",
   "metadata": {},
   "source": [
    "Now plot the values and the rolling mean (say every 4 years as an example)"
   ]
  },
  {
   "cell_type": "code",
   "execution_count": 59,
   "metadata": {},
   "outputs": [
    {
     "data": {
      "text/plain": [
       "Text(0, 0.5, '$/gal')"
      ]
     },
     "execution_count": 59,
     "metadata": {},
     "output_type": "execute_result"
    },
    {
     "data": {
      "image/png": "[encoded data removed]",
      "text/plain": [
       "<Figure size 432x432 with 1 Axes>"
      ]
     },
     "metadata": {},
     "output_type": "display_data"
    }
   ],
   "source": [
    "fig = plt.figure(figsize=(6,6))\n",
    "ax = fig.gca()\n",
    "\n",
    "unleaded_avg.rolling(4).mean().plot(ax=ax)\n",
    "unleaded_avg.plot(ax=ax)\n",
    "\n",
    "ax.legend()\n",
    "plt.ylabel('$/gal')"
   ]
  },
  {
   "cell_type": "markdown",
   "metadata": {},
   "source": [
    "Make a new data frame for the `Real-World MPG` for `All Car` types:"
   ]
  },
  {
   "cell_type": "code",
   "execution_count": 60,
   "metadata": {},
   "outputs": [],
   "source": [
    "real_mpg = ecodf[\n",
    "    (ecodf['Vehicle Type']=='All Car')\n",
    "]['Real-World MPG']"
   ]
  },
  {
   "cell_type": "code",
   "execution_count": 61,
   "metadata": {},
   "outputs": [],
   "source": [
    "real_mpg.index.rename('Year', inplace=True)"
   ]
  },
  {
   "cell_type": "code",
   "execution_count": 62,
   "metadata": {},
   "outputs": [
    {
     "data": {
      "text/plain": [
       "Year\n",
       "1975-01-01    13.45483\n",
       "1976-01-01    14.86139\n",
       "1977-01-01    15.58566\n",
       "1978-01-01    16.93760\n",
       "1979-01-01    17.24016\n",
       "1980-01-01    20.01181\n",
       "1981-01-01    21.41607\n",
       "1982-01-01    22.20740\n",
       "1983-01-01    22.08496\n",
       "1984-01-01    22.42303\n",
       "1985-01-01    22.98880\n",
       "1986-01-01    23.69184\n",
       "1987-01-01    23.75972\n",
       "1988-01-01    24.08680\n",
       "1989-01-01    23.64929\n",
       "1990-01-01    23.29344\n",
       "1991-01-01    23.25777\n",
       "1992-01-01    22.87528\n",
       "1993-01-01    22.99937\n",
       "1994-01-01    23.01968\n",
       "1995-01-01    23.27497\n",
       "1996-01-01    23.11874\n",
       "1997-01-01    23.16579\n",
       "1998-01-01    23.01887\n",
       "1999-01-01    22.70095\n",
       "2000-01-01    22.51440\n",
       "2001-01-01    22.63423\n",
       "2002-01-01    22.78274\n",
       "2003-01-01    23.01383\n",
       "2004-01-01    22.85655\n",
       "2005-01-01    23.14616\n",
       "2006-01-01    23.02417\n",
       "2007-01-01    23.70115\n",
       "2008-01-01    23.87867\n",
       "2009-01-01    24.97415\n",
       "2010-01-01    25.70318\n",
       "2011-01-01    25.38827\n",
       "2012-01-01    26.87389\n",
       "2013-01-01    27.64926\n",
       "2014-01-01    27.62624\n",
       "2015-01-01    28.23955\n",
       "2016-01-01    28.52688\n",
       "2017-01-01    29.18757\n",
       "2018-01-01    29.88541\n",
       "2019-01-01    29.90685\n",
       "2020-01-01    30.65809\n",
       "2021-01-01    31.34905\n",
       "Name: Real-World MPG, dtype: float64"
      ]
     },
     "execution_count": 62,
     "metadata": {},
     "output_type": "execute_result"
    }
   ],
   "source": [
    "real_mpg"
   ]
  },
  {
   "cell_type": "code",
   "execution_count": 63,
   "metadata": {},
   "outputs": [
    {
     "data": {
      "text/plain": [
       "Year\n",
       "1949-01-01      NaN\n",
       "1950-01-01      NaN\n",
       "1951-01-01      NaN\n",
       "1952-01-01      NaN\n",
       "1953-01-01      NaN\n",
       "              ...  \n",
       "2016-01-01    2.142\n",
       "2017-01-01    2.408\n",
       "2018-01-01    2.735\n",
       "2019-01-01    2.636\n",
       "2020-01-01    2.174\n",
       "Name: Value, Length: 72, dtype: float64"
      ]
     },
     "execution_count": 63,
     "metadata": {},
     "output_type": "execute_result"
    }
   ],
   "source": [
    "unleaded_avg"
   ]
  },
  {
   "cell_type": "markdown",
   "metadata": {},
   "source": [
    "Now use `pdf.merge_asof`, paying close attention to `left_index`, `right_index`, and `direction`.\n",
    "\n",
    "This should make a new data frame:"
   ]
  },
  {
   "cell_type": "code",
   "execution_count": 64,
   "metadata": {},
   "outputs": [],
   "source": [
    "mpg_unleaded_df = pd.merge_asof(real_mpg, unleaded_avg, on='Year')"
   ]
  },
  {
   "cell_type": "code",
   "execution_count": 70,
   "metadata": {},
   "outputs": [
    {
     "data": {
      "text/html": [
       "<div>\n",
       "<style scoped>\n",
       "    .dataframe tbody tr th:only-of-type {\n",
       "        vertical-align: middle;\n",
       "    }\n",
       "\n",
       "    .dataframe tbody tr th {\n",
       "        vertical-align: top;\n",
       "    }\n",
       "\n",
       "    .dataframe thead th {\n",
       "        text-align: right;\n",
       "    }\n",
       "</style>\n",
       "<table border=\"1\" class=\"dataframe\">\n",
       "  <thead>\n",
       "    <tr style=\"text-align: right;\">\n",
       "      <th></th>\n",
       "      <th>Real-World MPG</th>\n",
       "      <th>Value</th>\n",
       "    </tr>\n",
       "    <tr>\n",
       "      <th>Year</th>\n",
       "      <th></th>\n",
       "      <th></th>\n",
       "    </tr>\n",
       "  </thead>\n",
       "  <tbody>\n",
       "    <tr>\n",
       "      <th>1975-01-01</th>\n",
       "      <td>13.45483</td>\n",
       "      <td>NaN</td>\n",
       "    </tr>\n",
       "    <tr>\n",
       "      <th>1976-01-01</th>\n",
       "      <td>14.86139</td>\n",
       "      <td>0.614</td>\n",
       "    </tr>\n",
       "    <tr>\n",
       "      <th>1977-01-01</th>\n",
       "      <td>15.58566</td>\n",
       "      <td>0.656</td>\n",
       "    </tr>\n",
       "    <tr>\n",
       "      <th>1978-01-01</th>\n",
       "      <td>16.93760</td>\n",
       "      <td>0.670</td>\n",
       "    </tr>\n",
       "    <tr>\n",
       "      <th>1979-01-01</th>\n",
       "      <td>17.24016</td>\n",
       "      <td>0.903</td>\n",
       "    </tr>\n",
       "    <tr>\n",
       "      <th>1980-01-01</th>\n",
       "      <td>20.01181</td>\n",
       "      <td>1.245</td>\n",
       "    </tr>\n",
       "    <tr>\n",
       "      <th>1981-01-01</th>\n",
       "      <td>21.41607</td>\n",
       "      <td>1.378</td>\n",
       "    </tr>\n",
       "    <tr>\n",
       "      <th>1982-01-01</th>\n",
       "      <td>22.20740</td>\n",
       "      <td>1.296</td>\n",
       "    </tr>\n",
       "    <tr>\n",
       "      <th>1983-01-01</th>\n",
       "      <td>22.08496</td>\n",
       "      <td>1.241</td>\n",
       "    </tr>\n",
       "    <tr>\n",
       "      <th>1984-01-01</th>\n",
       "      <td>22.42303</td>\n",
       "      <td>1.212</td>\n",
       "    </tr>\n",
       "    <tr>\n",
       "      <th>1985-01-01</th>\n",
       "      <td>22.98880</td>\n",
       "      <td>1.202</td>\n",
       "    </tr>\n",
       "    <tr>\n",
       "      <th>1986-01-01</th>\n",
       "      <td>23.69184</td>\n",
       "      <td>0.927</td>\n",
       "    </tr>\n",
       "    <tr>\n",
       "      <th>1987-01-01</th>\n",
       "      <td>23.75972</td>\n",
       "      <td>0.948</td>\n",
       "    </tr>\n",
       "    <tr>\n",
       "      <th>1988-01-01</th>\n",
       "      <td>24.08680</td>\n",
       "      <td>0.946</td>\n",
       "    </tr>\n",
       "    <tr>\n",
       "      <th>1989-01-01</th>\n",
       "      <td>23.64929</td>\n",
       "      <td>1.022</td>\n",
       "    </tr>\n",
       "    <tr>\n",
       "      <th>1990-01-01</th>\n",
       "      <td>23.29344</td>\n",
       "      <td>1.164</td>\n",
       "    </tr>\n",
       "    <tr>\n",
       "      <th>1991-01-01</th>\n",
       "      <td>23.25777</td>\n",
       "      <td>1.140</td>\n",
       "    </tr>\n",
       "    <tr>\n",
       "      <th>1992-01-01</th>\n",
       "      <td>22.87528</td>\n",
       "      <td>1.127</td>\n",
       "    </tr>\n",
       "    <tr>\n",
       "      <th>1993-01-01</th>\n",
       "      <td>22.99937</td>\n",
       "      <td>1.108</td>\n",
       "    </tr>\n",
       "    <tr>\n",
       "      <th>1994-01-01</th>\n",
       "      <td>23.01968</td>\n",
       "      <td>1.112</td>\n",
       "    </tr>\n",
       "    <tr>\n",
       "      <th>1995-01-01</th>\n",
       "      <td>23.27497</td>\n",
       "      <td>1.147</td>\n",
       "    </tr>\n",
       "    <tr>\n",
       "      <th>1996-01-01</th>\n",
       "      <td>23.11874</td>\n",
       "      <td>1.231</td>\n",
       "    </tr>\n",
       "    <tr>\n",
       "      <th>1997-01-01</th>\n",
       "      <td>23.16579</td>\n",
       "      <td>1.234</td>\n",
       "    </tr>\n",
       "    <tr>\n",
       "      <th>1998-01-01</th>\n",
       "      <td>23.01887</td>\n",
       "      <td>1.059</td>\n",
       "    </tr>\n",
       "    <tr>\n",
       "      <th>1999-01-01</th>\n",
       "      <td>22.70095</td>\n",
       "      <td>1.165</td>\n",
       "    </tr>\n",
       "    <tr>\n",
       "      <th>2000-01-01</th>\n",
       "      <td>22.51440</td>\n",
       "      <td>1.510</td>\n",
       "    </tr>\n",
       "    <tr>\n",
       "      <th>2001-01-01</th>\n",
       "      <td>22.63423</td>\n",
       "      <td>1.461</td>\n",
       "    </tr>\n",
       "    <tr>\n",
       "      <th>2002-01-01</th>\n",
       "      <td>22.78274</td>\n",
       "      <td>1.358</td>\n",
       "    </tr>\n",
       "    <tr>\n",
       "      <th>2003-01-01</th>\n",
       "      <td>23.01383</td>\n",
       "      <td>1.591</td>\n",
       "    </tr>\n",
       "    <tr>\n",
       "      <th>2004-01-01</th>\n",
       "      <td>22.85655</td>\n",
       "      <td>1.880</td>\n",
       "    </tr>\n",
       "    <tr>\n",
       "      <th>2005-01-01</th>\n",
       "      <td>23.14616</td>\n",
       "      <td>2.295</td>\n",
       "    </tr>\n",
       "    <tr>\n",
       "      <th>2006-01-01</th>\n",
       "      <td>23.02417</td>\n",
       "      <td>2.589</td>\n",
       "    </tr>\n",
       "    <tr>\n",
       "      <th>2007-01-01</th>\n",
       "      <td>23.70115</td>\n",
       "      <td>2.801</td>\n",
       "    </tr>\n",
       "    <tr>\n",
       "      <th>2008-01-01</th>\n",
       "      <td>23.87867</td>\n",
       "      <td>3.266</td>\n",
       "    </tr>\n",
       "    <tr>\n",
       "      <th>2009-01-01</th>\n",
       "      <td>24.97415</td>\n",
       "      <td>2.350</td>\n",
       "    </tr>\n",
       "    <tr>\n",
       "      <th>2010-01-01</th>\n",
       "      <td>25.70318</td>\n",
       "      <td>2.788</td>\n",
       "    </tr>\n",
       "    <tr>\n",
       "      <th>2011-01-01</th>\n",
       "      <td>25.38827</td>\n",
       "      <td>3.527</td>\n",
       "    </tr>\n",
       "    <tr>\n",
       "      <th>2012-01-01</th>\n",
       "      <td>26.87389</td>\n",
       "      <td>3.644</td>\n",
       "    </tr>\n",
       "    <tr>\n",
       "      <th>2013-01-01</th>\n",
       "      <td>27.64926</td>\n",
       "      <td>3.526</td>\n",
       "    </tr>\n",
       "    <tr>\n",
       "      <th>2014-01-01</th>\n",
       "      <td>27.62624</td>\n",
       "      <td>3.367</td>\n",
       "    </tr>\n",
       "    <tr>\n",
       "      <th>2015-01-01</th>\n",
       "      <td>28.23955</td>\n",
       "      <td>2.448</td>\n",
       "    </tr>\n",
       "    <tr>\n",
       "      <th>2016-01-01</th>\n",
       "      <td>28.52688</td>\n",
       "      <td>2.142</td>\n",
       "    </tr>\n",
       "    <tr>\n",
       "      <th>2017-01-01</th>\n",
       "      <td>29.18757</td>\n",
       "      <td>2.408</td>\n",
       "    </tr>\n",
       "    <tr>\n",
       "      <th>2018-01-01</th>\n",
       "      <td>29.88541</td>\n",
       "      <td>2.735</td>\n",
       "    </tr>\n",
       "    <tr>\n",
       "      <th>2019-01-01</th>\n",
       "      <td>29.90685</td>\n",
       "      <td>2.636</td>\n",
       "    </tr>\n",
       "    <tr>\n",
       "      <th>2020-01-01</th>\n",
       "      <td>30.65809</td>\n",
       "      <td>2.174</td>\n",
       "    </tr>\n",
       "    <tr>\n",
       "      <th>2021-01-01</th>\n",
       "      <td>31.34905</td>\n",
       "      <td>2.174</td>\n",
       "    </tr>\n",
       "  </tbody>\n",
       "</table>\n",
       "</div>"
      ],
      "text/plain": [
       "            Real-World MPG  Value\n",
       "Year                             \n",
       "1975-01-01        13.45483    NaN\n",
       "1976-01-01        14.86139  0.614\n",
       "1977-01-01        15.58566  0.656\n",
       "1978-01-01        16.93760  0.670\n",
       "1979-01-01        17.24016  0.903\n",
       "1980-01-01        20.01181  1.245\n",
       "1981-01-01        21.41607  1.378\n",
       "1982-01-01        22.20740  1.296\n",
       "1983-01-01        22.08496  1.241\n",
       "1984-01-01        22.42303  1.212\n",
       "1985-01-01        22.98880  1.202\n",
       "1986-01-01        23.69184  0.927\n",
       "1987-01-01        23.75972  0.948\n",
       "1988-01-01        24.08680  0.946\n",
       "1989-01-01        23.64929  1.022\n",
       "1990-01-01        23.29344  1.164\n",
       "1991-01-01        23.25777  1.140\n",
       "1992-01-01        22.87528  1.127\n",
       "1993-01-01        22.99937  1.108\n",
       "1994-01-01        23.01968  1.112\n",
       "1995-01-01        23.27497  1.147\n",
       "1996-01-01        23.11874  1.231\n",
       "1997-01-01        23.16579  1.234\n",
       "1998-01-01        23.01887  1.059\n",
       "1999-01-01        22.70095  1.165\n",
       "2000-01-01        22.51440  1.510\n",
       "2001-01-01        22.63423  1.461\n",
       "2002-01-01        22.78274  1.358\n",
       "2003-01-01        23.01383  1.591\n",
       "2004-01-01        22.85655  1.880\n",
       "2005-01-01        23.14616  2.295\n",
       "2006-01-01        23.02417  2.589\n",
       "2007-01-01        23.70115  2.801\n",
       "2008-01-01        23.87867  3.266\n",
       "2009-01-01        24.97415  2.350\n",
       "2010-01-01        25.70318  2.788\n",
       "2011-01-01        25.38827  3.527\n",
       "2012-01-01        26.87389  3.644\n",
       "2013-01-01        27.64926  3.526\n",
       "2014-01-01        27.62624  3.367\n",
       "2015-01-01        28.23955  2.448\n",
       "2016-01-01        28.52688  2.142\n",
       "2017-01-01        29.18757  2.408\n",
       "2018-01-01        29.88541  2.735\n",
       "2019-01-01        29.90685  2.636\n",
       "2020-01-01        30.65809  2.174\n",
       "2021-01-01        31.34905  2.174"
      ]
     },
     "execution_count": 70,
     "metadata": {},
     "output_type": "execute_result"
    }
   ],
   "source": [
    "mpg_unleaded_df"
   ]
  },
  {
   "cell_type": "code",
   "execution_count": null,
   "metadata": {},
   "outputs": [],
   "source": [
    "mpg_unleaded_df.set_index('Year',inplace=True)"
   ]
  },
  {
   "cell_type": "markdown",
   "metadata": {},
   "source": [
    "Now plot the rolling mean and try to use two axis (a secondary `y`) for the MPG and the price of gas."
   ]
  },
  {
   "cell_type": "code",
   "execution_count": 71,
   "metadata": {},
   "outputs": [
    {
     "data": {
      "text/plain": [
       "Text(0.5, 0, 'Year')"
      ]
     },
     "execution_count": 71,
     "metadata": {},
     "output_type": "execute_result"
    },
    {
     "data": {
      "image/png": "[encoded data removed]",
      "text/plain": [
       "<Figure size 432x432 with 1 Axes>"
      ]
     },
     "metadata": {},
     "output_type": "display_data"
    }
   ],
   "source": [
    "fig = plt.figure(figsize=(6,6))\n",
    "ax = fig.gca()\n",
    "\n",
    "mpg_unleaded_df[['Real-World MPG', 'Value']].rolling(4).mean().plot(ax=ax)\n",
    "ax.legend()\n",
    "ax.set_xlabel('Year')"
   ]
  },
  {
   "cell_type": "markdown",
   "metadata": {},
   "source": [
    "Challenge problem: find the correlation and use `jointplot`"
   ]
  },
  {
   "cell_type": "code",
   "execution_count": null,
   "metadata": {},
   "outputs": [],
   "source": []
  },
  {
   "cell_type": "code",
   "execution_count": null,
   "metadata": {},
   "outputs": [],
   "source": []
  }
 ],
 "metadata": {
  "kernelspec": {
   "display_name": "Python 3 (ipykernel)",
   "language": "python",
   "name": "python3"
  },
  "language_info": {
   "codemirror_mode": {
    "name": "ipython",
    "version": 3
   },
   "file_extension": ".py",
   "mimetype": "text/x-python",
   "name": "python",
   "nbconvert_exporter": "python",
   "pygments_lexer": "ipython3",
   "version": "3.10.1"
  }
 },
 "nbformat": 4,
 "nbformat_minor": 4
}
