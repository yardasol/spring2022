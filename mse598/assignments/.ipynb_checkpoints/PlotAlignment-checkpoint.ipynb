{
 "cells": [
  {
   "cell_type": "markdown",
   "metadata": {},
   "source": [
    "I tried to run locally and there are some bugs. My guess is there has been an API change in matplotlib since this notebook was made"
   ]
  },
  {
   "cell_type": "markdown",
   "metadata": {
    "collapsed": true,
    "id": "7S13-fQ5ojry"
   },
   "source": [
    "This notebook plots the band alignment of materials using the data from Materials Project."
   ]
  },
  {
   "cell_type": "code",
   "execution_count": 2,
   "metadata": {
    "colab": {
     "base_uri": "https://localhost:8080/",
     "height": 353
    },
    "executionInfo": {
     "elapsed": 24419,
     "status": "error",
     "timestamp": 1645678516873,
     "user": {
      "displayName": "André Schleife",
      "photoUrl": "https://lh3.googleusercontent.com/a-/AOh14GjMcLsM-y79vKYbHmAc-VqmbDAcBuQglrKSXRWXVg=s64",
      "userId": "13005551425443784760"
     },
     "user_tz": 360
    },
    "id": "_-Wyhn6bojr3",
    "outputId": "1dc8056f-3953-41df-f362-5bd9ea93c146"
   },
   "outputs": [],
   "source": [
    "import math\n",
    "import numpy as np\n",
    "import matplotlib.pyplot as plt\n",
    "import bisect\n",
    "import itertools\n",
    "import copy\n",
    "import operator\n",
    "from matplotlib.ticker import AutoMinorLocator\n",
    "import matplotlib as mpl\n",
    "mpl.rcParams['axes.linewidth'] = 2.0\n",
    "csfont = {'fontname':'Times New Roman'}\n",
    "#from google.colab import drive\n",
    "#drive.mount('/content/drive')"
   ]
  },
  {
   "cell_type": "markdown",
   "metadata": {
    "id": "AMPg_uLQojr4"
   },
   "source": [
    "In the next cell, specify the MPIDs for he desired materials.  Order is not important, they will be sorted automatically."
   ]
  },
  {
   "cell_type": "code",
   "execution_count": 3,
   "metadata": {
    "id": "8aS7VdhPojr4"
   },
   "outputs": [],
   "source": [
    "#IDsToPlot=[886,554278,352,10390,19342,5238,4840,3839,19833,22386,22736,22811,546794,19921,856,570136,22883,1143,2920,\n",
    "#           661,672,804,22205,7631,2133,2172,1550,2624,2691,406,2534,2490,1156,20305,20012,10695,1190,2176,361,1132,\n",
    "#           23251,1265,715434,32,149]\n",
    "IDsToPlot=[886,554278,352,10390]"
   ]
  },
  {
   "cell_type": "markdown",
   "metadata": {
    "id": "0GyxomAIojr4"
   },
   "source": [
    "The next slide is the main section."
   ]
  },
  {
   "cell_type": "code",
   "execution_count": 21,
   "metadata": {
    "colab": {
     "base_uri": "https://localhost:8080/",
     "height": 579
    },
    "executionInfo": {
     "elapsed": 3096,
     "status": "ok",
     "timestamp": 1614879277199,
     "user": {
      "displayName": "André Schleife",
      "photoUrl": "https://lh3.googleusercontent.com/a-/AOh14GjMcLsM-y79vKYbHmAc-VqmbDAcBuQglrKSXRWXVg=s64",
      "userId": "13005551425443784760"
     },
     "user_tz": 360
    },
    "id": "_AHMpafVojr5",
    "outputId": "eb083442-3d66-40c1-d6c9-b02b04243c06"
   },
   "outputs": [
    {
     "name": "stdout",
     "output_type": "stream",
     "text": [
      "[886, -3.2988920000000004, 0.32089199999999973, \"b'Ga2O3'\", 12]\n",
      "[554278, -1.3952142856999998, 1.7762142856999992, \"b'TiO2'\", 12]\n",
      "[352, -2.88, 3.0199999999999996, \"b'HfO2'\", 14]\n",
      "[10390, -1.2249980000000007, 1.340998, \"b'Ta2O5'\", 15]\n"
     ]
    },
    {
     "data": {
      "text/plain": [
       "[<matplotlib.lines.Line2D at 0x7ff6ed204100>]"
      ]
     },
     "execution_count": 21,
     "metadata": {},
     "output_type": "execute_result"
    },
    {
     "data": {
      "image/png": "[encoded data removed]",
      "text/plain": [
       "<Figure size 432x288 with 1 Axes>"
      ]
     },
     "metadata": {
      "needs_background": "light"
     },
     "output_type": "display_data"
    }
   ],
   "source": [
    "#ExpDat=np.genfromtxt('UserCNLData_Exp.txt')\n",
    "ExpDat=[]\n",
    "ExpCNL=[]\n",
    "MPData=np.genfromtxt('/home/ooblack/school/spring2022/mse598/assignments/CNData_DensityEHullNAt_CompENeg_GapCorrCNL0.txt',dtype=None,encoding=None) #MP data with gap correction, CNL at 0\n",
    "AllIDs=[]\n",
    "AllCNLs=[]\n",
    "AllGaps=[]\n",
    "AllVBMs=[]\n",
    "\n",
    "for i in range(0,len(MPData)):\n",
    "    AllIDs.append(MPData[i][0])\n",
    "    AllCNLs.append(MPData[i][1])\n",
    "    AllGaps.append(MPData[i][2])\n",
    "    AllVBMs.append(MPData[i][4])\n",
    "    \n",
    "FilteredIDs=np.array([i[0] for i in MPData])\n",
    "FilteredDataIndices=[np.where(FilteredIDs==a)[0] for a in IDsToPlot]\n",
    "FilteredDataIndices=[item for sublist in FilteredDataIndices for item in sublist]\n",
    "\n",
    "#Import list of descriptors for sym group and list of chemical formulas\n",
    "#both these files have the same indexing\n",
    "DescriptorsData=np.genfromtxt('/home/ooblack/school/spring2022/mse598/assignments/Descriptors.txt',dtype=None,encoding=None)\n",
    "Formulas=np.genfromtxt('/home/ooblack/school/spring2022/mse598/assignments/ChemComps.txt',dtype=None,encoding=None) #Only need chemical formulas, not separated names\n",
    "allIDs=np.array([i[0] for i in DescriptorsData])\n",
    "FullDataIndices=[np.where(allIDs==a)[0] for a in IDsToPlot]\n",
    "FullDataIndices=[x for sublist in FullDataIndices for x in sublist]\n",
    "\n",
    "#Collect MPID,VBM,CBM,Formula,SymGroup#\n",
    "AllData=[[i,MPData[b][4],MPData[b][5],MPData[b][7],DescriptorsData[c][4]] for (i,b,c) in zip(IDsToPlot,FilteredDataIndices,FullDataIndices)]\n",
    "for item in AllData:\n",
    "    print(item)\n",
    "AllData.sort(key = operator.itemgetter(4, 3)) #Sort by sym group number then by name\n",
    "#for i in range(0,len(AllData)):\n",
    "#    print AllData[i]\n",
    "MPVBM=[AllData[a][1] for a in range(0,len(AllData))]\n",
    "MPCBM=[AllData[a][2] for a in range(0,len(AllData))]\n",
    "\n",
    "#Put user data into arrays and shifts CNL for comparison with MP\n",
    "for i in range(0,len(AllData)):   \n",
    "    if AllData[i][0] in ExpDat:\n",
    "        ind1=np.where(ExpDat==AllData[i][0])[0][0]\n",
    "        ExpCNL.append(ExpDat[ind1][1]+AllData[i][1])\n",
    "        #print(AllData[i][0],AllData[i][3])\n",
    "    else:\n",
    "        ExpCNL.append(1000.0)\n",
    "\n",
    "#print CitrineErr      \n",
    "lowerVBM=[-1000]*len(AllData) #For bar plotting purposes\n",
    "upperCBM=[1000]*len(AllData)\n",
    "\n",
    "#hfont = {'fontname':'Times New Roman'}\n",
    "x=np.arange(len(AllData))\n",
    "xticks=[]\n",
    "y=np.arange(-10,10,1)\n",
    "yticks=np.arange(-10,10,1)\n",
    "for i in np.arange(0,len(AllData)):\n",
    "    xticks.append(AllData[i][3])\n",
    "#print(xticks)\n",
    "plt.xticks(rotation=90)\n",
    "plt.bar(x,lowerVBM,1.0,bottom=MPVBM,color='b',alpha=0.8,align='center',edgecolor='b',label='Materials Project Bands')\n",
    "plt.bar(x,upperCBM,1.0,bottom=MPCBM,color='r',alpha=0.8,edgecolor='r',align='center')\n",
    "plt.plot(x,ExpCNL,linestyle='None',marker='h',color='m',markersize=12,label=r'E$_{CN,Exp}$')"
   ]
  },
  {
   "cell_type": "code",
   "execution_count": 17,
   "metadata": {
    "colab": {
     "base_uri": "https://localhost:8080/",
     "height": 579
    },
    "executionInfo": {
     "elapsed": 3096,
     "status": "ok",
     "timestamp": 1614879277199,
     "user": {
      "displayName": "André Schleife",
      "photoUrl": "https://lh3.googleusercontent.com/a-/AOh14GjMcLsM-y79vKYbHmAc-VqmbDAcBuQglrKSXRWXVg=s64",
      "userId": "13005551425443784760"
     },
     "user_tz": 360
    },
    "id": "_AHMpafVojr5",
    "outputId": "eb083442-3d66-40c1-d6c9-b02b04243c06"
   },
   "outputs": [
    {
     "data": {
      "image/png": "[encoded data removed]",
      "text/plain": [
       "<Figure size 432x288 with 1 Axes>"
      ]
     },
     "metadata": {
      "needs_background": "light"
     },
     "output_type": "display_data"
    }
   ],
   "source": [
    "ml = AutoMinorLocator(4)\n",
    "plt.tick_params(which='both', width=2)\n",
    "plt.tick_params(which='major', length=6)\n",
    "plt.tick_params(which='minor', length=4)"
   ]
  },
  {
   "cell_type": "code",
   "execution_count": 18,
   "metadata": {
    "colab": {
     "base_uri": "https://localhost:8080/",
     "height": 579
    },
    "executionInfo": {
     "elapsed": 3096,
     "status": "ok",
     "timestamp": 1614879277199,
     "user": {
      "displayName": "André Schleife",
      "photoUrl": "https://lh3.googleusercontent.com/a-/AOh14GjMcLsM-y79vKYbHmAc-VqmbDAcBuQglrKSXRWXVg=s64",
      "userId": "13005551425443784760"
     },
     "user_tz": 360
    },
    "id": "_AHMpafVojr5",
    "outputId": "eb083442-3d66-40c1-d6c9-b02b04243c06"
   },
   "outputs": [
    {
     "data": {
      "image/png": "[encoded data removed]",
      "text/plain": [
       "<Figure size 432x288 with 2 Axes>"
      ]
     },
     "metadata": {
      "needs_background": "light"
     },
     "output_type": "display_data"
    }
   ],
   "source": [
    "plt.plot([-10,max(x)+10],[0,0],'--k',linewidth=2.0)\n",
    "plt.xticks(x, xticks, fontsize=20,**csfont)\n",
    "plt.yticks(y,yticks,fontsize=28,**csfont)\n",
    "plt.gca().xaxis.grid(True,linestyle='--',linewidth=2.0)\n",
    "plt.axis([-.5, len(AllData)-.5, -6,4])\n",
    "plt.ylabel(r\"$\\rm{E-E_\\mathrm{BP} (eV)}$\",fontsize=40,**csfont)\n",
    "plt.tick_params(axis='both', which='major', labelsize=20)\n",
    "plt.axes().yaxis.set_minor_locator(ml)\n",
    "plt.show() "
   ]
  },
  {
   "cell_type": "code",
   "execution_count": 8,
   "metadata": {
    "id": "pYtV7lO_ojr6"
   },
   "outputs": [
    {
     "data": {
      "text/plain": [
       "array([(            1, 1.899815, 0.     , 116.166391, 229,  0.      , 5.323952, 5.323952, 5.323952, 1, False),\n",
       "       (            7, 1.688544, 0.06543, 189.199116, 148,  0.06543 , 6.639797, 6.639797, 6.639797, 6, False),\n",
       "       (            9, 4.551007, 0.02836,  32.439331, 225,  0.02836 , 3.579829, 3.579829, 3.579829, 1, False),\n",
       "       ...,\n",
       "       (2127600000500, 7.345706, 0.     ,  54.087227, 225, -0.874618, 4.244924, 4.244924, 4.244924, 2,  True),\n",
       "       (2127600000500, 7.345706, 0.     ,  54.087227, 225, -0.874618, 4.244924, 4.244924, 4.244924, 2,  True),\n",
       "       (2127600000500, 7.345706, 0.     ,  54.087227, 225, -0.874618, 4.244924, 4.244924, 4.244924, 2,  True)],\n",
       "      dtype=[('f0', '<i8'), ('f1', '<f8'), ('f2', '<f8'), ('f3', '<f8'), ('f4', '<i8'), ('f5', '<f8'), ('f6', '<f8'), ('f7', '<f8'), ('f8', '<f8'), ('f9', '<i8'), ('f10', '?')])"
      ]
     },
     "execution_count": 8,
     "metadata": {},
     "output_type": "execute_result"
    }
   ],
   "source": [
    "DescriptorsData"
   ]
  },
  {
   "cell_type": "code",
   "execution_count": 12,
   "metadata": {},
   "outputs": [
    {
     "data": {
      "text/plain": [
       "array([0, 1, 2, 3])"
      ]
     },
     "execution_count": 12,
     "metadata": {},
     "output_type": "execute_result"
    }
   ],
   "source": [
    "x"
   ]
  },
  {
   "cell_type": "code",
   "execution_count": 20,
   "metadata": {},
   "outputs": [
    {
     "data": {
      "text/plain": [
       "array([(            1, 'Cs'), (            7, 'S'), (            9, 'Y'),\n",
       "       ..., (     10000002, 'Cs2AgInCl6'), (   1000000000, 'ZnSnN2'),\n",
       "       (2127600000500, \"b'PbS'\")], dtype=[('f0', '<i8'), ('f1', '<U22')])"
      ]
     },
     "execution_count": 20,
     "metadata": {},
     "output_type": "execute_result"
    }
   ],
   "source": [
    "Formulas"
   ]
  },
  {
   "cell_type": "code",
   "execution_count": null,
   "metadata": {},
   "outputs": [],
   "source": []
  }
 ],
 "metadata": {
  "colab": {
   "name": "PlotAlignment.ipynb",
   "provenance": []
  },
  "kernelspec": {
   "display_name": "Python 3 (ipykernel)",
   "language": "python",
   "name": "python3"
  },
  "language_info": {
   "codemirror_mode": {
    "name": "ipython",
    "version": 3
   },
   "file_extension": ".py",
   "mimetype": "text/x-python",
   "name": "python",
   "nbconvert_exporter": "python",
   "pygments_lexer": "ipython3",
   "version": "3.10.2"
  }
 },
 "nbformat": 4,
 "nbformat_minor": 1
}
